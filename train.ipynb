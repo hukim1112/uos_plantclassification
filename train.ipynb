{
 "cells": [
  {
   "cell_type": "code",
   "execution_count": 11,
   "metadata": {},
   "outputs": [],
   "source": [
    "from data import PlantNet300K\n",
    "from models.ImageClassifier import EfficientB0\n",
    "from torch.utils.data import DataLoader\n",
    "\n",
    "from torch.optim import SGD\n",
    "from torch.nn import CrossEntropyLoss\n",
    "from models.ImageClassifier import EfficientB0"
   ]
  },
  {
   "cell_type": "code",
   "execution_count": 12,
   "metadata": {},
   "outputs": [],
   "source": [
    "from torchvision import transforms\n",
    "data_transforms = {\n",
    "    'train': transforms.Compose([\n",
    "        transforms.ToPILImage(),\n",
    "        transforms.Resize((256, 256)),\n",
    "        transforms.RandomHorizontalFlip(),\n",
    "        transforms.ToTensor()]),\n",
    "    'test': transforms.Compose([\n",
    "        transforms.ToPILImage(),\n",
    "        transforms.Resize((256, 256)),\n",
    "        transforms.ToTensor()]),\n",
    "}"
   ]
  },
  {
   "cell_type": "code",
   "execution_count": 7,
   "metadata": {},
   "outputs": [],
   "source": [
    "path = \"/home/cvlab/prj/docker/datasets/plantnet_300K/\"\n",
    "val_dataset = PlantNet300K(root=path, split=\"val\", transform=data_transforms['test'])\n",
    "class_to_name = val_dataset.class_to_name\n",
    "dataloader = DataLoader(val_dataset, batch_size=4,\n",
    "                        shuffle=False)"
   ]
  },
  {
   "cell_type": "code",
   "execution_count": 8,
   "metadata": {},
   "outputs": [],
   "source": [
    "for batch in dataloader:\n",
    "    images, classes = batch\n",
    "    break"
   ]
  },
  {
   "cell_type": "code",
   "execution_count": 9,
   "metadata": {},
   "outputs": [],
   "source": [
    "num_classes = 1024\n",
    "model = EfficientB0(num_classes, CrossEntropyLoss())"
   ]
  },
  {
   "cell_type": "code",
   "execution_count": 10,
   "metadata": {},
   "outputs": [
    {
     "data": {
      "text/plain": [
       "tensor([[ 0.2109, -0.6028,  0.1981,  ...,  0.3590,  0.2716, -0.0111],\n",
       "        [-0.0532,  0.1321, -0.9141,  ..., -0.3713, -0.1768, -0.0388],\n",
       "        [ 0.2994,  0.1260, -0.9609,  ...,  0.1499,  0.2055,  0.2381],\n",
       "        [-0.5214, -0.4023, -0.4761,  ...,  0.1292, -0.1484, -0.0432]],\n",
       "       grad_fn=<AddmmBackward0>)"
      ]
     },
     "execution_count": 10,
     "metadata": {},
     "output_type": "execute_result"
    }
   ],
   "source": [
    "model(images)"
   ]
  },
  {
   "cell_type": "code",
   "execution_count": null,
   "metadata": {},
   "outputs": [],
   "source": []
  }
 ],
 "metadata": {
  "kernelspec": {
   "display_name": "Python 3.9.13 ('vscode': venv)",
   "language": "python",
   "name": "python3"
  },
  "language_info": {
   "codemirror_mode": {
    "name": "ipython",
    "version": 3
   },
   "file_extension": ".py",
   "mimetype": "text/x-python",
   "name": "python",
   "nbconvert_exporter": "python",
   "pygments_lexer": "ipython3",
   "version": "3.9.13"
  },
  "orig_nbformat": 4,
  "vscode": {
   "interpreter": {
    "hash": "ba6e89a4f233df21354665b7ac34135f7dc5aeff5630320a3b7814c0715f35dd"
   }
  }
 },
 "nbformat": 4,
 "nbformat_minor": 2
}

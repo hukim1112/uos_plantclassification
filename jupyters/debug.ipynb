{
 "cells": [
  {
   "cell_type": "code",
   "execution_count": 1,
   "metadata": {},
   "outputs": [],
   "source": [
    "import numpy as np\n",
    "import pickle\n",
    "import json\n",
    "from matplotlib import pyplot as plt\n",
    "from os.path import join\n",
    "from run.embeddings import calculate_dists_each_label_from_matrix, summon_embedder\n",
    "import albumentations as A\n",
    "from albumentations.pytorch import ToTensorV2\n",
    "exp_path = \"/home/files/experiments/mini_plantnet/efficientB4/exp2\"\n",
    "transforms = A.Compose([\n",
    "        A.Resize(height=380, width=380),\n",
    "        A.Normalize(mean=0.0, std=1.0),\n",
    "        ToTensorV2()])\n",
    "device='cuda:1'\n",
    "\n",
    "exp_path = \"/home/files/experiments/mini_plantnet/efficientB4/exp2\"\n",
    "num_label = \"467\"\n",
    "with open(join(exp_path, \"label_list.txt\"), \"rb\") as fp:\n",
    "    labels = pickle.load(fp)\n",
    "dist_matrix = np.load(join(exp_path, \"dist_matrix.npy\"))\n",
    "emb, label_to_name = summon_embedder(exp_path, transforms, device)\n",
    "class_to_name = emb.class_to_name"
   ]
  },
  {
   "cell_type": "code",
   "execution_count": 2,
   "metadata": {},
   "outputs": [
    {
     "data": {
      "text/plain": [
       "(467, 467)"
      ]
     },
     "execution_count": 2,
     "metadata": {},
     "output_type": "execute_result"
    }
   ],
   "source": [
    "dist_matrix.shape"
   ]
  },
  {
   "cell_type": "code",
   "execution_count": 3,
   "metadata": {},
   "outputs": [],
   "source": [
    "with open(join(exp_path, \"fine_to_coarse_25.json\"), 'r') as st_json: \n",
    "    fine_to_coarse = json.load(st_json)\n"
   ]
  },
  {
   "cell_type": "code",
   "execution_count": 4,
   "metadata": {},
   "outputs": [],
   "source": [
    "from data import get_hierarchical_mini_plantnet"
   ]
  },
  {
   "cell_type": "code",
   "execution_count": 5,
   "metadata": {},
   "outputs": [],
   "source": [
    "import cv2\n",
    "transforms = {\n",
    "'train': A.Compose([\n",
    "        A.LongestMaxSize(max_size=500),\n",
    "        A.PadIfNeeded(min_height=int(380),\n",
    "        min_width=int(380),\n",
    "        position='top_left',\n",
    "        border_mode=cv2.BORDER_CONSTANT),\n",
    "        A.RandomCrop(380,380,p=1.0),\n",
    "        A.HorizontalFlip(0.5),\n",
    "        A.Normalize(mean=0.0, std=1.0),\n",
    "        ToTensorV2()]),\n",
    "'val': A.Compose([\n",
    "        A.LongestMaxSize(max_size=500),\n",
    "        A.PadIfNeeded(min_height=int(380),\n",
    "        min_width=int(380),\n",
    "        position='top_left',\n",
    "        border_mode=cv2.BORDER_CONSTANT),\n",
    "        A.CenterCrop(380,380, p=1.0),\n",
    "        A.Normalize(mean=0.0, std=1.0),\n",
    "        ToTensorV2()]),\n",
    "'test': A.Compose([\n",
    "        A.LongestMaxSize(max_size=500),\n",
    "        A.PadIfNeeded(min_height=int(380),\n",
    "        min_width=int(380),\n",
    "        position='top_left',\n",
    "        border_mode=cv2.BORDER_CONSTANT),\n",
    "        A.CenterCrop(380,380,p=1.0),\n",
    "        A.Normalize(mean=0.0, std=1.0),\n",
    "        ToTensorV2()])\n",
    "        }\n",
    "\n",
    "    #data\n",
    "data_loaders, class_to_name = get_hierarchical_mini_plantnet(fine_to_coarse=fine_to_coarse, transforms=transforms) #get PlantNet-300K dataset by default options."
   ]
  },
  {
   "cell_type": "code",
   "execution_count": 6,
   "metadata": {},
   "outputs": [],
   "source": [
    "items = next(iter(data_loaders['train']))"
   ]
  },
  {
   "cell_type": "code",
   "execution_count": 7,
   "metadata": {},
   "outputs": [
    {
     "data": {
      "text/plain": [
       "tensor([174, 131,  25, 202, 104, 145, 180, 145,  79, 235,  25,  73, 102, 261,\n",
       "         34, 149, 136, 278,  94, 124,  59,  92,  70, 219, 104, 369,   3, 397,\n",
       "        297, 136,   3, 197])"
      ]
     },
     "execution_count": 7,
     "metadata": {},
     "output_type": "execute_result"
    }
   ],
   "source": [
    "items[1]"
   ]
  },
  {
   "cell_type": "code",
   "execution_count": 9,
   "metadata": {},
   "outputs": [
    {
     "data": {
      "text/plain": [
       "tensor([260,  77,  85, 220, 150, 335, 326, 335,  45,  22,  85, 262, 317, 127,\n",
       "        326, 108,  36,  72,  55,  72,  34, 177,  40,  22, 150,  66, 197, 277,\n",
       "          7,  36, 197, 119])"
      ]
     },
     "execution_count": 9,
     "metadata": {},
     "output_type": "execute_result"
    }
   ],
   "source": [
    "items[2]"
   ]
  },
  {
   "cell_type": "code",
   "execution_count": 11,
   "metadata": {},
   "outputs": [
    {
     "data": {
      "text/plain": [
       "467"
      ]
     },
     "execution_count": 11,
     "metadata": {},
     "output_type": "execute_result"
    }
   ],
   "source": [
    "len(set(fine_to_coarse.keys()))"
   ]
  },
  {
   "cell_type": "code",
   "execution_count": 12,
   "metadata": {},
   "outputs": [
    {
     "data": {
      "text/plain": [
       "336"
      ]
     },
     "execution_count": 12,
     "metadata": {},
     "output_type": "execute_result"
    }
   ],
   "source": [
    "len(set(fine_to_coarse.values()))"
   ]
  },
  {
   "cell_type": "code",
   "execution_count": null,
   "metadata": {},
   "outputs": [],
   "source": []
  }
 ],
 "metadata": {
  "kernelspec": {
   "display_name": "Python 3 (ipykernel)",
   "language": "python",
   "name": "python3"
  },
  "language_info": {
   "codemirror_mode": {
    "name": "ipython",
    "version": 3
   },
   "file_extension": ".py",
   "mimetype": "text/x-python",
   "name": "python",
   "nbconvert_exporter": "python",
   "pygments_lexer": "ipython3",
   "version": "3.7.11"
  },
  "vscode": {
   "interpreter": {
    "hash": "d4d1e4263499bec80672ea0156c357c1ee493ec2b1c70f0acce89fc37c4a6abe"
   }
  }
 },
 "nbformat": 4,
 "nbformat_minor": 2
}

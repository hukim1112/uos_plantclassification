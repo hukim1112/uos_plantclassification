{
 "cells": [
  {
   "cell_type": "markdown",
   "metadata": {},
   "source": [
    "## Load categorical metrics"
   ]
  },
  {
   "cell_type": "code",
   "execution_count": null,
   "metadata": {},
   "outputs": [],
   "source": [
    "import sys\n",
    "sys.path.append(\"/home/files/uos_plantclassification\")"
   ]
  },
  {
   "cell_type": "code",
   "execution_count": null,
   "metadata": {},
   "outputs": [],
   "source": [
    "from statistics import mean\n",
    "from data import get_mini_plantnet\n",
    "from utils.reproducibility import set_seed\n",
    "from utils.metrics import Metric_tracker\n",
    "from utils.earlystopping import EarlyStopping\n",
    "from utils.hierarchical_loss import HierarchicalLossNetwork\n",
    "from utils.epoch import train_epoch, test_epoch\n",
    "import cv2\n",
    "import torch\n",
    "from torch.optim import AdamW\n",
    "from torch import nn\n",
    "from torch.optim.lr_scheduler import ReduceLROnPlateau, CosineAnnealingWarmRestarts, MultiStepLR\n",
    "from torch.utils.tensorboard import SummaryWriter\n",
    "import albumentations as A\n",
    "from albumentations.pytorch import ToTensorV2\n",
    "\n",
    "#augmentation\n",
    "transforms = {\n",
    "'train': A.Compose([\n",
    "        A.LongestMaxSize(max_size=500),\n",
    "        A.PadIfNeeded(min_height=int(380),\n",
    "        min_width=int(380),\n",
    "        position='top_left',\n",
    "        border_mode=cv2.BORDER_CONSTANT),\n",
    "        A.RandomCrop(380,380,p=1.0),\n",
    "        A.HorizontalFlip(0.5),\n",
    "        A.Normalize(mean=0.0, std=1.0),\n",
    "        ToTensorV2()]),\n",
    "'val': A.Compose([\n",
    "        A.LongestMaxSize(max_size=500),\n",
    "        A.PadIfNeeded(min_height=int(380),\n",
    "        min_width=int(380),\n",
    "        position='top_left',\n",
    "        border_mode=cv2.BORDER_CONSTANT),\n",
    "        A.CenterCrop(380,380, p=1.0),\n",
    "        A.Normalize(mean=0.0, std=1.0),\n",
    "        ToTensorV2()]),\n",
    "'test': A.Compose([\n",
    "        A.LongestMaxSize(max_size=500),\n",
    "        A.PadIfNeeded(min_height=int(380),\n",
    "        min_width=int(380),\n",
    "        position='top_left',\n",
    "        border_mode=cv2.BORDER_CONSTANT),\n",
    "        A.CenterCrop(380,380,p=1.0),\n",
    "        A.Normalize(mean=0.0, std=1.0),\n",
    "        ToTensorV2()])\n",
    "        }"
   ]
  },
  {
   "cell_type": "code",
   "execution_count": null,
   "metadata": {},
   "outputs": [],
   "source": [
    "from models import EfficientB4, VGG19, ResNet101, WideResNet101_2"
   ]
  },
  {
   "cell_type": "code",
   "execution_count": null,
   "metadata": {},
   "outputs": [],
   "source": [
    "#data\n",
    "data_loaders, class_to_name = get_mini_plantnet(transforms=transforms) #get PlantNet-300K dataset by default options.\n",
    "\n",
    "device='cuda:0'\n",
    "weight_dir=\"/home/files/experiments/mini_plantnet/baseline/EfficientB4/exp_set2/checkpoints/checkpoint.pt\"\n",
    "#model, optimizer, scheduler, earlystopping\n",
    "model = EfficientB4(num_classes=len(class_to_name), loss_fn=nn.CrossEntropyLoss()).to(device) #get your model\n",
    "optimizer = AdamW(model.parameters(), lr=1e-3) #get your optimizer\n",
    "optimizer = model.load(weight_dir, optimizer) # load Its the best checkpoint.\n",
    "metric = Metric_tracker(\"test\", class_to_name, \"/home/files\")\n",
    "test_epoch(model, data_loaders[\"test\"], metric)\n",
    "metric.to_csv(\"/home/files/experiments/mini_plantnet/baseline/EfficientB4/exp_set2/logs\")"
   ]
  },
  {
   "cell_type": "code",
   "execution_count": null,
   "metadata": {},
   "outputs": [],
   "source": []
  },
  {
   "cell_type": "code",
   "execution_count": null,
   "metadata": {},
   "outputs": [],
   "source": [
    "#data\n",
    "data_loaders, class_to_name = get_mini_plantnet(transforms=transforms) #get PlantNet-300K dataset by default options.\n",
    "\n",
    "device='cuda:1'\n",
    "weight_dir=\"/home/files/experiments/mini_plantnet/baseline/ResNet101/exp_set1/checkpoints/checkpoint.pt\"\n",
    "#model, optimizer, scheduler, earlystopping\n",
    "model = ResNet101(num_classes=len(class_to_name), loss_fn=nn.CrossEntropyLoss()).to(device) #get your model\n",
    "optimizer = AdamW(model.parameters(), lr=1e-3) #get your optimizer\n",
    "optimizer = model.load(weight_dir, optimizer) # load Its the best checkpoint.\n",
    "\n",
    "metric = Metric_tracker(\"test\", class_to_name, \"/home/files\")\n",
    "\n",
    "test_epoch(model, data_loaders[\"test\"], metric)\n",
    "metric.to_csv(\"/home/files/experiments/mini_plantnet/baseline/ResNet101/exp_set1/logs\")"
   ]
  },
  {
   "cell_type": "code",
   "execution_count": null,
   "metadata": {},
   "outputs": [],
   "source": [
    "#data\n",
    "data_loaders, class_to_name = get_mini_plantnet(transforms=transforms) #get PlantNet-300K dataset by default options.\n",
    "\n",
    "device='cuda:1'\n",
    "weight_dir=\"/home/files/experiments/mini_plantnet/baseline/ResNet101/exp_set2/checkpoints/checkpoint.pt\"\n",
    "#model, optimizer, scheduler, earlystopping\n",
    "model = ResNet101(num_classes=len(class_to_name), loss_fn=nn.CrossEntropyLoss()).to(device) #get your model\n",
    "optimizer = AdamW(model.parameters(), lr=1e-3) #get your optimizer\n",
    "optimizer = model.load(weight_dir, optimizer) # load Its the best checkpoint.\n",
    "\n",
    "metric = Metric_tracker(\"test\", class_to_name, \"/home/files\")\n",
    "\n",
    "test_epoch(model, data_loaders[\"test\"], metric)\n",
    "metric.to_csv(\"/home/files/experiments/mini_plantnet/baseline/ResNet101/exp_set2/logs\")"
   ]
  },
  {
   "cell_type": "code",
   "execution_count": null,
   "metadata": {},
   "outputs": [],
   "source": [
    "#data\n",
    "data_loaders, class_to_name = get_mini_plantnet(transforms=transforms) #get PlantNet-300K dataset by default options.\n",
    "\n",
    "device='cuda:1'\n",
    "weight_dir=\"/home/files/experiments/mini_plantnet/baseline/WideResNet101_2/exp_set2/checkpoints/checkpoint.pt\"\n",
    "#model, optimizer, scheduler, earlystopping\n",
    "model = WideResNet101_2(num_classes=len(class_to_name), loss_fn=nn.CrossEntropyLoss()).to(device) #get your model\n",
    "optimizer = AdamW(model.parameters(), lr=1e-3) #get your optimizer\n",
    "optimizer = model.load(weight_dir, optimizer) # load Its the best checkpoint.\n",
    "\n",
    "metric = Metric_tracker(\"test\", class_to_name, \"/home/files\")\n",
    "\n",
    "test_epoch(model, data_loaders[\"test\"], metric)\n",
    "metric.to_csv(\"/home/files/experiments/mini_plantnet/baseline/WideResNet101_2/exp_set2/logs\")"
   ]
  },
  {
   "cell_type": "code",
   "execution_count": null,
   "metadata": {},
   "outputs": [],
   "source": []
  },
  {
   "cell_type": "code",
   "execution_count": null,
   "metadata": {},
   "outputs": [],
   "source": []
  }
 ],
 "metadata": {
  "kernelspec": {
   "display_name": "Python 3.7.11 ('base')",
   "language": "python",
   "name": "python3"
  },
  "language_info": {
   "codemirror_mode": {
    "name": "ipython",
    "version": 3
   },
   "file_extension": ".py",
   "mimetype": "text/x-python",
   "name": "python",
   "nbconvert_exporter": "python",
   "pygments_lexer": "ipython3",
   "version": "3.7.11"
  },
  "orig_nbformat": 4,
  "vscode": {
   "interpreter": {
    "hash": "d4d1e4263499bec80672ea0156c357c1ee493ec2b1c70f0acce89fc37c4a6abe"
   }
  }
 },
 "nbformat": 4,
 "nbformat_minor": 2
}

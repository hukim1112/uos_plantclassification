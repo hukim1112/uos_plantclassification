{
 "cells": [
  {
   "cell_type": "code",
   "execution_count": 15,
   "metadata": {},
   "outputs": [],
   "source": [
    "import sys\n",
    "sys.path.append(\"/home/files/uos_plantclassification\")\n",
    "import pandas as pd\n",
    "\n",
    "exp_path = \"/home/files/experiments/mini_plantnet/baseline/EfficientB4/exp_set2\"\n",
    "radius = 25\n",
    "baseline_metric_path = f\"{exp_path}/logs/categorical_metrics_test.csv\"\n",
    "dhc_metric_path = f\"{exp_path}/cluster_radius_{radius}/fixed_extractor/logs/categorical_metrics_test.csv\"\n",
    "\n",
    "df1 = pd.read_csv(baseline_metric_path)\n",
    "df2 = pd.read_csv(dhc_metric_path)"
   ]
  },
  {
   "cell_type": "code",
   "execution_count": 16,
   "metadata": {},
   "outputs": [],
   "source": [
    "import json\n",
    "from os.path import join\n",
    "from os import listdir\n",
    "import albumentations as A\n",
    "from albumentations.pytorch import ToTensorV2\n",
    "from config.path import PATH\n",
    "from data import get_mini_plantnet, MiniPlantNet\n",
    "transforms = {\n",
    "    'train': A.Compose([\n",
    "        A.Resize(height=380, width=380),\n",
    "        A.HorizontalFlip(p=0.5),\n",
    "        A.Normalize(mean=0.0, std=1.0),\n",
    "        ToTensorV2()]),\n",
    "    'val': A.Compose([\n",
    "        A.Resize(height=380, width=380),\n",
    "        A.Normalize(mean=0.0, std=1.0),\n",
    "        ToTensorV2()]),\n",
    "    'test': A.Compose([\n",
    "        A.Resize(height=380, width=380),\n",
    "        A.Normalize(mean=0.0, std=1.0),\n",
    "        ToTensorV2()])\n",
    "}\n",
    "\n",
    "dataset = MiniPlantNet(root=PATH[\"PLANTNET-300K\"], split=\"train\", shuffle=False, transform=transforms[\"test\"])\n",
    "\n",
    "#mini plantnet의 학습데이터 수\n",
    "label_to_train_samples = {}\n",
    "name_to_train_samples = {}\n",
    "for name, label in zip(dataset.name_to_label.keys(), dataset.name_to_label.values()):\n",
    "    num_samples = len(listdir(join(PATH[\"PLANTNET-300K\"], \"images\", \"train\", label)))\n",
    "    label_to_train_samples[label] = num_samples\n",
    "    name_to_train_samples[name] = num_samples\n",
    "train_samples = []\n",
    "for name in df1.name:\n",
    "    train_samples.append(name_to_train_samples[name])\n",
    "df1['train_samples'] = train_samples\n",
    "df2['train_samples'] = train_samples\n",
    "\n",
    "# 클러스터 정보\n",
    "with open(f\"{exp_path}/cluster_radius_{radius}/name_clusters.json\") as file:\n",
    "    data = json.load(file)\n",
    "        \n",
    "list_of_cluster = list(data.values())\n",
    "name_to_num_members = {}\n",
    "name_to_scr = {}\n",
    "name_to_cluster_id = {}\n",
    "\n",
    "_id = 0\n",
    "for cluster in list_of_cluster:\n",
    "    _id+=1\n",
    "    num_members = len(cluster)\n",
    "    samples_of_cluster = 0\n",
    "    for member in cluster:\n",
    "        name_to_num_members[member] = num_members\n",
    "        name_to_cluster_id[member] = _id\n",
    "        samples_of_cluster += df1[df1.name == member].train_samples.values[0]\n",
    "    for member in cluster:\n",
    "        name_to_scr[member] = samples_of_cluster/df1[df1.name == member].train_samples.values[0]\n",
    "scr = []\n",
    "num_family_member = []\n",
    "cluster_id = []\n",
    "for name in df1.name:\n",
    "    scr.append(name_to_scr[name])\n",
    "    num_family_member.append(name_to_num_members[name])\n",
    "    cluster_id.append(name_to_cluster_id[name])\n",
    "    \n",
    "df1['scr'] = scr\n",
    "df2['scr'] = scr\n",
    "df1['num_family_member'] = num_family_member\n",
    "df2['num_family_member'] = num_family_member\n",
    "df1['cluster_id'] = cluster_id\n",
    "df2['cluster_id'] = cluster_id"
   ]
  },
  {
   "cell_type": "code",
   "execution_count": 17,
   "metadata": {},
   "outputs": [
    {
     "name": "stderr",
     "output_type": "stream",
     "text": [
      "/opt/conda/lib/python3.7/site-packages/ipykernel_launcher.py:2: SettingWithCopyWarning: \n",
      "A value is trying to be set on a copy of a slice from a DataFrame.\n",
      "Try using .loc[row_indexer,col_indexer] = value instead\n",
      "\n",
      "See the caveats in the documentation: https://pandas.pydata.org/pandas-docs/stable/user_guide/indexing.html#returning-a-view-versus-a-copy\n",
      "  \n"
     ]
    }
   ],
   "source": [
    "df3 = df2[['name', 'train_samples', 'num_family_member', 'scr', 'cluster_id']]\n",
    "df3['recall_gap'] = df2['recall'] - df1['recall']"
   ]
  },
  {
   "cell_type": "code",
   "execution_count": 18,
   "metadata": {},
   "outputs": [],
   "source": [
    "df = df3.sort_values(\"recall_gap\", ascending=False)"
   ]
  },
  {
   "cell_type": "code",
   "execution_count": 19,
   "metadata": {},
   "outputs": [
    {
     "data": {
      "text/html": [
       "<div>\n",
       "<style scoped>\n",
       "    .dataframe tbody tr th:only-of-type {\n",
       "        vertical-align: middle;\n",
       "    }\n",
       "\n",
       "    .dataframe tbody tr th {\n",
       "        vertical-align: top;\n",
       "    }\n",
       "\n",
       "    .dataframe thead th {\n",
       "        text-align: right;\n",
       "    }\n",
       "</style>\n",
       "<table border=\"1\" class=\"dataframe\">\n",
       "  <thead>\n",
       "    <tr style=\"text-align: right;\">\n",
       "      <th></th>\n",
       "      <th>name</th>\n",
       "      <th>train_samples</th>\n",
       "      <th>num_family_member</th>\n",
       "      <th>scr</th>\n",
       "      <th>cluster_id</th>\n",
       "      <th>recall_gap</th>\n",
       "    </tr>\n",
       "  </thead>\n",
       "  <tbody>\n",
       "    <tr>\n",
       "      <th>279</th>\n",
       "      <td>Anthericum ramosum L.</td>\n",
       "      <td>151</td>\n",
       "      <td>2</td>\n",
       "      <td>5.900662</td>\n",
       "      <td>69</td>\n",
       "      <td>0.500000</td>\n",
       "    </tr>\n",
       "    <tr>\n",
       "      <th>229</th>\n",
       "      <td>Hypericum pulchrum L.</td>\n",
       "      <td>73</td>\n",
       "      <td>1</td>\n",
       "      <td>1.000000</td>\n",
       "      <td>154</td>\n",
       "      <td>0.300000</td>\n",
       "    </tr>\n",
       "    <tr>\n",
       "      <th>390</th>\n",
       "      <td>Anemone virginiana L.</td>\n",
       "      <td>56</td>\n",
       "      <td>1</td>\n",
       "      <td>1.000000</td>\n",
       "      <td>245</td>\n",
       "      <td>0.285714</td>\n",
       "    </tr>\n",
       "    <tr>\n",
       "      <th>178</th>\n",
       "      <td>Nephrolepis cordifolia (L.) C.Presl</td>\n",
       "      <td>88</td>\n",
       "      <td>5</td>\n",
       "      <td>15.659091</td>\n",
       "      <td>17</td>\n",
       "      <td>0.250000</td>\n",
       "    </tr>\n",
       "    <tr>\n",
       "      <th>140</th>\n",
       "      <td>Acacia longifolia (Andrews) Willd.</td>\n",
       "      <td>104</td>\n",
       "      <td>1</td>\n",
       "      <td>1.000000</td>\n",
       "      <td>95</td>\n",
       "      <td>0.230769</td>\n",
       "    </tr>\n",
       "    <tr>\n",
       "      <th>...</th>\n",
       "      <td>...</td>\n",
       "      <td>...</td>\n",
       "      <td>...</td>\n",
       "      <td>...</td>\n",
       "      <td>...</td>\n",
       "      <td>...</td>\n",
       "    </tr>\n",
       "    <tr>\n",
       "      <th>463</th>\n",
       "      <td>Peperomia prostrata B.S. Williams</td>\n",
       "      <td>39</td>\n",
       "      <td>1</td>\n",
       "      <td>1.000000</td>\n",
       "      <td>288</td>\n",
       "      <td>-0.333333</td>\n",
       "    </tr>\n",
       "    <tr>\n",
       "      <th>159</th>\n",
       "      <td>Mussaenda erythrophylla Schumach. &amp; Thonn.</td>\n",
       "      <td>114</td>\n",
       "      <td>1</td>\n",
       "      <td>1.000000</td>\n",
       "      <td>104</td>\n",
       "      <td>-0.333333</td>\n",
       "    </tr>\n",
       "    <tr>\n",
       "      <th>326</th>\n",
       "      <td>Ophrys virescens Philippe</td>\n",
       "      <td>63</td>\n",
       "      <td>1</td>\n",
       "      <td>1.000000</td>\n",
       "      <td>202</td>\n",
       "      <td>-0.333333</td>\n",
       "    </tr>\n",
       "    <tr>\n",
       "      <th>417</th>\n",
       "      <td>Garrya elliptica Douglas ex Lindl.</td>\n",
       "      <td>40</td>\n",
       "      <td>1</td>\n",
       "      <td>1.000000</td>\n",
       "      <td>263</td>\n",
       "      <td>-0.400000</td>\n",
       "    </tr>\n",
       "    <tr>\n",
       "      <th>258</th>\n",
       "      <td>Ophrys lupercalis Devillers &amp; Devillers-Tersch.</td>\n",
       "      <td>40</td>\n",
       "      <td>1</td>\n",
       "      <td>1.000000</td>\n",
       "      <td>171</td>\n",
       "      <td>-0.500000</td>\n",
       "    </tr>\n",
       "  </tbody>\n",
       "</table>\n",
       "<p>467 rows × 6 columns</p>\n",
       "</div>"
      ],
      "text/plain": [
       "                                                name  train_samples  \\\n",
       "279                            Anthericum ramosum L.            151   \n",
       "229                            Hypericum pulchrum L.             73   \n",
       "390                            Anemone virginiana L.             56   \n",
       "178              Nephrolepis cordifolia (L.) C.Presl             88   \n",
       "140               Acacia longifolia (Andrews) Willd.            104   \n",
       "..                                               ...            ...   \n",
       "463                Peperomia prostrata B.S. Williams             39   \n",
       "159       Mussaenda erythrophylla Schumach. & Thonn.            114   \n",
       "326                        Ophrys virescens Philippe             63   \n",
       "417               Garrya elliptica Douglas ex Lindl.             40   \n",
       "258  Ophrys lupercalis Devillers & Devillers-Tersch.             40   \n",
       "\n",
       "     num_family_member        scr  cluster_id  recall_gap  \n",
       "279                  2   5.900662          69    0.500000  \n",
       "229                  1   1.000000         154    0.300000  \n",
       "390                  1   1.000000         245    0.285714  \n",
       "178                  5  15.659091          17    0.250000  \n",
       "140                  1   1.000000          95    0.230769  \n",
       "..                 ...        ...         ...         ...  \n",
       "463                  1   1.000000         288   -0.333333  \n",
       "159                  1   1.000000         104   -0.333333  \n",
       "326                  1   1.000000         202   -0.333333  \n",
       "417                  1   1.000000         263   -0.400000  \n",
       "258                  1   1.000000         171   -0.500000  \n",
       "\n",
       "[467 rows x 6 columns]"
      ]
     },
     "execution_count": 19,
     "metadata": {},
     "output_type": "execute_result"
    }
   ],
   "source": [
    "df"
   ]
  },
  {
   "cell_type": "code",
   "execution_count": 20,
   "metadata": {},
   "outputs": [
    {
     "data": {
      "text/html": [
       "<div>\n",
       "<style scoped>\n",
       "    .dataframe tbody tr th:only-of-type {\n",
       "        vertical-align: middle;\n",
       "    }\n",
       "\n",
       "    .dataframe tbody tr th {\n",
       "        vertical-align: top;\n",
       "    }\n",
       "\n",
       "    .dataframe thead th {\n",
       "        text-align: right;\n",
       "    }\n",
       "</style>\n",
       "<table border=\"1\" class=\"dataframe\">\n",
       "  <thead>\n",
       "    <tr style=\"text-align: right;\">\n",
       "      <th></th>\n",
       "      <th>name</th>\n",
       "      <th>train_samples</th>\n",
       "      <th>num_family_member</th>\n",
       "      <th>scr</th>\n",
       "      <th>cluster_id</th>\n",
       "      <th>recall_gap</th>\n",
       "    </tr>\n",
       "  </thead>\n",
       "  <tbody>\n",
       "    <tr>\n",
       "      <th>279</th>\n",
       "      <td>Anthericum ramosum L.</td>\n",
       "      <td>151</td>\n",
       "      <td>2</td>\n",
       "      <td>5.900662</td>\n",
       "      <td>69</td>\n",
       "      <td>0.500000</td>\n",
       "    </tr>\n",
       "    <tr>\n",
       "      <th>92</th>\n",
       "      <td>Anthericum liliago L.</td>\n",
       "      <td>740</td>\n",
       "      <td>2</td>\n",
       "      <td>1.204054</td>\n",
       "      <td>69</td>\n",
       "      <td>-0.043011</td>\n",
       "    </tr>\n",
       "  </tbody>\n",
       "</table>\n",
       "</div>"
      ],
      "text/plain": [
       "                      name  train_samples  num_family_member       scr  \\\n",
       "279  Anthericum ramosum L.            151                  2  5.900662   \n",
       "92   Anthericum liliago L.            740                  2  1.204054   \n",
       "\n",
       "     cluster_id  recall_gap  \n",
       "279          69    0.500000  \n",
       "92           69   -0.043011  "
      ]
     },
     "execution_count": 20,
     "metadata": {},
     "output_type": "execute_result"
    }
   ],
   "source": [
    "df[df.cluster_id==69]"
   ]
  },
  {
   "cell_type": "code",
   "execution_count": 21,
   "metadata": {},
   "outputs": [
    {
     "data": {
      "text/html": [
       "<div>\n",
       "<style scoped>\n",
       "    .dataframe tbody tr th:only-of-type {\n",
       "        vertical-align: middle;\n",
       "    }\n",
       "\n",
       "    .dataframe tbody tr th {\n",
       "        vertical-align: top;\n",
       "    }\n",
       "\n",
       "    .dataframe thead th {\n",
       "        text-align: right;\n",
       "    }\n",
       "</style>\n",
       "<table border=\"1\" class=\"dataframe\">\n",
       "  <thead>\n",
       "    <tr style=\"text-align: right;\">\n",
       "      <th></th>\n",
       "      <th>name</th>\n",
       "      <th>train_samples</th>\n",
       "      <th>num_family_member</th>\n",
       "      <th>scr</th>\n",
       "      <th>cluster_id</th>\n",
       "      <th>recall_gap</th>\n",
       "    </tr>\n",
       "  </thead>\n",
       "  <tbody>\n",
       "    <tr>\n",
       "      <th>229</th>\n",
       "      <td>Hypericum pulchrum L.</td>\n",
       "      <td>73</td>\n",
       "      <td>1</td>\n",
       "      <td>1.0</td>\n",
       "      <td>154</td>\n",
       "      <td>0.3</td>\n",
       "    </tr>\n",
       "  </tbody>\n",
       "</table>\n",
       "</div>"
      ],
      "text/plain": [
       "                      name  train_samples  num_family_member  scr  cluster_id  \\\n",
       "229  Hypericum pulchrum L.             73                  1  1.0         154   \n",
       "\n",
       "     recall_gap  \n",
       "229         0.3  "
      ]
     },
     "execution_count": 21,
     "metadata": {},
     "output_type": "execute_result"
    }
   ],
   "source": [
    "df[df.cluster_id==154]"
   ]
  },
  {
   "cell_type": "code",
   "execution_count": 9,
   "metadata": {},
   "outputs": [
    {
     "data": {
      "text/html": [
       "<div>\n",
       "<style scoped>\n",
       "    .dataframe tbody tr th:only-of-type {\n",
       "        vertical-align: middle;\n",
       "    }\n",
       "\n",
       "    .dataframe tbody tr th {\n",
       "        vertical-align: top;\n",
       "    }\n",
       "\n",
       "    .dataframe thead th {\n",
       "        text-align: right;\n",
       "    }\n",
       "</style>\n",
       "<table border=\"1\" class=\"dataframe\">\n",
       "  <thead>\n",
       "    <tr style=\"text-align: right;\">\n",
       "      <th></th>\n",
       "      <th>name</th>\n",
       "      <th>train_samples</th>\n",
       "      <th>num_family_member</th>\n",
       "      <th>scr</th>\n",
       "      <th>cluster_id</th>\n",
       "      <th>recall_gap</th>\n",
       "    </tr>\n",
       "  </thead>\n",
       "  <tbody>\n",
       "    <tr>\n",
       "      <th>47</th>\n",
       "      <td>Hypericum hircinum L.</td>\n",
       "      <td>111</td>\n",
       "      <td>5</td>\n",
       "      <td>40.054054</td>\n",
       "      <td>40</td>\n",
       "      <td>0.400000</td>\n",
       "    </tr>\n",
       "    <tr>\n",
       "      <th>227</th>\n",
       "      <td>Hypericum calycinum L.</td>\n",
       "      <td>1941</td>\n",
       "      <td>5</td>\n",
       "      <td>2.290572</td>\n",
       "      <td>40</td>\n",
       "      <td>0.114754</td>\n",
       "    </tr>\n",
       "    <tr>\n",
       "      <th>328</th>\n",
       "      <td>Hypericum patulum Thunb.</td>\n",
       "      <td>200</td>\n",
       "      <td>5</td>\n",
       "      <td>22.230000</td>\n",
       "      <td>40</td>\n",
       "      <td>0.076923</td>\n",
       "    </tr>\n",
       "    <tr>\n",
       "      <th>46</th>\n",
       "      <td>Hypericum androsaemum L.</td>\n",
       "      <td>1359</td>\n",
       "      <td>5</td>\n",
       "      <td>3.271523</td>\n",
       "      <td>40</td>\n",
       "      <td>0.005882</td>\n",
       "    </tr>\n",
       "    <tr>\n",
       "      <th>329</th>\n",
       "      <td>Hypericum x hidcoteense Hilling ex Geerinck</td>\n",
       "      <td>835</td>\n",
       "      <td>5</td>\n",
       "      <td>5.324551</td>\n",
       "      <td>40</td>\n",
       "      <td>-0.076190</td>\n",
       "    </tr>\n",
       "  </tbody>\n",
       "</table>\n",
       "</div>"
      ],
      "text/plain": [
       "                                            name  train_samples  \\\n",
       "47                         Hypericum hircinum L.            111   \n",
       "227                       Hypericum calycinum L.           1941   \n",
       "328                     Hypericum patulum Thunb.            200   \n",
       "46                      Hypericum androsaemum L.           1359   \n",
       "329  Hypericum x hidcoteense Hilling ex Geerinck            835   \n",
       "\n",
       "     num_family_member        scr  cluster_id  recall_gap  \n",
       "47                   5  40.054054          40    0.400000  \n",
       "227                  5   2.290572          40    0.114754  \n",
       "328                  5  22.230000          40    0.076923  \n",
       "46                   5   3.271523          40    0.005882  \n",
       "329                  5   5.324551          40   -0.076190  "
      ]
     },
     "execution_count": 9,
     "metadata": {},
     "output_type": "execute_result"
    }
   ],
   "source": [
    "df[df.cluster_id==40]"
   ]
  },
  {
   "cell_type": "code",
   "execution_count": null,
   "metadata": {},
   "outputs": [],
   "source": []
  },
  {
   "cell_type": "code",
   "execution_count": 22,
   "metadata": {},
   "outputs": [
    {
     "data": {
      "text/html": [
       "<div>\n",
       "<style scoped>\n",
       "    .dataframe tbody tr th:only-of-type {\n",
       "        vertical-align: middle;\n",
       "    }\n",
       "\n",
       "    .dataframe tbody tr th {\n",
       "        vertical-align: top;\n",
       "    }\n",
       "\n",
       "    .dataframe thead th {\n",
       "        text-align: right;\n",
       "    }\n",
       "</style>\n",
       "<table border=\"1\" class=\"dataframe\">\n",
       "  <thead>\n",
       "    <tr style=\"text-align: right;\">\n",
       "      <th></th>\n",
       "      <th>name</th>\n",
       "      <th>train_samples</th>\n",
       "      <th>num_family_member</th>\n",
       "      <th>scr</th>\n",
       "      <th>cluster_id</th>\n",
       "      <th>recall_gap</th>\n",
       "    </tr>\n",
       "  </thead>\n",
       "  <tbody>\n",
       "    <tr>\n",
       "      <th>258</th>\n",
       "      <td>Ophrys lupercalis Devillers &amp; Devillers-Tersch.</td>\n",
       "      <td>40</td>\n",
       "      <td>1</td>\n",
       "      <td>1.0</td>\n",
       "      <td>171</td>\n",
       "      <td>-0.5</td>\n",
       "    </tr>\n",
       "  </tbody>\n",
       "</table>\n",
       "</div>"
      ],
      "text/plain": [
       "                                                name  train_samples  \\\n",
       "258  Ophrys lupercalis Devillers & Devillers-Tersch.             40   \n",
       "\n",
       "     num_family_member  scr  cluster_id  recall_gap  \n",
       "258                  1  1.0         171        -0.5  "
      ]
     },
     "execution_count": 22,
     "metadata": {},
     "output_type": "execute_result"
    }
   ],
   "source": [
    "df[df.cluster_id==171]"
   ]
  },
  {
   "cell_type": "code",
   "execution_count": 23,
   "metadata": {},
   "outputs": [
    {
     "data": {
      "text/html": [
       "<div>\n",
       "<style scoped>\n",
       "    .dataframe tbody tr th:only-of-type {\n",
       "        vertical-align: middle;\n",
       "    }\n",
       "\n",
       "    .dataframe tbody tr th {\n",
       "        vertical-align: top;\n",
       "    }\n",
       "\n",
       "    .dataframe thead th {\n",
       "        text-align: right;\n",
       "    }\n",
       "</style>\n",
       "<table border=\"1\" class=\"dataframe\">\n",
       "  <thead>\n",
       "    <tr style=\"text-align: right;\">\n",
       "      <th></th>\n",
       "      <th>name</th>\n",
       "      <th>train_samples</th>\n",
       "      <th>num_family_member</th>\n",
       "      <th>scr</th>\n",
       "      <th>cluster_id</th>\n",
       "      <th>recall_gap</th>\n",
       "    </tr>\n",
       "  </thead>\n",
       "  <tbody>\n",
       "    <tr>\n",
       "      <th>417</th>\n",
       "      <td>Garrya elliptica Douglas ex Lindl.</td>\n",
       "      <td>40</td>\n",
       "      <td>1</td>\n",
       "      <td>1.0</td>\n",
       "      <td>263</td>\n",
       "      <td>-0.4</td>\n",
       "    </tr>\n",
       "  </tbody>\n",
       "</table>\n",
       "</div>"
      ],
      "text/plain": [
       "                                   name  train_samples  num_family_member  \\\n",
       "417  Garrya elliptica Douglas ex Lindl.             40                  1   \n",
       "\n",
       "     scr  cluster_id  recall_gap  \n",
       "417  1.0         263        -0.4  "
      ]
     },
     "execution_count": 23,
     "metadata": {},
     "output_type": "execute_result"
    }
   ],
   "source": [
    "df[df.cluster_id==263]"
   ]
  },
  {
   "cell_type": "code",
   "execution_count": null,
   "metadata": {},
   "outputs": [],
   "source": [
    "import numpy as np\n",
    "import matplotlib.pyplot as plt\n",
    "\n",
    "x = df3['scr']\n",
    "y = df3['recall_gap']\n",
    "\n",
    "plt.title(\"acc-gain(%) per scr\")\n",
    "plt.plot(x,y*100,'o')\n",
    "m, b = np.polyfit(x, y*100, 1)\n",
    "plt.plot(x, m*x+b)"
   ]
  },
  {
   "cell_type": "code",
   "execution_count": null,
   "metadata": {},
   "outputs": [],
   "source": [
    "df3[df3['num_family_member']==1].recall_gap"
   ]
  },
  {
   "cell_type": "code",
   "execution_count": null,
   "metadata": {},
   "outputs": [],
   "source": [
    "print(df1[(df1['train_samples']>=32)*(df1['train_samples']<100)*(df1['num_family_member']==1)].recall.mean())\n",
    "print(df1[(df1['train_samples']>=32)*(df1['train_samples']<100)*(df1['num_family_member']==2)].recall.mean())\n",
    "print(df1[(df1['train_samples']>=32)*(df1['train_samples']<100)*(df1['num_family_member']==3)].recall.mean())\n",
    "print(df1[(df1['train_samples']>=32)*(df1['train_samples']<100)*(df1['num_family_member']==4)].recall.mean())\n",
    "print(df1[(df1['train_samples']>=32)*(df1['train_samples']<100)*(df1['num_family_member']>4)].recall.mean())"
   ]
  },
  {
   "cell_type": "code",
   "execution_count": null,
   "metadata": {},
   "outputs": [],
   "source": [
    "df1[(df1['train_samples']>=32)*(df1['train_samples']<100)*(df1['num_family_member']==3)]"
   ]
  },
  {
   "cell_type": "code",
   "execution_count": null,
   "metadata": {},
   "outputs": [],
   "source": [
    "print(df1[(df1['train_samples']>=32)*(df1['train_samples']<500)*(df1['num_family_member']==1)].recall.mean())\n",
    "print(df1[(df1['train_samples']>=32)*(df1['train_samples']<500)*(df1['num_family_member']==2)].recall.mean())\n",
    "print(df1[(df1['train_samples']>=32)*(df1['train_samples']<500)*(df1['num_family_member']==3)].recall.mean())\n",
    "print(df1[(df1['train_samples']>=32)*(df1['train_samples']<500)*(df1['num_family_member']==4)].recall.mean())\n",
    "print(df1[(df1['train_samples']>=32)*(df1['train_samples']<500)*(df1['num_family_member']>4)].recall.mean())"
   ]
  },
  {
   "cell_type": "code",
   "execution_count": null,
   "metadata": {},
   "outputs": [],
   "source": [
    "df1[(df1['train_samples']>=32)*(df1['train_samples']<100)*(df1['num_family_member']==1)]"
   ]
  },
  {
   "cell_type": "code",
   "execution_count": null,
   "metadata": {},
   "outputs": [],
   "source": []
  },
  {
   "cell_type": "code",
   "execution_count": null,
   "metadata": {},
   "outputs": [],
   "source": [
    "df3[(df3['train_samples']>=32)*(df3['train_samples']<100)*(df3['num_family_member']==1)].recall_gap.mean()"
   ]
  },
  {
   "cell_type": "code",
   "execution_count": null,
   "metadata": {},
   "outputs": [],
   "source": []
  },
  {
   "cell_type": "code",
   "execution_count": null,
   "metadata": {},
   "outputs": [],
   "source": []
  },
  {
   "cell_type": "code",
   "execution_count": null,
   "metadata": {},
   "outputs": [],
   "source": [
    "df3[(df3['train_samples']>=100)*(df3['train_samples']<200)].recall_gap.mean()"
   ]
  },
  {
   "cell_type": "code",
   "execution_count": null,
   "metadata": {},
   "outputs": [],
   "source": [
    "df3[(df3['train_samples']>=200)*(df3['train_samples']<500)].recall_gap.mean()"
   ]
  },
  {
   "cell_type": "code",
   "execution_count": null,
   "metadata": {},
   "outputs": [],
   "source": [
    "df3[(df3['train_samples']>=500)*(df3['train_samples']<1000)].recall_gap.mean()"
   ]
  },
  {
   "cell_type": "code",
   "execution_count": null,
   "metadata": {},
   "outputs": [],
   "source": [
    "df3[(df3['train_samples']>=1000)*(df3['train_samples']<2000)].recall_gap.mean()"
   ]
  },
  {
   "cell_type": "code",
   "execution_count": null,
   "metadata": {},
   "outputs": [],
   "source": [
    "df3[(df3['train_samples']>=2000)*(df3['train_samples']<5000)].recall_gap.mean()"
   ]
  },
  {
   "cell_type": "code",
   "execution_count": null,
   "metadata": {},
   "outputs": [],
   "source": [
    "df3[(df3['train_samples']>=5000)*(df3['train_samples']<100000)].recall_gap.mean()"
   ]
  },
  {
   "cell_type": "code",
   "execution_count": null,
   "metadata": {},
   "outputs": [],
   "source": []
  },
  {
   "cell_type": "code",
   "execution_count": null,
   "metadata": {},
   "outputs": [],
   "source": [
    "df3[(df3['train_samples']>=32)*(df3['train_samples']<100)*(df3['num_family_member']==1)].recall_gap.mean()"
   ]
  },
  {
   "cell_type": "code",
   "execution_count": null,
   "metadata": {},
   "outputs": [],
   "source": [
    "df3[(df3['train_samples']>=32)*(df3['train_samples']<100)*(df3['num_family_member']==2)].recall_gap.mean()"
   ]
  },
  {
   "cell_type": "code",
   "execution_count": null,
   "metadata": {},
   "outputs": [],
   "source": [
    "df3[(df3['train_samples']>=32)*(df3['train_samples']<100)*(df3['num_family_member']==3)].recall_gap.mean()"
   ]
  },
  {
   "cell_type": "code",
   "execution_count": null,
   "metadata": {},
   "outputs": [],
   "source": [
    "df3[(df3['train_samples']>=32)*(df3['train_samples']<100)*(df3['num_family_member']==4)].recall_gap.mean()"
   ]
  },
  {
   "cell_type": "code",
   "execution_count": null,
   "metadata": {},
   "outputs": [],
   "source": [
    "df3[(df3['train_samples']>=32)*(df3['train_samples']<100)*(df3['num_family_member']>5)].recall_gap.mean()"
   ]
  },
  {
   "cell_type": "code",
   "execution_count": null,
   "metadata": {},
   "outputs": [],
   "source": []
  },
  {
   "cell_type": "code",
   "execution_count": null,
   "metadata": {},
   "outputs": [],
   "source": [
    "df3[(df3['train_samples']>=100)*(df3['train_samples']<200)*(df3['num_family_member']==1)].recall_gap.mean()"
   ]
  },
  {
   "cell_type": "code",
   "execution_count": null,
   "metadata": {},
   "outputs": [],
   "source": [
    "df3[(df3['train_samples']>=100)*(df3['train_samples']<200)*(df3['num_family_member']==2)].recall_gap.mean()"
   ]
  },
  {
   "cell_type": "code",
   "execution_count": null,
   "metadata": {},
   "outputs": [],
   "source": [
    "df3[(df3['train_samples']>=100)*(df3['train_samples']<200)*(df3['num_family_member']==3)].recall_gap.mean()"
   ]
  },
  {
   "cell_type": "code",
   "execution_count": null,
   "metadata": {},
   "outputs": [],
   "source": [
    "df3[(df3['train_samples']>=100)*(df3['train_samples']<200)*(df3['num_family_member']==4)].recall_gap.mean()"
   ]
  },
  {
   "cell_type": "code",
   "execution_count": null,
   "metadata": {},
   "outputs": [],
   "source": [
    "df3[(df3['train_samples']>=100)*(df3['train_samples']<200)*(df3['num_family_member']>5)].recall_gap.mean()"
   ]
  },
  {
   "cell_type": "code",
   "execution_count": null,
   "metadata": {},
   "outputs": [],
   "source": []
  },
  {
   "cell_type": "code",
   "execution_count": null,
   "metadata": {},
   "outputs": [],
   "source": []
  },
  {
   "cell_type": "code",
   "execution_count": null,
   "metadata": {},
   "outputs": [],
   "source": [
    "for i in df2.num_family_member.unique():\n",
    "    print(i)\n",
    "    print(df2[(df2['train_samples']>0)*(df2['num_family_member']==i)]['recall'].mean() - df1[(df1['train_samples']<300)*(df1['num_family_member']==i)]['recall'].mean())"
   ]
  },
  {
   "cell_type": "code",
   "execution_count": null,
   "metadata": {},
   "outputs": [],
   "source": [
    "def compare(x,y):\n",
    "    print(x['recall'].mean() - y['recall'].mean())"
   ]
  },
  {
   "cell_type": "code",
   "execution_count": null,
   "metadata": {},
   "outputs": [],
   "source": [
    "x = df2[(df2['train_samples']>0)*(df2['train_samples']<=100)]\n",
    "y = df1[(df2['train_samples']>0)*(df2['train_samples']<=100)]\n",
    "compare(x,y)\n",
    "x = df2[(df2['train_samples']>100)*(df2['train_samples']<=300)]\n",
    "y = df1[(df2['train_samples']>100)*(df2['train_samples']<=300)]\n",
    "compare(x,y)\n",
    "x = df2[(df2['train_samples']>300)*(df2['train_samples']<=500)]\n",
    "y = df1[(df2['train_samples']>300)*(df2['train_samples']<=500)]\n",
    "compare(x,y)\n",
    "x = df2[(df2['train_samples']>500)*(df2['train_samples']<=1000)]\n",
    "y = df1[(df2['train_samples']>500)*(df2['train_samples']<=1000)]\n",
    "compare(x,y)\n",
    "x = df2[(df2['train_samples']>1000)*(df2['train_samples']<=2000)]\n",
    "y = df1[(df2['train_samples']>1000)*(df2['train_samples']<=2000)]\n",
    "compare(x,y)\n",
    "\n",
    "x = df2[(df2['train_samples']>2000)*(df2['train_samples']<=10000)]\n",
    "y = df1[(df2['train_samples']>2000)*(df2['train_samples']<=10000)]\n",
    "compare(x,y)"
   ]
  },
  {
   "cell_type": "code",
   "execution_count": null,
   "metadata": {},
   "outputs": [],
   "source": [
    "x = df2[(df2['train_samples']>300)*(df2['train_samples']<=500)*(df2['num_family_member']==1)]\n",
    "y = df1[(df2['train_samples']>300)*(df2['train_samples']<=500)*(df2['num_family_member']==1)]\n",
    "compare(x,y)\n",
    "x = df2[(df2['train_samples']>300)*(df2['train_samples']<=500)*(df2['num_family_member']==2)]\n",
    "y = df1[(df2['train_samples']>300)*(df2['train_samples']<=500)*(df2['num_family_member']==2)]\n",
    "compare(x,y)\n",
    "x = df2[(df2['train_samples']>300)*(df2['train_samples']<=500)*(df2['num_family_member']==3)]\n",
    "y = df1[(df2['train_samples']>300)*(df2['train_samples']<=500)*(df2['num_family_member']==3)]\n",
    "compare(x,y)\n",
    "x = df2[(df2['train_samples']>300)*(df2['train_samples']<=500)*(df2['num_family_member']==4)]\n",
    "y = df1[(df2['train_samples']>300)*(df2['train_samples']<=500)*(df2['num_family_member']==4)]\n",
    "compare(x,y)\n",
    "x = df2[(df2['train_samples']>300)*(df2['train_samples']<=500)*(df2['num_family_member']==5)]\n",
    "y = df1[(df2['train_samples']>300)*(df2['train_samples']<=500)*(df2['num_family_member']==5)]\n",
    "compare(x,y)"
   ]
  },
  {
   "cell_type": "code",
   "execution_count": null,
   "metadata": {},
   "outputs": [],
   "source": [
    "df3 = df2[['name', 'train_samples', 'num_family_member']]\n",
    "df3['recall_gap'] = df2['recall'] - df1['recall']"
   ]
  },
  {
   "cell_type": "code",
   "execution_count": null,
   "metadata": {},
   "outputs": [],
   "source": [
    "df3[(df3['train_samples']>300)*(df3['train_samples']<=500)]"
   ]
  },
  {
   "cell_type": "code",
   "execution_count": null,
   "metadata": {},
   "outputs": [],
   "source": [
    "df3[(df3['train_samples']<500)][:50]"
   ]
  },
  {
   "cell_type": "code",
   "execution_count": null,
   "metadata": {},
   "outputs": [],
   "source": []
  },
  {
   "cell_type": "code",
   "execution_count": null,
   "metadata": {},
   "outputs": [],
   "source": [
    "import plotly.express as px\n",
    "fig = px.scatter_3d(df3, x='train_samples', y='num_family_member', z='recall_gap')\n",
    "fig.update_traces(marker_size = 1)\n"
   ]
  },
  {
   "cell_type": "code",
   "execution_count": null,
   "metadata": {},
   "outputs": [],
   "source": []
  },
  {
   "cell_type": "code",
   "execution_count": null,
   "metadata": {},
   "outputs": [],
   "source": [
    "from matplotlib import pyplot as plt\n",
    "\n",
    "\n",
    "\n",
    "X = df3['train_samples']\n",
    "Y = df3['num_family_member']\n",
    "Z = df3['recall_gap']\n",
    "\n",
    "fig = plt.figure()\n",
    "ax = fig.gca(projection='3d')\n",
    "ax.scatter(X,Y,Z)\n"
   ]
  },
  {
   "cell_type": "code",
   "execution_count": null,
   "metadata": {},
   "outputs": [],
   "source": [
    "#df3[df3['train_samples']<100].recall_gap.mean()\n",
    "df3[df3['train_samples']>100].recall_gap.mean()"
   ]
  },
  {
   "cell_type": "code",
   "execution_count": null,
   "metadata": {},
   "outputs": [],
   "source": [
    "df3[df3['train_samples']<100].recall_gap.mean()"
   ]
  },
  {
   "cell_type": "code",
   "execution_count": null,
   "metadata": {},
   "outputs": [],
   "source": [
    "df2[(df2['train_samples']<300)*(df2['num_family_member']==3)]['recall'].mean() - df1[(df1['train_samples']<300)*(df1['num_family_member']==3)]['recall'].mean()"
   ]
  },
  {
   "cell_type": "code",
   "execution_count": null,
   "metadata": {},
   "outputs": [],
   "source": [
    "df2[(df2['train_samples']<300)*(df2['num_family_member']==5)]['recall'].mean() - df1[(df1['train_samples']<300)*(df1['num_family_member']==5)]['recall'].mean()"
   ]
  },
  {
   "cell_type": "code",
   "execution_count": null,
   "metadata": {},
   "outputs": [],
   "source": [
    "df2[(df2['train_samples']<300)*(df2['num_family_member']==6)]['recall'].mean() - df1[(df1['train_samples']<300)*(df1['num_family_member']==6)]['recall'].mean()"
   ]
  },
  {
   "cell_type": "code",
   "execution_count": null,
   "metadata": {},
   "outputs": [],
   "source": [
    "df2[(df2['train_samples']<300)*(df2['num_family_member']==6)]['recall'].mean() - df1[(df1['train_samples']<300)*(df1['num_family_member']==6)]['recall'].mean()"
   ]
  },
  {
   "cell_type": "code",
   "execution_count": null,
   "metadata": {},
   "outputs": [],
   "source": [
    "(df2.recall-df1.recall).mean()"
   ]
  },
  {
   "cell_type": "code",
   "execution_count": null,
   "metadata": {},
   "outputs": [],
   "source": [
    "df2.recall.mean() - df1.recall.mean()"
   ]
  },
  {
   "cell_type": "code",
   "execution_count": null,
   "metadata": {},
   "outputs": [],
   "source": [
    "df2['recall'].mean()"
   ]
  },
  {
   "cell_type": "code",
   "execution_count": null,
   "metadata": {},
   "outputs": [],
   "source": [
    "print(df1[df1.samples_per_class<100]['recall'].mean())\n",
    "print(df2[df2.samples_per_class<100]['recall'].mean())"
   ]
  },
  {
   "cell_type": "code",
   "execution_count": null,
   "metadata": {},
   "outputs": [],
   "source": []
  },
  {
   "cell_type": "code",
   "execution_count": null,
   "metadata": {},
   "outputs": [],
   "source": [
    "print(df1[(500<df1.samples_per_class)*(df1.samples_per_class<2000)]['recall'].mean())\n",
    "print(df2[(500<df1.samples_per_class)*(df1.samples_per_class<2000)]['recall'].mean())"
   ]
  },
  {
   "cell_type": "code",
   "execution_count": null,
   "metadata": {},
   "outputs": [],
   "source": [
    "for x in range(10):\n",
    "    if 3<x<8:\n",
    "        print(x)"
   ]
  },
  {
   "cell_type": "code",
   "execution_count": null,
   "metadata": {},
   "outputs": [],
   "source": []
  }
 ],
 "metadata": {
  "kernelspec": {
   "display_name": "Python 3 (ipykernel)",
   "language": "python",
   "name": "python3"
  },
  "language_info": {
   "codemirror_mode": {
    "name": "ipython",
    "version": 3
   },
   "file_extension": ".py",
   "mimetype": "text/x-python",
   "name": "python",
   "nbconvert_exporter": "python",
   "pygments_lexer": "ipython3",
   "version": "3.7.11"
  },
  "vscode": {
   "interpreter": {
    "hash": "d4d1e4263499bec80672ea0156c357c1ee493ec2b1c70f0acce89fc37c4a6abe"
   }
  }
 },
 "nbformat": 4,
 "nbformat_minor": 2
}

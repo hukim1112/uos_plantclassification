{
 "cells": [
  {
   "cell_type": "code",
   "execution_count": 117,
   "metadata": {},
   "outputs": [],
   "source": [
    "import sys\n",
    "sys.path.append(\"/home/files/uos_plantclassification\")"
   ]
  },
  {
   "cell_type": "code",
   "execution_count": 118,
   "metadata": {},
   "outputs": [],
   "source": [
    "import pandas as pd\n",
    "\n",
    "df1 = pd.read_csv(\"/home/files/experiments/mini_plantnet/efficientB4/exp2/logs/categorical_metrics_test.csv\")\n",
    "#df1 = df1.set_index(\"name\")\n",
    "df2 = pd.read_csv(\"/home/files/experiments/mini_plantnet/hierarchical_classifier/exp1/logs/categorical_metrics_test.csv\")\n",
    "#df2 = df2.set_index(\"name\")"
   ]
  },
  {
   "cell_type": "code",
   "execution_count": 119,
   "metadata": {},
   "outputs": [],
   "source": [
    "import albumentations as A\n",
    "from albumentations.pytorch import ToTensorV2\n",
    "from config.path import PATH\n",
    "from data import get_mini_plantnet, MiniPlantNet\n",
    "transforms = {\n",
    "    'train': A.Compose([\n",
    "        A.Resize(height=380, width=380),\n",
    "        A.HorizontalFlip(p=0.5),\n",
    "        A.Normalize(mean=0.0, std=1.0),\n",
    "        ToTensorV2()]),\n",
    "    'val': A.Compose([\n",
    "        A.Resize(height=380, width=380),\n",
    "        A.Normalize(mean=0.0, std=1.0),\n",
    "        ToTensorV2()]),\n",
    "    'test': A.Compose([\n",
    "        A.Resize(height=380, width=380),\n",
    "        A.Normalize(mean=0.0, std=1.0),\n",
    "        ToTensorV2()])\n",
    "}\n",
    "\n",
    "\n",
    "dataset = MiniPlantNet(root=PATH[\"PLANTNET-300K\"], split=\"train\", shuffle=False, transform=transforms[\"train\"])"
   ]
  },
  {
   "cell_type": "code",
   "execution_count": 120,
   "metadata": {},
   "outputs": [],
   "source": [
    "#mini plantnet의 학습데이터 수\n",
    "\n",
    "from os.path import join\n",
    "from os import listdir\n",
    "\n",
    "train_samples_label = {}\n",
    "train_samples_name = {}\n",
    "\n",
    "for name, label in zip(dataset.name_to_label.keys(), dataset.name_to_label.values()):\n",
    "    num_samples = len(listdir(join(PATH[\"PLANTNET-300K\"], \"images\", \"train\", label)))\n",
    "    train_samples_label[label] = num_samples\n",
    "    train_samples_name[name] = num_samples"
   ]
  },
  {
   "cell_type": "code",
   "execution_count": 121,
   "metadata": {},
   "outputs": [],
   "source": [
    "# 클러스터 정보\n",
    "\n",
    "import json\n",
    "\n",
    "with open(\"/home/files/experiments/mini_plantnet/efficientB4/exp2/name_clusters_25.json\") as file:\n",
    "    data = json.load(file)\n",
    "        \n",
    "list_of_cluster = list(data.values())\n",
    "name_to_num_members = {}\n",
    "for cluster in list_of_cluster:\n",
    "    num_family_member = len(cluster)\n",
    "    for member in cluster:\n",
    "        name_to_num_members[member] = num_family_member\n",
    "        \n",
    "x = []\n",
    "y = []\n",
    "for name in df1.name:\n",
    "    x.append(name_to_num_members[name])\n",
    "    y.append(train_samples_name[name])\n",
    "df1['num_family_member'] = x\n",
    "df2['num_family_member'] = x\n",
    "df1['train_samples'] = y\n",
    "df2['train_samples'] = y"
   ]
  },
  {
   "cell_type": "code",
   "execution_count": 122,
   "metadata": {},
   "outputs": [
    {
     "data": {
      "text/html": [
       "<div>\n",
       "<style scoped>\n",
       "    .dataframe tbody tr th:only-of-type {\n",
       "        vertical-align: middle;\n",
       "    }\n",
       "\n",
       "    .dataframe tbody tr th {\n",
       "        vertical-align: top;\n",
       "    }\n",
       "\n",
       "    .dataframe thead th {\n",
       "        text-align: right;\n",
       "    }\n",
       "</style>\n",
       "<table border=\"1\" class=\"dataframe\">\n",
       "  <thead>\n",
       "    <tr style=\"text-align: right;\">\n",
       "      <th></th>\n",
       "      <th>Unnamed: 0</th>\n",
       "      <th>name</th>\n",
       "      <th>samples_per_class</th>\n",
       "      <th>precision</th>\n",
       "      <th>recall</th>\n",
       "      <th>num_family_member</th>\n",
       "      <th>train_samples</th>\n",
       "    </tr>\n",
       "  </thead>\n",
       "  <tbody>\n",
       "    <tr>\n",
       "      <th>0</th>\n",
       "      <td>0</td>\n",
       "      <td>Lactuca virosa L.</td>\n",
       "      <td>43</td>\n",
       "      <td>1.000000</td>\n",
       "      <td>0.441860</td>\n",
       "      <td>2</td>\n",
       "      <td>335</td>\n",
       "    </tr>\n",
       "    <tr>\n",
       "      <th>1</th>\n",
       "      <td>1</td>\n",
       "      <td>Pelargonium graveolens L'Hér.</td>\n",
       "      <td>215</td>\n",
       "      <td>0.029693</td>\n",
       "      <td>0.823256</td>\n",
       "      <td>5</td>\n",
       "      <td>1716</td>\n",
       "    </tr>\n",
       "    <tr>\n",
       "      <th>2</th>\n",
       "      <td>2</td>\n",
       "      <td>Cirsium arvense (L.) Scop.</td>\n",
       "      <td>428</td>\n",
       "      <td>1.000000</td>\n",
       "      <td>0.873832</td>\n",
       "      <td>4</td>\n",
       "      <td>3419</td>\n",
       "    </tr>\n",
       "    <tr>\n",
       "      <th>3</th>\n",
       "      <td>3</td>\n",
       "      <td>Cirsium vulgare (Savi) Ten.</td>\n",
       "      <td>648</td>\n",
       "      <td>1.000000</td>\n",
       "      <td>0.905864</td>\n",
       "      <td>4</td>\n",
       "      <td>5178</td>\n",
       "    </tr>\n",
       "    <tr>\n",
       "      <th>4</th>\n",
       "      <td>4</td>\n",
       "      <td>Pelargonium peltatum (L.) L'Hér.</td>\n",
       "      <td>21</td>\n",
       "      <td>1.000000</td>\n",
       "      <td>0.238095</td>\n",
       "      <td>2</td>\n",
       "      <td>160</td>\n",
       "    </tr>\n",
       "    <tr>\n",
       "      <th>...</th>\n",
       "      <td>...</td>\n",
       "      <td>...</td>\n",
       "      <td>...</td>\n",
       "      <td>...</td>\n",
       "      <td>...</td>\n",
       "      <td>...</td>\n",
       "      <td>...</td>\n",
       "    </tr>\n",
       "    <tr>\n",
       "      <th>462</th>\n",
       "      <td>462</td>\n",
       "      <td>Peperomia polybotrya Kunth</td>\n",
       "      <td>11</td>\n",
       "      <td>1.000000</td>\n",
       "      <td>0.909091</td>\n",
       "      <td>1</td>\n",
       "      <td>86</td>\n",
       "    </tr>\n",
       "    <tr>\n",
       "      <th>463</th>\n",
       "      <td>463</td>\n",
       "      <td>Peperomia prostrata B.S. Williams</td>\n",
       "      <td>6</td>\n",
       "      <td>1.000000</td>\n",
       "      <td>0.833333</td>\n",
       "      <td>1</td>\n",
       "      <td>39</td>\n",
       "    </tr>\n",
       "    <tr>\n",
       "      <th>464</th>\n",
       "      <td>464</td>\n",
       "      <td>Hebe andersonii (Lindl. &amp; J. Paxton) Cockayne</td>\n",
       "      <td>11</td>\n",
       "      <td>1.000000</td>\n",
       "      <td>0.090909</td>\n",
       "      <td>1</td>\n",
       "      <td>84</td>\n",
       "    </tr>\n",
       "    <tr>\n",
       "      <th>465</th>\n",
       "      <td>465</td>\n",
       "      <td>Hepatica nobilis Mill.</td>\n",
       "      <td>7</td>\n",
       "      <td>NaN</td>\n",
       "      <td>0.000000</td>\n",
       "      <td>1</td>\n",
       "      <td>50</td>\n",
       "    </tr>\n",
       "    <tr>\n",
       "      <th>466</th>\n",
       "      <td>466</td>\n",
       "      <td>Fragaria × ananassa (Duchesne ex Weston) Duche...</td>\n",
       "      <td>31</td>\n",
       "      <td>1.000000</td>\n",
       "      <td>0.322581</td>\n",
       "      <td>3</td>\n",
       "      <td>240</td>\n",
       "    </tr>\n",
       "  </tbody>\n",
       "</table>\n",
       "<p>467 rows × 7 columns</p>\n",
       "</div>"
      ],
      "text/plain": [
       "     Unnamed: 0                                               name  \\\n",
       "0             0                                  Lactuca virosa L.   \n",
       "1             1                      Pelargonium graveolens L'Hér.   \n",
       "2             2                         Cirsium arvense (L.) Scop.   \n",
       "3             3                        Cirsium vulgare (Savi) Ten.   \n",
       "4             4                   Pelargonium peltatum (L.) L'Hér.   \n",
       "..          ...                                                ...   \n",
       "462         462                         Peperomia polybotrya Kunth   \n",
       "463         463                  Peperomia prostrata B.S. Williams   \n",
       "464         464      Hebe andersonii (Lindl. & J. Paxton) Cockayne   \n",
       "465         465                             Hepatica nobilis Mill.   \n",
       "466         466  Fragaria × ananassa (Duchesne ex Weston) Duche...   \n",
       "\n",
       "     samples_per_class  precision    recall  num_family_member  train_samples  \n",
       "0                   43   1.000000  0.441860                  2            335  \n",
       "1                  215   0.029693  0.823256                  5           1716  \n",
       "2                  428   1.000000  0.873832                  4           3419  \n",
       "3                  648   1.000000  0.905864                  4           5178  \n",
       "4                   21   1.000000  0.238095                  2            160  \n",
       "..                 ...        ...       ...                ...            ...  \n",
       "462                 11   1.000000  0.909091                  1             86  \n",
       "463                  6   1.000000  0.833333                  1             39  \n",
       "464                 11   1.000000  0.090909                  1             84  \n",
       "465                  7        NaN  0.000000                  1             50  \n",
       "466                 31   1.000000  0.322581                  3            240  \n",
       "\n",
       "[467 rows x 7 columns]"
      ]
     },
     "execution_count": 122,
     "metadata": {},
     "output_type": "execute_result"
    }
   ],
   "source": [
    "df1"
   ]
  },
  {
   "cell_type": "code",
   "execution_count": 123,
   "metadata": {},
   "outputs": [
    {
     "data": {
      "text/html": [
       "<div>\n",
       "<style scoped>\n",
       "    .dataframe tbody tr th:only-of-type {\n",
       "        vertical-align: middle;\n",
       "    }\n",
       "\n",
       "    .dataframe tbody tr th {\n",
       "        vertical-align: top;\n",
       "    }\n",
       "\n",
       "    .dataframe thead th {\n",
       "        text-align: right;\n",
       "    }\n",
       "</style>\n",
       "<table border=\"1\" class=\"dataframe\">\n",
       "  <thead>\n",
       "    <tr style=\"text-align: right;\">\n",
       "      <th></th>\n",
       "      <th>Unnamed: 0</th>\n",
       "      <th>name</th>\n",
       "      <th>samples_per_class</th>\n",
       "      <th>precision</th>\n",
       "      <th>recall</th>\n",
       "      <th>num_family_member</th>\n",
       "      <th>train_samples</th>\n",
       "    </tr>\n",
       "  </thead>\n",
       "  <tbody>\n",
       "    <tr>\n",
       "      <th>0</th>\n",
       "      <td>0</td>\n",
       "      <td>Lactuca virosa L.</td>\n",
       "      <td>43</td>\n",
       "      <td>1.000000</td>\n",
       "      <td>0.372093</td>\n",
       "      <td>2</td>\n",
       "      <td>335</td>\n",
       "    </tr>\n",
       "    <tr>\n",
       "      <th>1</th>\n",
       "      <td>1</td>\n",
       "      <td>Pelargonium graveolens L'Hér.</td>\n",
       "      <td>215</td>\n",
       "      <td>0.030271</td>\n",
       "      <td>0.804651</td>\n",
       "      <td>5</td>\n",
       "      <td>1716</td>\n",
       "    </tr>\n",
       "    <tr>\n",
       "      <th>2</th>\n",
       "      <td>2</td>\n",
       "      <td>Cirsium arvense (L.) Scop.</td>\n",
       "      <td>428</td>\n",
       "      <td>1.000000</td>\n",
       "      <td>0.906542</td>\n",
       "      <td>4</td>\n",
       "      <td>3419</td>\n",
       "    </tr>\n",
       "    <tr>\n",
       "      <th>3</th>\n",
       "      <td>3</td>\n",
       "      <td>Cirsium vulgare (Savi) Ten.</td>\n",
       "      <td>648</td>\n",
       "      <td>1.000000</td>\n",
       "      <td>0.929012</td>\n",
       "      <td>4</td>\n",
       "      <td>5178</td>\n",
       "    </tr>\n",
       "    <tr>\n",
       "      <th>4</th>\n",
       "      <td>4</td>\n",
       "      <td>Pelargonium peltatum (L.) L'Hér.</td>\n",
       "      <td>21</td>\n",
       "      <td>1.000000</td>\n",
       "      <td>0.095238</td>\n",
       "      <td>2</td>\n",
       "      <td>160</td>\n",
       "    </tr>\n",
       "    <tr>\n",
       "      <th>...</th>\n",
       "      <td>...</td>\n",
       "      <td>...</td>\n",
       "      <td>...</td>\n",
       "      <td>...</td>\n",
       "      <td>...</td>\n",
       "      <td>...</td>\n",
       "      <td>...</td>\n",
       "    </tr>\n",
       "    <tr>\n",
       "      <th>462</th>\n",
       "      <td>462</td>\n",
       "      <td>Peperomia polybotrya Kunth</td>\n",
       "      <td>11</td>\n",
       "      <td>1.000000</td>\n",
       "      <td>0.909091</td>\n",
       "      <td>1</td>\n",
       "      <td>86</td>\n",
       "    </tr>\n",
       "    <tr>\n",
       "      <th>463</th>\n",
       "      <td>463</td>\n",
       "      <td>Peperomia prostrata B.S. Williams</td>\n",
       "      <td>6</td>\n",
       "      <td>1.000000</td>\n",
       "      <td>0.500000</td>\n",
       "      <td>1</td>\n",
       "      <td>39</td>\n",
       "    </tr>\n",
       "    <tr>\n",
       "      <th>464</th>\n",
       "      <td>464</td>\n",
       "      <td>Hebe andersonii (Lindl. &amp; J. Paxton) Cockayne</td>\n",
       "      <td>11</td>\n",
       "      <td>1.000000</td>\n",
       "      <td>0.090909</td>\n",
       "      <td>1</td>\n",
       "      <td>84</td>\n",
       "    </tr>\n",
       "    <tr>\n",
       "      <th>465</th>\n",
       "      <td>465</td>\n",
       "      <td>Hepatica nobilis Mill.</td>\n",
       "      <td>7</td>\n",
       "      <td>NaN</td>\n",
       "      <td>0.000000</td>\n",
       "      <td>1</td>\n",
       "      <td>50</td>\n",
       "    </tr>\n",
       "    <tr>\n",
       "      <th>466</th>\n",
       "      <td>466</td>\n",
       "      <td>Fragaria × ananassa (Duchesne ex Weston) Duche...</td>\n",
       "      <td>31</td>\n",
       "      <td>1.000000</td>\n",
       "      <td>0.322581</td>\n",
       "      <td>3</td>\n",
       "      <td>240</td>\n",
       "    </tr>\n",
       "  </tbody>\n",
       "</table>\n",
       "<p>467 rows × 7 columns</p>\n",
       "</div>"
      ],
      "text/plain": [
       "     Unnamed: 0                                               name  \\\n",
       "0             0                                  Lactuca virosa L.   \n",
       "1             1                      Pelargonium graveolens L'Hér.   \n",
       "2             2                         Cirsium arvense (L.) Scop.   \n",
       "3             3                        Cirsium vulgare (Savi) Ten.   \n",
       "4             4                   Pelargonium peltatum (L.) L'Hér.   \n",
       "..          ...                                                ...   \n",
       "462         462                         Peperomia polybotrya Kunth   \n",
       "463         463                  Peperomia prostrata B.S. Williams   \n",
       "464         464      Hebe andersonii (Lindl. & J. Paxton) Cockayne   \n",
       "465         465                             Hepatica nobilis Mill.   \n",
       "466         466  Fragaria × ananassa (Duchesne ex Weston) Duche...   \n",
       "\n",
       "     samples_per_class  precision    recall  num_family_member  train_samples  \n",
       "0                   43   1.000000  0.372093                  2            335  \n",
       "1                  215   0.030271  0.804651                  5           1716  \n",
       "2                  428   1.000000  0.906542                  4           3419  \n",
       "3                  648   1.000000  0.929012                  4           5178  \n",
       "4                   21   1.000000  0.095238                  2            160  \n",
       "..                 ...        ...       ...                ...            ...  \n",
       "462                 11   1.000000  0.909091                  1             86  \n",
       "463                  6   1.000000  0.500000                  1             39  \n",
       "464                 11   1.000000  0.090909                  1             84  \n",
       "465                  7        NaN  0.000000                  1             50  \n",
       "466                 31   1.000000  0.322581                  3            240  \n",
       "\n",
       "[467 rows x 7 columns]"
      ]
     },
     "execution_count": 123,
     "metadata": {},
     "output_type": "execute_result"
    }
   ],
   "source": [
    "df2"
   ]
  },
  {
   "cell_type": "code",
   "execution_count": 162,
   "metadata": {},
   "outputs": [
    {
     "name": "stdout",
     "output_type": "stream",
     "text": [
      "2\n",
      "0.22116424840317472\n",
      "5\n",
      "0.33895354733333316\n",
      "4\n",
      "0.35349383293636366\n",
      "6\n",
      "0.15246479333333335\n",
      "1\n",
      "0.035654025479756934\n",
      "3\n",
      "0.4188201321666667\n",
      "8\n",
      "0.16469530708333335\n"
     ]
    }
   ],
   "source": [
    "for i in df2.num_family_member.unique():\n",
    "    print(i)\n",
    "    print(df2[(df2['train_samples']>0)*(df2['num_family_member']==i)]['recall'].mean() - df1[(df1['train_samples']<300)*(df1['num_family_member']==i)]['recall'].mean())"
   ]
  },
  {
   "cell_type": "code",
   "execution_count": 166,
   "metadata": {},
   "outputs": [],
   "source": [
    "def compare(x,y):\n",
    "    print(x['recall'].mean() - y['recall'].mean())"
   ]
  },
  {
   "cell_type": "code",
   "execution_count": 170,
   "metadata": {},
   "outputs": [
    {
     "name": "stdout",
     "output_type": "stream",
     "text": [
      "0.017732205314285765\n",
      "0.021122686871621665\n",
      "0.03204888361111102\n",
      "0.016163575744186254\n",
      "-0.004314633999999873\n",
      "0.005014764999999977\n"
     ]
    }
   ],
   "source": [
    "x = df2[(df2['train_samples']>0)*(df2['train_samples']<=100)]\n",
    "y = df1[(df2['train_samples']>0)*(df2['train_samples']<=100)]\n",
    "compare(x,y)\n",
    "x = df2[(df2['train_samples']>100)*(df2['train_samples']<=300)]\n",
    "y = df1[(df2['train_samples']>100)*(df2['train_samples']<=300)]\n",
    "compare(x,y)\n",
    "x = df2[(df2['train_samples']>300)*(df2['train_samples']<=500)]\n",
    "y = df1[(df2['train_samples']>300)*(df2['train_samples']<=500)]\n",
    "compare(x,y)\n",
    "x = df2[(df2['train_samples']>500)*(df2['train_samples']<=1000)]\n",
    "y = df1[(df2['train_samples']>500)*(df2['train_samples']<=1000)]\n",
    "compare(x,y)\n",
    "x = df2[(df2['train_samples']>1000)*(df2['train_samples']<=2000)]\n",
    "y = df1[(df2['train_samples']>1000)*(df2['train_samples']<=2000)]\n",
    "compare(x,y)\n",
    "\n",
    "x = df2[(df2['train_samples']>2000)*(df2['train_samples']<=10000)]\n",
    "y = df1[(df2['train_samples']>2000)*(df2['train_samples']<=10000)]\n",
    "compare(x,y)"
   ]
  },
  {
   "cell_type": "code",
   "execution_count": 174,
   "metadata": {},
   "outputs": [
    {
     "name": "stdout",
     "output_type": "stream",
     "text": [
      "0.025945853333333324\n",
      "-0.00600189250000005\n",
      "0.07716352675000004\n",
      "nan\n",
      "0.19128785799999998\n"
     ]
    }
   ],
   "source": [
    "x = df2[(df2['train_samples']>300)*(df2['train_samples']<=500)*(df2['num_family_member']==1)]\n",
    "y = df1[(df2['train_samples']>300)*(df2['train_samples']<=500)*(df2['num_family_member']==1)]\n",
    "compare(x,y)\n",
    "x = df2[(df2['train_samples']>300)*(df2['train_samples']<=500)*(df2['num_family_member']==2)]\n",
    "y = df1[(df2['train_samples']>300)*(df2['train_samples']<=500)*(df2['num_family_member']==2)]\n",
    "compare(x,y)\n",
    "x = df2[(df2['train_samples']>300)*(df2['train_samples']<=500)*(df2['num_family_member']==3)]\n",
    "y = df1[(df2['train_samples']>300)*(df2['train_samples']<=500)*(df2['num_family_member']==3)]\n",
    "compare(x,y)\n",
    "x = df2[(df2['train_samples']>300)*(df2['train_samples']<=500)*(df2['num_family_member']==4)]\n",
    "y = df1[(df2['train_samples']>300)*(df2['train_samples']<=500)*(df2['num_family_member']==4)]\n",
    "compare(x,y)\n",
    "x = df2[(df2['train_samples']>300)*(df2['train_samples']<=500)*(df2['num_family_member']==5)]\n",
    "y = df1[(df2['train_samples']>300)*(df2['train_samples']<=500)*(df2['num_family_member']==5)]\n",
    "compare(x,y)"
   ]
  },
  {
   "cell_type": "code",
   "execution_count": 194,
   "metadata": {},
   "outputs": [
    {
     "name": "stderr",
     "output_type": "stream",
     "text": [
      "/opt/conda/lib/python3.7/site-packages/ipykernel_launcher.py:2: SettingWithCopyWarning: \n",
      "A value is trying to be set on a copy of a slice from a DataFrame.\n",
      "Try using .loc[row_indexer,col_indexer] = value instead\n",
      "\n",
      "See the caveats in the documentation: https://pandas.pydata.org/pandas-docs/stable/user_guide/indexing.html#returning-a-view-versus-a-copy\n",
      "  \n"
     ]
    }
   ],
   "source": [
    "df3 = df2[['name', 'train_samples', 'num_family_member']]\n",
    "df3['recall_gap'] = df2['recall'] - df1['recall']"
   ]
  },
  {
   "cell_type": "code",
   "execution_count": null,
   "metadata": {},
   "outputs": [],
   "source": [
    "df3[(df3['train_samples']>300)*(df3['train_samples']<=500)]"
   ]
  },
  {
   "cell_type": "code",
   "execution_count": 216,
   "metadata": {},
   "outputs": [
    {
     "data": {
      "text/html": [
       "<div>\n",
       "<style scoped>\n",
       "    .dataframe tbody tr th:only-of-type {\n",
       "        vertical-align: middle;\n",
       "    }\n",
       "\n",
       "    .dataframe tbody tr th {\n",
       "        vertical-align: top;\n",
       "    }\n",
       "\n",
       "    .dataframe thead th {\n",
       "        text-align: right;\n",
       "    }\n",
       "</style>\n",
       "<table border=\"1\" class=\"dataframe\">\n",
       "  <thead>\n",
       "    <tr style=\"text-align: right;\">\n",
       "      <th></th>\n",
       "      <th>name</th>\n",
       "      <th>train_samples</th>\n",
       "      <th>num_family_member</th>\n",
       "      <th>recall_gap</th>\n",
       "    </tr>\n",
       "  </thead>\n",
       "  <tbody>\n",
       "    <tr>\n",
       "      <th>0</th>\n",
       "      <td>Lactuca virosa L.</td>\n",
       "      <td>335</td>\n",
       "      <td>2</td>\n",
       "      <td>-0.069767</td>\n",
       "    </tr>\n",
       "    <tr>\n",
       "      <th>4</th>\n",
       "      <td>Pelargonium peltatum (L.) L'Hér.</td>\n",
       "      <td>160</td>\n",
       "      <td>2</td>\n",
       "      <td>-0.142857</td>\n",
       "    </tr>\n",
       "    <tr>\n",
       "      <th>7</th>\n",
       "      <td>Phyllanthus tenellus Roxb.</td>\n",
       "      <td>91</td>\n",
       "      <td>1</td>\n",
       "      <td>-0.166667</td>\n",
       "    </tr>\n",
       "    <tr>\n",
       "      <th>10</th>\n",
       "      <td>Tradescantia zebrina Heynh. ex Bosse</td>\n",
       "      <td>60</td>\n",
       "      <td>3</td>\n",
       "      <td>0.125000</td>\n",
       "    </tr>\n",
       "    <tr>\n",
       "      <th>14</th>\n",
       "      <td>Trifolium fragiferum L.</td>\n",
       "      <td>131</td>\n",
       "      <td>1</td>\n",
       "      <td>-0.058824</td>\n",
       "    </tr>\n",
       "    <tr>\n",
       "      <th>15</th>\n",
       "      <td>Dryopteris affinis (Lowe) Fraser-Jenk.</td>\n",
       "      <td>38</td>\n",
       "      <td>1</td>\n",
       "      <td>0.000000</td>\n",
       "    </tr>\n",
       "    <tr>\n",
       "      <th>17</th>\n",
       "      <td>Nephrolepis cordifolia (L.) C. Presl</td>\n",
       "      <td>301</td>\n",
       "      <td>2</td>\n",
       "      <td>0.078947</td>\n",
       "    </tr>\n",
       "    <tr>\n",
       "      <th>19</th>\n",
       "      <td>Osmunda regalis L.</td>\n",
       "      <td>312</td>\n",
       "      <td>2</td>\n",
       "      <td>0.102564</td>\n",
       "    </tr>\n",
       "    <tr>\n",
       "      <th>20</th>\n",
       "      <td>Achyranthes aspera L.</td>\n",
       "      <td>81</td>\n",
       "      <td>1</td>\n",
       "      <td>0.000000</td>\n",
       "    </tr>\n",
       "    <tr>\n",
       "      <th>21</th>\n",
       "      <td>Lithodora fruticosa (L.) Griseb.</td>\n",
       "      <td>473</td>\n",
       "      <td>1</td>\n",
       "      <td>0.016667</td>\n",
       "    </tr>\n",
       "    <tr>\n",
       "      <th>23</th>\n",
       "      <td>Vaccaria hispanica (Mill.) Rauschert</td>\n",
       "      <td>292</td>\n",
       "      <td>1</td>\n",
       "      <td>0.108108</td>\n",
       "    </tr>\n",
       "    <tr>\n",
       "      <th>24</th>\n",
       "      <td>Moehringia trinervia (L.) Clairv.</td>\n",
       "      <td>84</td>\n",
       "      <td>1</td>\n",
       "      <td>0.090909</td>\n",
       "    </tr>\n",
       "    <tr>\n",
       "      <th>26</th>\n",
       "      <td>Calendula stellata Cav.</td>\n",
       "      <td>79</td>\n",
       "      <td>1</td>\n",
       "      <td>0.000000</td>\n",
       "    </tr>\n",
       "    <tr>\n",
       "      <th>27</th>\n",
       "      <td>Carthamus lanatus L.</td>\n",
       "      <td>261</td>\n",
       "      <td>1</td>\n",
       "      <td>-0.090909</td>\n",
       "    </tr>\n",
       "    <tr>\n",
       "      <th>28</th>\n",
       "      <td>Cirsium monspessulanum (L.) Hill</td>\n",
       "      <td>88</td>\n",
       "      <td>1</td>\n",
       "      <td>0.083333</td>\n",
       "    </tr>\n",
       "    <tr>\n",
       "      <th>30</th>\n",
       "      <td>Hyoseris radiata L.</td>\n",
       "      <td>127</td>\n",
       "      <td>1</td>\n",
       "      <td>0.058824</td>\n",
       "    </tr>\n",
       "    <tr>\n",
       "      <th>32</th>\n",
       "      <td>Limbarda crithmoides (L.) Dumort.</td>\n",
       "      <td>292</td>\n",
       "      <td>1</td>\n",
       "      <td>0.027027</td>\n",
       "    </tr>\n",
       "    <tr>\n",
       "      <th>35</th>\n",
       "      <td>Sedum brevifolium DC.</td>\n",
       "      <td>63</td>\n",
       "      <td>1</td>\n",
       "      <td>0.125000</td>\n",
       "    </tr>\n",
       "    <tr>\n",
       "      <th>36</th>\n",
       "      <td>Sedum caeruleum L.</td>\n",
       "      <td>79</td>\n",
       "      <td>1</td>\n",
       "      <td>0.000000</td>\n",
       "    </tr>\n",
       "    <tr>\n",
       "      <th>37</th>\n",
       "      <td>Sedum cepaea L.</td>\n",
       "      <td>79</td>\n",
       "      <td>1</td>\n",
       "      <td>0.000000</td>\n",
       "    </tr>\n",
       "    <tr>\n",
       "      <th>39</th>\n",
       "      <td>Sedum forsterianum Sm.</td>\n",
       "      <td>184</td>\n",
       "      <td>4</td>\n",
       "      <td>0.000000</td>\n",
       "    </tr>\n",
       "    <tr>\n",
       "      <th>40</th>\n",
       "      <td>Sedum hirsutum All.</td>\n",
       "      <td>92</td>\n",
       "      <td>1</td>\n",
       "      <td>0.083333</td>\n",
       "    </tr>\n",
       "    <tr>\n",
       "      <th>41</th>\n",
       "      <td>Sedum rubens L.</td>\n",
       "      <td>64</td>\n",
       "      <td>1</td>\n",
       "      <td>-0.125000</td>\n",
       "    </tr>\n",
       "    <tr>\n",
       "      <th>44</th>\n",
       "      <td>Acalypha virginica L.</td>\n",
       "      <td>115</td>\n",
       "      <td>1</td>\n",
       "      <td>-0.066667</td>\n",
       "    </tr>\n",
       "    <tr>\n",
       "      <th>47</th>\n",
       "      <td>Hypericum hircinum L.</td>\n",
       "      <td>111</td>\n",
       "      <td>2</td>\n",
       "      <td>-0.133333</td>\n",
       "    </tr>\n",
       "    <tr>\n",
       "      <th>48</th>\n",
       "      <td>Hypericum hirsutum L.</td>\n",
       "      <td>247</td>\n",
       "      <td>3</td>\n",
       "      <td>0.000000</td>\n",
       "    </tr>\n",
       "    <tr>\n",
       "      <th>49</th>\n",
       "      <td>Hypericum humifusum L.</td>\n",
       "      <td>106</td>\n",
       "      <td>1</td>\n",
       "      <td>0.000000</td>\n",
       "    </tr>\n",
       "    <tr>\n",
       "      <th>50</th>\n",
       "      <td>Hypericum montanum L.</td>\n",
       "      <td>43</td>\n",
       "      <td>1</td>\n",
       "      <td>-0.166667</td>\n",
       "    </tr>\n",
       "    <tr>\n",
       "      <th>51</th>\n",
       "      <td>Hypericum perfoliatum L.</td>\n",
       "      <td>48</td>\n",
       "      <td>1</td>\n",
       "      <td>0.000000</td>\n",
       "    </tr>\n",
       "    <tr>\n",
       "      <th>52</th>\n",
       "      <td>Hypericum tetrapterum Fr.</td>\n",
       "      <td>133</td>\n",
       "      <td>1</td>\n",
       "      <td>-0.117647</td>\n",
       "    </tr>\n",
       "    <tr>\n",
       "      <th>53</th>\n",
       "      <td>Lamium flexuosum Ten.</td>\n",
       "      <td>65</td>\n",
       "      <td>1</td>\n",
       "      <td>0.000000</td>\n",
       "    </tr>\n",
       "    <tr>\n",
       "      <th>56</th>\n",
       "      <td>Lavandula multifida L.</td>\n",
       "      <td>55</td>\n",
       "      <td>1</td>\n",
       "      <td>-0.125000</td>\n",
       "    </tr>\n",
       "    <tr>\n",
       "      <th>58</th>\n",
       "      <td>Galega officinalis L.</td>\n",
       "      <td>428</td>\n",
       "      <td>2</td>\n",
       "      <td>0.074074</td>\n",
       "    </tr>\n",
       "    <tr>\n",
       "      <th>59</th>\n",
       "      <td>Trifolium angustifolium L.</td>\n",
       "      <td>327</td>\n",
       "      <td>2</td>\n",
       "      <td>-0.071429</td>\n",
       "    </tr>\n",
       "    <tr>\n",
       "      <th>61</th>\n",
       "      <td>Trifolium aureum Pollich</td>\n",
       "      <td>163</td>\n",
       "      <td>4</td>\n",
       "      <td>0.000000</td>\n",
       "    </tr>\n",
       "    <tr>\n",
       "      <th>63</th>\n",
       "      <td>Trifolium hirtum All.</td>\n",
       "      <td>35</td>\n",
       "      <td>1</td>\n",
       "      <td>0.000000</td>\n",
       "    </tr>\n",
       "    <tr>\n",
       "      <th>64</th>\n",
       "      <td>Trifolium hybridum L.</td>\n",
       "      <td>185</td>\n",
       "      <td>2</td>\n",
       "      <td>-0.125000</td>\n",
       "    </tr>\n",
       "    <tr>\n",
       "      <th>66</th>\n",
       "      <td>Trifolium montanum L.</td>\n",
       "      <td>187</td>\n",
       "      <td>1</td>\n",
       "      <td>-0.041667</td>\n",
       "    </tr>\n",
       "    <tr>\n",
       "      <th>67</th>\n",
       "      <td>Trifolium ochroleucon Huds.</td>\n",
       "      <td>39</td>\n",
       "      <td>1</td>\n",
       "      <td>0.000000</td>\n",
       "    </tr>\n",
       "    <tr>\n",
       "      <th>69</th>\n",
       "      <td>Trifolium purpureum Loisel.</td>\n",
       "      <td>67</td>\n",
       "      <td>1</td>\n",
       "      <td>-0.111111</td>\n",
       "    </tr>\n",
       "    <tr>\n",
       "      <th>70</th>\n",
       "      <td>Trifolium resupinatum L.</td>\n",
       "      <td>168</td>\n",
       "      <td>1</td>\n",
       "      <td>0.047619</td>\n",
       "    </tr>\n",
       "    <tr>\n",
       "      <th>71</th>\n",
       "      <td>Trifolium stellatum L.</td>\n",
       "      <td>329</td>\n",
       "      <td>1</td>\n",
       "      <td>0.023810</td>\n",
       "    </tr>\n",
       "    <tr>\n",
       "      <th>72</th>\n",
       "      <td>Trifolium tomentosum L.</td>\n",
       "      <td>47</td>\n",
       "      <td>1</td>\n",
       "      <td>0.166667</td>\n",
       "    </tr>\n",
       "    <tr>\n",
       "      <th>75</th>\n",
       "      <td>Althaea cannabina L.</td>\n",
       "      <td>234</td>\n",
       "      <td>1</td>\n",
       "      <td>0.066667</td>\n",
       "    </tr>\n",
       "    <tr>\n",
       "      <th>78</th>\n",
       "      <td>Adonis aestivalis L.</td>\n",
       "      <td>90</td>\n",
       "      <td>1</td>\n",
       "      <td>-0.083333</td>\n",
       "    </tr>\n",
       "    <tr>\n",
       "      <th>79</th>\n",
       "      <td>Adonis annua L.</td>\n",
       "      <td>113</td>\n",
       "      <td>1</td>\n",
       "      <td>0.133333</td>\n",
       "    </tr>\n",
       "    <tr>\n",
       "      <th>81</th>\n",
       "      <td>Oldenlandia corymbosa L.</td>\n",
       "      <td>33</td>\n",
       "      <td>1</td>\n",
       "      <td>-0.200000</td>\n",
       "    </tr>\n",
       "    <tr>\n",
       "      <th>82</th>\n",
       "      <td>Hyoscyamus albus L.</td>\n",
       "      <td>233</td>\n",
       "      <td>1</td>\n",
       "      <td>-0.100000</td>\n",
       "    </tr>\n",
       "    <tr>\n",
       "      <th>83</th>\n",
       "      <td>Hyoscyamus niger L.</td>\n",
       "      <td>240</td>\n",
       "      <td>1</td>\n",
       "      <td>0.000000</td>\n",
       "    </tr>\n",
       "    <tr>\n",
       "      <th>86</th>\n",
       "      <td>Berula erecta (Huds.) Coville</td>\n",
       "      <td>98</td>\n",
       "      <td>1</td>\n",
       "      <td>0.000000</td>\n",
       "    </tr>\n",
       "  </tbody>\n",
       "</table>\n",
       "</div>"
      ],
      "text/plain": [
       "                                      name  train_samples  num_family_member  \\\n",
       "0                        Lactuca virosa L.            335                  2   \n",
       "4         Pelargonium peltatum (L.) L'Hér.            160                  2   \n",
       "7               Phyllanthus tenellus Roxb.             91                  1   \n",
       "10    Tradescantia zebrina Heynh. ex Bosse             60                  3   \n",
       "14                 Trifolium fragiferum L.            131                  1   \n",
       "15  Dryopteris affinis (Lowe) Fraser-Jenk.             38                  1   \n",
       "17    Nephrolepis cordifolia (L.) C. Presl            301                  2   \n",
       "19                      Osmunda regalis L.            312                  2   \n",
       "20                   Achyranthes aspera L.             81                  1   \n",
       "21        Lithodora fruticosa (L.) Griseb.            473                  1   \n",
       "23    Vaccaria hispanica (Mill.) Rauschert            292                  1   \n",
       "24       Moehringia trinervia (L.) Clairv.             84                  1   \n",
       "26                 Calendula stellata Cav.             79                  1   \n",
       "27                    Carthamus lanatus L.            261                  1   \n",
       "28        Cirsium monspessulanum (L.) Hill             88                  1   \n",
       "30                     Hyoseris radiata L.            127                  1   \n",
       "32       Limbarda crithmoides (L.) Dumort.            292                  1   \n",
       "35                   Sedum brevifolium DC.             63                  1   \n",
       "36                      Sedum caeruleum L.             79                  1   \n",
       "37                         Sedum cepaea L.             79                  1   \n",
       "39                  Sedum forsterianum Sm.            184                  4   \n",
       "40                     Sedum hirsutum All.             92                  1   \n",
       "41                         Sedum rubens L.             64                  1   \n",
       "44                   Acalypha virginica L.            115                  1   \n",
       "47                   Hypericum hircinum L.            111                  2   \n",
       "48                   Hypericum hirsutum L.            247                  3   \n",
       "49                  Hypericum humifusum L.            106                  1   \n",
       "50                   Hypericum montanum L.             43                  1   \n",
       "51                Hypericum perfoliatum L.             48                  1   \n",
       "52               Hypericum tetrapterum Fr.            133                  1   \n",
       "53                   Lamium flexuosum Ten.             65                  1   \n",
       "56                  Lavandula multifida L.             55                  1   \n",
       "58                   Galega officinalis L.            428                  2   \n",
       "59              Trifolium angustifolium L.            327                  2   \n",
       "61                Trifolium aureum Pollich            163                  4   \n",
       "63                   Trifolium hirtum All.             35                  1   \n",
       "64                   Trifolium hybridum L.            185                  2   \n",
       "66                   Trifolium montanum L.            187                  1   \n",
       "67             Trifolium ochroleucon Huds.             39                  1   \n",
       "69             Trifolium purpureum Loisel.             67                  1   \n",
       "70                Trifolium resupinatum L.            168                  1   \n",
       "71                  Trifolium stellatum L.            329                  1   \n",
       "72                 Trifolium tomentosum L.             47                  1   \n",
       "75                    Althaea cannabina L.            234                  1   \n",
       "78                    Adonis aestivalis L.             90                  1   \n",
       "79                         Adonis annua L.            113                  1   \n",
       "81                Oldenlandia corymbosa L.             33                  1   \n",
       "82                     Hyoscyamus albus L.            233                  1   \n",
       "83                     Hyoscyamus niger L.            240                  1   \n",
       "86           Berula erecta (Huds.) Coville             98                  1   \n",
       "\n",
       "    recall_gap  \n",
       "0    -0.069767  \n",
       "4    -0.142857  \n",
       "7    -0.166667  \n",
       "10    0.125000  \n",
       "14   -0.058824  \n",
       "15    0.000000  \n",
       "17    0.078947  \n",
       "19    0.102564  \n",
       "20    0.000000  \n",
       "21    0.016667  \n",
       "23    0.108108  \n",
       "24    0.090909  \n",
       "26    0.000000  \n",
       "27   -0.090909  \n",
       "28    0.083333  \n",
       "30    0.058824  \n",
       "32    0.027027  \n",
       "35    0.125000  \n",
       "36    0.000000  \n",
       "37    0.000000  \n",
       "39    0.000000  \n",
       "40    0.083333  \n",
       "41   -0.125000  \n",
       "44   -0.066667  \n",
       "47   -0.133333  \n",
       "48    0.000000  \n",
       "49    0.000000  \n",
       "50   -0.166667  \n",
       "51    0.000000  \n",
       "52   -0.117647  \n",
       "53    0.000000  \n",
       "56   -0.125000  \n",
       "58    0.074074  \n",
       "59   -0.071429  \n",
       "61    0.000000  \n",
       "63    0.000000  \n",
       "64   -0.125000  \n",
       "66   -0.041667  \n",
       "67    0.000000  \n",
       "69   -0.111111  \n",
       "70    0.047619  \n",
       "71    0.023810  \n",
       "72    0.166667  \n",
       "75    0.066667  \n",
       "78   -0.083333  \n",
       "79    0.133333  \n",
       "81   -0.200000  \n",
       "82   -0.100000  \n",
       "83    0.000000  \n",
       "86    0.000000  "
      ]
     },
     "execution_count": 216,
     "metadata": {},
     "output_type": "execute_result"
    }
   ],
   "source": [
    "df3[(df3['train_samples']<500)][:50]"
   ]
  },
  {
   "cell_type": "code",
   "execution_count": null,
   "metadata": {},
   "outputs": [],
   "source": []
  },
  {
   "cell_type": "code",
   "execution_count": 208,
   "metadata": {},
   "outputs": [
    {
     "data": {
      "application/vnd.plotly.v1+json": {
       "config": {
        "plotlyServerURL": "https://plot.ly"
       },
       "data": [
        {
         "hovertemplate": "train_samples=%{x}<br>num_family_member=%{y}<br>recall_gap=%{z}<extra></extra>",
         "legendgroup": "",
         "marker": {
          "color": "#636efa",
          "size": 1,
          "symbol": "circle"
         },
         "mode": "markers",
         "name": "",
         "scene": "scene",
         "showlegend": false,
         "type": "scatter3d",
         "x": [
          335,
          1716,
          3419,
          5178,
          160,
          891,
          1224,
          91,
          6140,
          1040,
          60,
          823,
          704,
          1379,
          131,
          38,
          1031,
          301,
          550,
          312,
          81,
          473,
          2007,
          292,
          84,
          4837,
          79,
          261,
          88,
          1291,
          127,
          571,
          292,
          1700,
          2468,
          63,
          79,
          79,
          620,
          184,
          92,
          64,
          1570,
          520,
          115,
          728,
          1359,
          111,
          247,
          106,
          43,
          48,
          133,
          65,
          661,
          4502,
          55,
          1534,
          428,
          327,
          648,
          163,
          723,
          35,
          185,
          1319,
          187,
          39,
          5063,
          67,
          168,
          329,
          47,
          2811,
          4285,
          234,
          744,
          903,
          90,
          113,
          677,
          33,
          233,
          240,
          730,
          661,
          98,
          794,
          170,
          486,
          103,
          1030,
          740,
          304,
          120,
          1503,
          113,
          217,
          359,
          103,
          104,
          168,
          710,
          2738,
          2739,
          243,
          242,
          125,
          934,
          139,
          118,
          1303,
          199,
          131,
          241,
          430,
          309,
          351,
          100,
          231,
          107,
          4005,
          410,
          2448,
          7208,
          1181,
          232,
          36,
          32,
          543,
          85,
          159,
          528,
          70,
          65,
          622,
          3353,
          566,
          158,
          1028,
          104,
          103,
          45,
          259,
          255,
          3862,
          175,
          5334,
          96,
          1007,
          96,
          2788,
          185,
          742,
          3031,
          2245,
          1952,
          923,
          48,
          114,
          218,
          32,
          2330,
          40,
          72,
          75,
          37,
          128,
          32,
          98,
          1440,
          112,
          85,
          199,
          1730,
          175,
          141,
          219,
          88,
          229,
          250,
          47,
          124,
          66,
          2385,
          82,
          55,
          75,
          179,
          47,
          748,
          40,
          64,
          68,
          230,
          784,
          112,
          179,
          681,
          101,
          46,
          34,
          889,
          135,
          82,
          63,
          180,
          732,
          34,
          329,
          40,
          169,
          354,
          245,
          36,
          216,
          78,
          68,
          47,
          6337,
          39,
          64,
          219,
          94,
          95,
          502,
          420,
          1941,
          289,
          73,
          61,
          38,
          968,
          302,
          102,
          1671,
          1685,
          450,
          271,
          379,
          32,
          2101,
          103,
          347,
          76,
          630,
          48,
          163,
          74,
          117,
          345,
          32,
          65,
          74,
          72,
          233,
          104,
          317,
          40,
          120,
          38,
          1348,
          45,
          123,
          35,
          306,
          873,
          96,
          1899,
          175,
          1022,
          64,
          3388,
          646,
          71,
          471,
          34,
          179,
          1757,
          151,
          3183,
          41,
          120,
          79,
          63,
          109,
          104,
          103,
          63,
          94,
          258,
          410,
          235,
          1118,
          145,
          291,
          132,
          2200,
          399,
          65,
          202,
          479,
          238,
          51,
          262,
          217,
          2700,
          255,
          194,
          511,
          64,
          244,
          135,
          79,
          107,
          62,
          145,
          263,
          663,
          37,
          1779,
          72,
          288,
          35,
          456,
          84,
          63,
          119,
          200,
          835,
          116,
          1597,
          47,
          37,
          325,
          83,
          322,
          53,
          130,
          1070,
          55,
          44,
          127,
          65,
          34,
          63,
          230,
          416,
          42,
          88,
          213,
          48,
          111,
          33,
          187,
          239,
          127,
          35,
          97,
          86,
          103,
          60,
          280,
          48,
          40,
          55,
          60,
          146,
          47,
          1776,
          94,
          90,
          55,
          1578,
          63,
          227,
          107,
          48,
          266,
          154,
          2241,
          492,
          923,
          42,
          40,
          143,
          63,
          52,
          134,
          139,
          56,
          39,
          126,
          183,
          198,
          56,
          56,
          117,
          64,
          57,
          55,
          137,
          36,
          79,
          267,
          47,
          147,
          53,
          33,
          128,
          1056,
          59,
          90,
          504,
          32,
          55,
          72,
          40,
          79,
          103,
          159,
          204,
          35,
          159,
          113,
          47,
          47,
          47,
          357,
          536,
          48,
          608,
          135,
          80,
          187,
          47,
          46,
          1762,
          34,
          108,
          49,
          63,
          129,
          181,
          56,
          260,
          124,
          48,
          40,
          33,
          79,
          498,
          255,
          114,
          74,
          95,
          160,
          352,
          85,
          63,
          95,
          97,
          86,
          39,
          84,
          50,
          240
         ],
         "y": [
          2,
          5,
          4,
          4,
          2,
          6,
          2,
          1,
          3,
          2,
          3,
          4,
          5,
          2,
          1,
          1,
          2,
          2,
          2,
          2,
          1,
          1,
          3,
          1,
          1,
          4,
          1,
          1,
          1,
          3,
          1,
          2,
          1,
          4,
          5,
          1,
          1,
          1,
          2,
          4,
          1,
          1,
          4,
          4,
          1,
          2,
          2,
          2,
          3,
          1,
          1,
          1,
          1,
          1,
          4,
          3,
          1,
          5,
          2,
          2,
          2,
          4,
          4,
          1,
          2,
          2,
          1,
          1,
          3,
          1,
          1,
          1,
          1,
          4,
          5,
          1,
          3,
          2,
          1,
          1,
          3,
          1,
          1,
          1,
          1,
          2,
          1,
          8,
          8,
          8,
          1,
          1,
          2,
          1,
          1,
          3,
          1,
          1,
          3,
          1,
          1,
          1,
          2,
          4,
          5,
          2,
          2,
          8,
          2,
          2,
          1,
          4,
          1,
          1,
          3,
          3,
          1,
          3,
          1,
          3,
          1,
          5,
          3,
          5,
          8,
          4,
          1,
          1,
          1,
          5,
          1,
          2,
          3,
          1,
          1,
          4,
          2,
          4,
          4,
          2,
          1,
          1,
          1,
          2,
          2,
          3,
          2,
          2,
          1,
          2,
          4,
          2,
          1,
          3,
          3,
          3,
          4,
          3,
          1,
          1,
          1,
          1,
          2,
          1,
          1,
          1,
          1,
          1,
          1,
          2,
          3,
          1,
          1,
          1,
          4,
          1,
          2,
          1,
          2,
          1,
          5,
          1,
          1,
          2,
          8,
          1,
          2,
          2,
          1,
          1,
          4,
          1,
          1,
          1,
          8,
          4,
          1,
          2,
          1,
          2,
          1,
          1,
          3,
          1,
          1,
          1,
          1,
          2,
          1,
          2,
          1,
          1,
          2,
          1,
          1,
          1,
          1,
          1,
          1,
          4,
          1,
          1,
          1,
          1,
          2,
          2,
          1,
          3,
          3,
          1,
          1,
          1,
          2,
          1,
          1,
          4,
          4,
          1,
          1,
          5,
          1,
          4,
          3,
          2,
          4,
          4,
          1,
          1,
          1,
          1,
          1,
          1,
          1,
          2,
          1,
          2,
          1,
          3,
          1,
          2,
          1,
          2,
          1,
          2,
          1,
          2,
          5,
          3,
          3,
          6,
          6,
          2,
          2,
          2,
          1,
          2,
          1,
          2,
          8,
          2,
          4,
          1,
          1,
          1,
          1,
          1,
          1,
          2,
          1,
          1,
          4,
          2,
          1,
          2,
          3,
          1,
          1,
          3,
          2,
          1,
          2,
          2,
          1,
          1,
          4,
          1,
          3,
          3,
          1,
          3,
          1,
          3,
          4,
          1,
          1,
          1,
          1,
          2,
          4,
          1,
          3,
          1,
          1,
          1,
          2,
          1,
          1,
          1,
          3,
          3,
          1,
          2,
          1,
          1,
          3,
          1,
          3,
          1,
          1,
          2,
          1,
          1,
          2,
          1,
          1,
          1,
          3,
          3,
          1,
          1,
          2,
          1,
          1,
          1,
          1,
          1,
          1,
          1,
          1,
          1,
          1,
          2,
          1,
          1,
          1,
          1,
          1,
          1,
          1,
          3,
          1,
          1,
          1,
          3,
          1,
          1,
          1,
          1,
          2,
          3,
          4,
          1,
          4,
          1,
          1,
          1,
          1,
          1,
          2,
          1,
          1,
          1,
          4,
          2,
          1,
          1,
          1,
          1,
          1,
          1,
          1,
          1,
          1,
          1,
          4,
          1,
          2,
          1,
          1,
          1,
          1,
          1,
          1,
          5,
          1,
          1,
          1,
          1,
          1,
          6,
          1,
          2,
          1,
          1,
          1,
          1,
          1,
          1,
          2,
          2,
          1,
          4,
          3,
          2,
          4,
          2,
          1,
          6,
          1,
          1,
          1,
          1,
          1,
          1,
          1,
          1,
          2,
          1,
          1,
          1,
          1,
          2,
          5,
          1,
          1,
          1,
          2,
          5,
          6,
          1,
          2,
          1,
          1,
          1,
          1,
          1,
          3
         ],
         "z": [
          -0.06976745000000001,
          -0.01860469999999992,
          0.03271031000000002,
          0.023148159999999973,
          -0.14285714,
          0.22522523600000002,
          0.02597403999999992,
          -0.1666666000000001,
          0.01694914000000003,
          0.007633599999999907,
          0.125,
          -0.03846153000000008,
          0.24719100000000005,
          0.00578034999999999,
          -0.05882354000000001,
          0,
          0.06153844999999991,
          0.07894737000000007,
          0.08695649999999999,
          0.10256410000000005,
          0,
          0.016666640000000066,
          0.003968300000000036,
          0.10810810000000004,
          0.09090909000000003,
          -0.0066115900000000005,
          0,
          -0.09090909999999996,
          0.08333330000000005,
          0.012345700000000015,
          0.05882354000000001,
          0.06944439999999996,
          0.02702709999999997,
          0.014084500000000055,
          -0.019417499999999976,
          0.125,
          0,
          0,
          0.03846150000000004,
          0,
          0.08333333999999998,
          -0.125,
          0,
          -0.18181817000000003,
          -0.06666669999999997,
          0,
          0.035294119999999984,
          -0.13333333999999997,
          0,
          0,
          -0.16666667,
          0,
          -0.11764703999999998,
          0,
          -0.18072290400000002,
          0.05861455999999998,
          -0.125,
          0.0052083000000000546,
          0.07407410000000003,
          -0.0714285,
          0.03658539999999999,
          0,
          -0.03296703000000001,
          0,
          -0.125,
          0.0421686,
          -0.041666699999999945,
          0,
          0.007898870000000002,
          -0.11111109999999991,
          0.047619069999999986,
          0.023809560000000007,
          0.16666666000000002,
          0,
          0.01679102999999993,
          0.06666669999999997,
          0,
          0.04385963000000004,
          -0.08333330000000005,
          0.1333333000000001,
          0,
          -0.19999999999999996,
          -0.09999999999999998,
          0,
          0.06521736,
          0.024096439999999997,
          0,
          0.050000000000000044,
          0.13636364999999995,
          0.01639347999999996,
          0,
          -0.01538464000000006,
          -0.06451613,
          0,
          0,
          0.037037060000000066,
          0,
          0,
          -0.0652173800000001,
          0.07692306000000004,
          0.21428574,
          -0.09090904,
          0.011111149999999959,
          -0.008746330000000024,
          -0.11695906999999994,
          0.03225806000000009,
          -0.06451612000000007,
          -0.0625,
          0.05128204000000003,
          0.16666666000000002,
          -0.20000000000000007,
          0.006134949999999972,
          0,
          0.17647060000000003,
          0.09677419,
          0.07272726999999996,
          0.05128203999999992,
          0.06818183999999994,
          0,
          0.03333333000000001,
          -0.07142853000000005,
          -0.013944210000000012,
          0.15384615000000001,
          0.01302935000000005,
          -0.0022172900000000384,
          0.03378380000000003,
          0.16666670000000006,
          0.2,
          0,
          0.04411765000000001,
          -0.09090904,
          0.04761904000000006,
          0.044776130000000025,
          0,
          -0.11111109999999991,
          0,
          0.002380900000000019,
          -0.05633801000000005,
          0.15000000000000002,
          -0.03125,
          0.23076922,
          0,
          -0.16666667,
          0.03030299999999997,
          0,
          -0.020703959999999966,
          -0.045454540000000015,
          -0.0044910299999999514,
          0.08333333999999998,
          0.04724410000000001,
          0.083333336,
          0.04310343999999999,
          -0.08333330000000005,
          0.07526883000000006,
          0.010526399999999936,
          -0.007117439999999919,
          0,
          0,
          -0.16666667,
          0.13333332999999997,
          0.07142859999999995,
          0,
          -0.006849270000000018,
          0,
          0,
          0.20000000000000007,
          0,
          0,
          -0.2,
          0.15384617,
          -0.07734806000000005,
          -0.13333332999999997,
          0.18181819,
          0.11538459999999995,
          0.03225800000000001,
          -0.13043479999999996,
          0,
          -0.10714287,
          -0.083333336,
          -0.034482739999999956,
          0.21875,
          -0.16666666000000002,
          -0.125,
          -0.22222219999999993,
          0.0668896,
          -0.09090915,
          0,
          0,
          0.13043484000000005,
          0,
          0.11702129,
          0.33333335999999997,
          0,
          0,
          -0.03333335000000004,
          -0.05050504999999994,
          0.06666665000000005,
          0.04347824,
          0.011627840000000056,
          -0.15384613999999996,
          0,
          0,
          0.13392855999999997,
          0.11111110000000002,
          0.09090904999999994,
          -0.125,
          0,
          -0.032608659999999956,
          0.20000000000000007,
          0.04761899999999997,
          0.2,
          0.09090904999999994,
          -0.04444446999999996,
          0,
          0,
          0,
          0.2,
          0,
          0.14285713,
          0.006313169999999979,
          0.19999999999999996,
          0.33333335999999997,
          0.14285713,
          -0.3076923,
          0.07692309000000003,
          -0.03174606000000002,
          -0.037735799999999986,
          -0.020491849999999978,
          -0.05405405000000002,
          -0.19999999999999996,
          -0.125,
          0,
          -0.22950824000000003,
          0.02631583000000004,
          0.07692305999999993,
          0,
          0.023696660000000036,
          0.017543839999999977,
          0,
          0.29166667599999996,
          0.25,
          0.019011360000000033,
          0.21428572499999998,
          0,
          0,
          -0.22784813999999998,
          -0.16666669999999995,
          0.09523809999999999,
          0.30000000000000004,
          0.06666669999999997,
          0.022727310000000056,
          0.39999999999999997,
          0,
          -0.1,
          -0.10000000000000009,
          0.06666668999999997,
          -0.07142859999999995,
          0.125,
          0.16666667,
          -0.0625,
          0.2,
          -0.01775145999999994,
          0,
          0.0625,
          0,
          -0.05128206000000002,
          0.03636364000000003,
          0,
          0.008403339999999981,
          -0.04545455000000001,
          0.03125,
          0,
          0.0353774,
          0.012345700000000015,
          -0.19999999999999996,
          0.050000009999999984,
          0.39999999999999997,
          0,
          0.022727300000000006,
          0.09999999999999998,
          0.005025170000000023,
          0,
          -0.06666665000000005,
          0,
          0,
          0.07142859999999995,
          0.14285716999999998,
          0,
          0,
          -0.08333333000000001,
          -0.06060605999999996,
          0.038461560000000006,
          0,
          -0.028368840000000062,
          0.21052632000000004,
          -0.02702709999999997,
          0.11764699999999995,
          -0.003636360000000005,
          -0.21568624000000003,
          0.11111111,
          0,
          0,
          0.19999999000000002,
          0,
          0.030303049999999998,
          0.03571426,
          0.0029585999999999224,
          -0.0625,
          0,
          0,
          0.11111110000000002,
          -0.06451613,
          -0.11764704000000004,
          0.09090909999999999,
          -0.07142859999999995,
          0.125,
          0,
          0.35294116999999997,
          -0.13095244000000006,
          0.2,
          -0.044843019999999956,
          -0.10000000000000009,
          0.05555559999999993,
          0.2,
          -0.035087699999999944,
          0,
          0.11111111000000001,
          -0.0625,
          0.03846154,
          -0.08571430000000002,
          0.06666664,
          0.010000000000000009,
          0.14285716999999998,
          0.19999999999999996,
          0.09756098000000002,
          -0.18181819,
          0.14634145399999998,
          0,
          -0.05882350000000003,
          0,
          -0.25,
          -0.33333330000000005,
          0.05882353,
          -0.33333335999999997,
          -0.19999999999999996,
          0.11111110000000002,
          -0.034482769999999996,
          0.018867899999999937,
          0.66666666,
          0,
          0.14814819999999995,
          0,
          0.07142857000000002,
          0,
          0.16666669999999995,
          0.03333330000000001,
          0.0625,
          -0.4,
          0.23076924000000004,
          0,
          0,
          0.125,
          0,
          -0.42857144,
          0,
          0.25,
          0,
          -0.05263163999999998,
          0,
          -0.01801799999999998,
          0.08333330000000005,
          0.16666667,
          0.125,
          -0.13636359999999992,
          0.11111111,
          0.034482750000000006,
          -0.21428574,
          0.16666666000000002,
          0,
          0,
          -0.003558759999999994,
          0.11290325999999995,
          0.034482759999999946,
          -0.33333335999999997,
          -0.16666667,
          0.10526316999999996,
          0,
          0.14285713,
          0.11764707,
          0.22222219999999993,
          0,
          0.16666666000000002,
          0.0625,
          0.125,
          0.16000000000000003,
          0.14285714000000005,
          0,
          0.13333333999999997,
          0.125,
          0,
          -0.25,
          0,
          0,
          0.09090909,
          -0.1176471,
          -0.14285715,
          0.15789472999999998,
          -0.14285715,
          0.2,
          0,
          0.007518760000000069,
          0,
          0.08333339999999989,
          0.11111110000000002,
          0,
          -0.125,
          0,
          0,
          0,
          -0.07692308,
          0.04761903000000001,
          0,
          0.19999999999999996,
          0.04999999999999993,
          0,
          0,
          -0.16666666000000002,
          -0.14285715,
          0,
          0.32352943500000003,
          0,
          0.14473682999999998,
          0,
          0.09090909999999999,
          -0.041666668,
          0.16666667,
          0.33333333,
          -0.21266964999999993,
          0.2,
          -0.14285713,
          0,
          0,
          -0.05882350000000003,
          0.13043474,
          -0.125,
          0,
          -0.0625,
          0,
          -0.1666666000000001,
          0.4,
          0,
          0,
          -0.03125,
          -0.06666669999999997,
          0.2,
          0,
          0.04761904,
          0.09090904,
          0.09090909,
          0,
          0.07692306000000004,
          0,
          0,
          -0.33333330000000005,
          0,
          0,
          0
         ]
        }
       ],
       "layout": {
        "legend": {
         "tracegroupgap": 0
        },
        "margin": {
         "t": 60
        },
        "scene": {
         "domain": {
          "x": [
           0,
           1
          ],
          "y": [
           0,
           1
          ]
         },
         "xaxis": {
          "title": {
           "text": "train_samples"
          }
         },
         "yaxis": {
          "title": {
           "text": "num_family_member"
          }
         },
         "zaxis": {
          "title": {
           "text": "recall_gap"
          }
         }
        },
        "template": {
         "data": {
          "bar": [
           {
            "error_x": {
             "color": "#2a3f5f"
            },
            "error_y": {
             "color": "#2a3f5f"
            },
            "marker": {
             "line": {
              "color": "#E5ECF6",
              "width": 0.5
             },
             "pattern": {
              "fillmode": "overlay",
              "size": 10,
              "solidity": 0.2
             }
            },
            "type": "bar"
           }
          ],
          "barpolar": [
           {
            "marker": {
             "line": {
              "color": "#E5ECF6",
              "width": 0.5
             },
             "pattern": {
              "fillmode": "overlay",
              "size": 10,
              "solidity": 0.2
             }
            },
            "type": "barpolar"
           }
          ],
          "carpet": [
           {
            "aaxis": {
             "endlinecolor": "#2a3f5f",
             "gridcolor": "white",
             "linecolor": "white",
             "minorgridcolor": "white",
             "startlinecolor": "#2a3f5f"
            },
            "baxis": {
             "endlinecolor": "#2a3f5f",
             "gridcolor": "white",
             "linecolor": "white",
             "minorgridcolor": "white",
             "startlinecolor": "#2a3f5f"
            },
            "type": "carpet"
           }
          ],
          "choropleth": [
           {
            "colorbar": {
             "outlinewidth": 0,
             "ticks": ""
            },
            "type": "choropleth"
           }
          ],
          "contour": [
           {
            "colorbar": {
             "outlinewidth": 0,
             "ticks": ""
            },
            "colorscale": [
             [
              0,
              "#0d0887"
             ],
             [
              0.1111111111111111,
              "#46039f"
             ],
             [
              0.2222222222222222,
              "#7201a8"
             ],
             [
              0.3333333333333333,
              "#9c179e"
             ],
             [
              0.4444444444444444,
              "#bd3786"
             ],
             [
              0.5555555555555556,
              "#d8576b"
             ],
             [
              0.6666666666666666,
              "#ed7953"
             ],
             [
              0.7777777777777778,
              "#fb9f3a"
             ],
             [
              0.8888888888888888,
              "#fdca26"
             ],
             [
              1,
              "#f0f921"
             ]
            ],
            "type": "contour"
           }
          ],
          "contourcarpet": [
           {
            "colorbar": {
             "outlinewidth": 0,
             "ticks": ""
            },
            "type": "contourcarpet"
           }
          ],
          "heatmap": [
           {
            "colorbar": {
             "outlinewidth": 0,
             "ticks": ""
            },
            "colorscale": [
             [
              0,
              "#0d0887"
             ],
             [
              0.1111111111111111,
              "#46039f"
             ],
             [
              0.2222222222222222,
              "#7201a8"
             ],
             [
              0.3333333333333333,
              "#9c179e"
             ],
             [
              0.4444444444444444,
              "#bd3786"
             ],
             [
              0.5555555555555556,
              "#d8576b"
             ],
             [
              0.6666666666666666,
              "#ed7953"
             ],
             [
              0.7777777777777778,
              "#fb9f3a"
             ],
             [
              0.8888888888888888,
              "#fdca26"
             ],
             [
              1,
              "#f0f921"
             ]
            ],
            "type": "heatmap"
           }
          ],
          "heatmapgl": [
           {
            "colorbar": {
             "outlinewidth": 0,
             "ticks": ""
            },
            "colorscale": [
             [
              0,
              "#0d0887"
             ],
             [
              0.1111111111111111,
              "#46039f"
             ],
             [
              0.2222222222222222,
              "#7201a8"
             ],
             [
              0.3333333333333333,
              "#9c179e"
             ],
             [
              0.4444444444444444,
              "#bd3786"
             ],
             [
              0.5555555555555556,
              "#d8576b"
             ],
             [
              0.6666666666666666,
              "#ed7953"
             ],
             [
              0.7777777777777778,
              "#fb9f3a"
             ],
             [
              0.8888888888888888,
              "#fdca26"
             ],
             [
              1,
              "#f0f921"
             ]
            ],
            "type": "heatmapgl"
           }
          ],
          "histogram": [
           {
            "marker": {
             "pattern": {
              "fillmode": "overlay",
              "size": 10,
              "solidity": 0.2
             }
            },
            "type": "histogram"
           }
          ],
          "histogram2d": [
           {
            "colorbar": {
             "outlinewidth": 0,
             "ticks": ""
            },
            "colorscale": [
             [
              0,
              "#0d0887"
             ],
             [
              0.1111111111111111,
              "#46039f"
             ],
             [
              0.2222222222222222,
              "#7201a8"
             ],
             [
              0.3333333333333333,
              "#9c179e"
             ],
             [
              0.4444444444444444,
              "#bd3786"
             ],
             [
              0.5555555555555556,
              "#d8576b"
             ],
             [
              0.6666666666666666,
              "#ed7953"
             ],
             [
              0.7777777777777778,
              "#fb9f3a"
             ],
             [
              0.8888888888888888,
              "#fdca26"
             ],
             [
              1,
              "#f0f921"
             ]
            ],
            "type": "histogram2d"
           }
          ],
          "histogram2dcontour": [
           {
            "colorbar": {
             "outlinewidth": 0,
             "ticks": ""
            },
            "colorscale": [
             [
              0,
              "#0d0887"
             ],
             [
              0.1111111111111111,
              "#46039f"
             ],
             [
              0.2222222222222222,
              "#7201a8"
             ],
             [
              0.3333333333333333,
              "#9c179e"
             ],
             [
              0.4444444444444444,
              "#bd3786"
             ],
             [
              0.5555555555555556,
              "#d8576b"
             ],
             [
              0.6666666666666666,
              "#ed7953"
             ],
             [
              0.7777777777777778,
              "#fb9f3a"
             ],
             [
              0.8888888888888888,
              "#fdca26"
             ],
             [
              1,
              "#f0f921"
             ]
            ],
            "type": "histogram2dcontour"
           }
          ],
          "mesh3d": [
           {
            "colorbar": {
             "outlinewidth": 0,
             "ticks": ""
            },
            "type": "mesh3d"
           }
          ],
          "parcoords": [
           {
            "line": {
             "colorbar": {
              "outlinewidth": 0,
              "ticks": ""
             }
            },
            "type": "parcoords"
           }
          ],
          "pie": [
           {
            "automargin": true,
            "type": "pie"
           }
          ],
          "scatter": [
           {
            "fillpattern": {
             "fillmode": "overlay",
             "size": 10,
             "solidity": 0.2
            },
            "type": "scatter"
           }
          ],
          "scatter3d": [
           {
            "line": {
             "colorbar": {
              "outlinewidth": 0,
              "ticks": ""
             }
            },
            "marker": {
             "colorbar": {
              "outlinewidth": 0,
              "ticks": ""
             }
            },
            "type": "scatter3d"
           }
          ],
          "scattercarpet": [
           {
            "marker": {
             "colorbar": {
              "outlinewidth": 0,
              "ticks": ""
             }
            },
            "type": "scattercarpet"
           }
          ],
          "scattergeo": [
           {
            "marker": {
             "colorbar": {
              "outlinewidth": 0,
              "ticks": ""
             }
            },
            "type": "scattergeo"
           }
          ],
          "scattergl": [
           {
            "marker": {
             "colorbar": {
              "outlinewidth": 0,
              "ticks": ""
             }
            },
            "type": "scattergl"
           }
          ],
          "scattermapbox": [
           {
            "marker": {
             "colorbar": {
              "outlinewidth": 0,
              "ticks": ""
             }
            },
            "type": "scattermapbox"
           }
          ],
          "scatterpolar": [
           {
            "marker": {
             "colorbar": {
              "outlinewidth": 0,
              "ticks": ""
             }
            },
            "type": "scatterpolar"
           }
          ],
          "scatterpolargl": [
           {
            "marker": {
             "colorbar": {
              "outlinewidth": 0,
              "ticks": ""
             }
            },
            "type": "scatterpolargl"
           }
          ],
          "scatterternary": [
           {
            "marker": {
             "colorbar": {
              "outlinewidth": 0,
              "ticks": ""
             }
            },
            "type": "scatterternary"
           }
          ],
          "surface": [
           {
            "colorbar": {
             "outlinewidth": 0,
             "ticks": ""
            },
            "colorscale": [
             [
              0,
              "#0d0887"
             ],
             [
              0.1111111111111111,
              "#46039f"
             ],
             [
              0.2222222222222222,
              "#7201a8"
             ],
             [
              0.3333333333333333,
              "#9c179e"
             ],
             [
              0.4444444444444444,
              "#bd3786"
             ],
             [
              0.5555555555555556,
              "#d8576b"
             ],
             [
              0.6666666666666666,
              "#ed7953"
             ],
             [
              0.7777777777777778,
              "#fb9f3a"
             ],
             [
              0.8888888888888888,
              "#fdca26"
             ],
             [
              1,
              "#f0f921"
             ]
            ],
            "type": "surface"
           }
          ],
          "table": [
           {
            "cells": {
             "fill": {
              "color": "#EBF0F8"
             },
             "line": {
              "color": "white"
             }
            },
            "header": {
             "fill": {
              "color": "#C8D4E3"
             },
             "line": {
              "color": "white"
             }
            },
            "type": "table"
           }
          ]
         },
         "layout": {
          "annotationdefaults": {
           "arrowcolor": "#2a3f5f",
           "arrowhead": 0,
           "arrowwidth": 1
          },
          "autotypenumbers": "strict",
          "coloraxis": {
           "colorbar": {
            "outlinewidth": 0,
            "ticks": ""
           }
          },
          "colorscale": {
           "diverging": [
            [
             0,
             "#8e0152"
            ],
            [
             0.1,
             "#c51b7d"
            ],
            [
             0.2,
             "#de77ae"
            ],
            [
             0.3,
             "#f1b6da"
            ],
            [
             0.4,
             "#fde0ef"
            ],
            [
             0.5,
             "#f7f7f7"
            ],
            [
             0.6,
             "#e6f5d0"
            ],
            [
             0.7,
             "#b8e186"
            ],
            [
             0.8,
             "#7fbc41"
            ],
            [
             0.9,
             "#4d9221"
            ],
            [
             1,
             "#276419"
            ]
           ],
           "sequential": [
            [
             0,
             "#0d0887"
            ],
            [
             0.1111111111111111,
             "#46039f"
            ],
            [
             0.2222222222222222,
             "#7201a8"
            ],
            [
             0.3333333333333333,
             "#9c179e"
            ],
            [
             0.4444444444444444,
             "#bd3786"
            ],
            [
             0.5555555555555556,
             "#d8576b"
            ],
            [
             0.6666666666666666,
             "#ed7953"
            ],
            [
             0.7777777777777778,
             "#fb9f3a"
            ],
            [
             0.8888888888888888,
             "#fdca26"
            ],
            [
             1,
             "#f0f921"
            ]
           ],
           "sequentialminus": [
            [
             0,
             "#0d0887"
            ],
            [
             0.1111111111111111,
             "#46039f"
            ],
            [
             0.2222222222222222,
             "#7201a8"
            ],
            [
             0.3333333333333333,
             "#9c179e"
            ],
            [
             0.4444444444444444,
             "#bd3786"
            ],
            [
             0.5555555555555556,
             "#d8576b"
            ],
            [
             0.6666666666666666,
             "#ed7953"
            ],
            [
             0.7777777777777778,
             "#fb9f3a"
            ],
            [
             0.8888888888888888,
             "#fdca26"
            ],
            [
             1,
             "#f0f921"
            ]
           ]
          },
          "colorway": [
           "#636efa",
           "#EF553B",
           "#00cc96",
           "#ab63fa",
           "#FFA15A",
           "#19d3f3",
           "#FF6692",
           "#B6E880",
           "#FF97FF",
           "#FECB52"
          ],
          "font": {
           "color": "#2a3f5f"
          },
          "geo": {
           "bgcolor": "white",
           "lakecolor": "white",
           "landcolor": "#E5ECF6",
           "showlakes": true,
           "showland": true,
           "subunitcolor": "white"
          },
          "hoverlabel": {
           "align": "left"
          },
          "hovermode": "closest",
          "mapbox": {
           "style": "light"
          },
          "paper_bgcolor": "white",
          "plot_bgcolor": "#E5ECF6",
          "polar": {
           "angularaxis": {
            "gridcolor": "white",
            "linecolor": "white",
            "ticks": ""
           },
           "bgcolor": "#E5ECF6",
           "radialaxis": {
            "gridcolor": "white",
            "linecolor": "white",
            "ticks": ""
           }
          },
          "scene": {
           "xaxis": {
            "backgroundcolor": "#E5ECF6",
            "gridcolor": "white",
            "gridwidth": 2,
            "linecolor": "white",
            "showbackground": true,
            "ticks": "",
            "zerolinecolor": "white"
           },
           "yaxis": {
            "backgroundcolor": "#E5ECF6",
            "gridcolor": "white",
            "gridwidth": 2,
            "linecolor": "white",
            "showbackground": true,
            "ticks": "",
            "zerolinecolor": "white"
           },
           "zaxis": {
            "backgroundcolor": "#E5ECF6",
            "gridcolor": "white",
            "gridwidth": 2,
            "linecolor": "white",
            "showbackground": true,
            "ticks": "",
            "zerolinecolor": "white"
           }
          },
          "shapedefaults": {
           "line": {
            "color": "#2a3f5f"
           }
          },
          "ternary": {
           "aaxis": {
            "gridcolor": "white",
            "linecolor": "white",
            "ticks": ""
           },
           "baxis": {
            "gridcolor": "white",
            "linecolor": "white",
            "ticks": ""
           },
           "bgcolor": "#E5ECF6",
           "caxis": {
            "gridcolor": "white",
            "linecolor": "white",
            "ticks": ""
           }
          },
          "title": {
           "x": 0.05
          },
          "xaxis": {
           "automargin": true,
           "gridcolor": "white",
           "linecolor": "white",
           "ticks": "",
           "title": {
            "standoff": 15
           },
           "zerolinecolor": "white",
           "zerolinewidth": 2
          },
          "yaxis": {
           "automargin": true,
           "gridcolor": "white",
           "linecolor": "white",
           "ticks": "",
           "title": {
            "standoff": 15
           },
           "zerolinecolor": "white",
           "zerolinewidth": 2
          }
         }
        }
       }
      },
      "text/html": [
       "<div>                            <div id=\"24ae951e-8862-44a1-b00a-c5c6f462ce4c\" class=\"plotly-graph-div\" style=\"height:525px; width:100%;\"></div>            <script type=\"text/javascript\">                require([\"plotly\"], function(Plotly) {                    window.PLOTLYENV=window.PLOTLYENV || {};                                    if (document.getElementById(\"24ae951e-8862-44a1-b00a-c5c6f462ce4c\")) {                    Plotly.newPlot(                        \"24ae951e-8862-44a1-b00a-c5c6f462ce4c\",                        [{\"hovertemplate\":\"train_samples=%{x}<br>num_family_member=%{y}<br>recall_gap=%{z}<extra></extra>\",\"legendgroup\":\"\",\"marker\":{\"color\":\"#636efa\",\"symbol\":\"circle\",\"size\":1},\"mode\":\"markers\",\"name\":\"\",\"scene\":\"scene\",\"showlegend\":false,\"x\":[335,1716,3419,5178,160,891,1224,91,6140,1040,60,823,704,1379,131,38,1031,301,550,312,81,473,2007,292,84,4837,79,261,88,1291,127,571,292,1700,2468,63,79,79,620,184,92,64,1570,520,115,728,1359,111,247,106,43,48,133,65,661,4502,55,1534,428,327,648,163,723,35,185,1319,187,39,5063,67,168,329,47,2811,4285,234,744,903,90,113,677,33,233,240,730,661,98,794,170,486,103,1030,740,304,120,1503,113,217,359,103,104,168,710,2738,2739,243,242,125,934,139,118,1303,199,131,241,430,309,351,100,231,107,4005,410,2448,7208,1181,232,36,32,543,85,159,528,70,65,622,3353,566,158,1028,104,103,45,259,255,3862,175,5334,96,1007,96,2788,185,742,3031,2245,1952,923,48,114,218,32,2330,40,72,75,37,128,32,98,1440,112,85,199,1730,175,141,219,88,229,250,47,124,66,2385,82,55,75,179,47,748,40,64,68,230,784,112,179,681,101,46,34,889,135,82,63,180,732,34,329,40,169,354,245,36,216,78,68,47,6337,39,64,219,94,95,502,420,1941,289,73,61,38,968,302,102,1671,1685,450,271,379,32,2101,103,347,76,630,48,163,74,117,345,32,65,74,72,233,104,317,40,120,38,1348,45,123,35,306,873,96,1899,175,1022,64,3388,646,71,471,34,179,1757,151,3183,41,120,79,63,109,104,103,63,94,258,410,235,1118,145,291,132,2200,399,65,202,479,238,51,262,217,2700,255,194,511,64,244,135,79,107,62,145,263,663,37,1779,72,288,35,456,84,63,119,200,835,116,1597,47,37,325,83,322,53,130,1070,55,44,127,65,34,63,230,416,42,88,213,48,111,33,187,239,127,35,97,86,103,60,280,48,40,55,60,146,47,1776,94,90,55,1578,63,227,107,48,266,154,2241,492,923,42,40,143,63,52,134,139,56,39,126,183,198,56,56,117,64,57,55,137,36,79,267,47,147,53,33,128,1056,59,90,504,32,55,72,40,79,103,159,204,35,159,113,47,47,47,357,536,48,608,135,80,187,47,46,1762,34,108,49,63,129,181,56,260,124,48,40,33,79,498,255,114,74,95,160,352,85,63,95,97,86,39,84,50,240],\"y\":[2,5,4,4,2,6,2,1,3,2,3,4,5,2,1,1,2,2,2,2,1,1,3,1,1,4,1,1,1,3,1,2,1,4,5,1,1,1,2,4,1,1,4,4,1,2,2,2,3,1,1,1,1,1,4,3,1,5,2,2,2,4,4,1,2,2,1,1,3,1,1,1,1,4,5,1,3,2,1,1,3,1,1,1,1,2,1,8,8,8,1,1,2,1,1,3,1,1,3,1,1,1,2,4,5,2,2,8,2,2,1,4,1,1,3,3,1,3,1,3,1,5,3,5,8,4,1,1,1,5,1,2,3,1,1,4,2,4,4,2,1,1,1,2,2,3,2,2,1,2,4,2,1,3,3,3,4,3,1,1,1,1,2,1,1,1,1,1,1,2,3,1,1,1,4,1,2,1,2,1,5,1,1,2,8,1,2,2,1,1,4,1,1,1,8,4,1,2,1,2,1,1,3,1,1,1,1,2,1,2,1,1,2,1,1,1,1,1,1,4,1,1,1,1,2,2,1,3,3,1,1,1,2,1,1,4,4,1,1,5,1,4,3,2,4,4,1,1,1,1,1,1,1,2,1,2,1,3,1,2,1,2,1,2,1,2,5,3,3,6,6,2,2,2,1,2,1,2,8,2,4,1,1,1,1,1,1,2,1,1,4,2,1,2,3,1,1,3,2,1,2,2,1,1,4,1,3,3,1,3,1,3,4,1,1,1,1,2,4,1,3,1,1,1,2,1,1,1,3,3,1,2,1,1,3,1,3,1,1,2,1,1,2,1,1,1,3,3,1,1,2,1,1,1,1,1,1,1,1,1,1,2,1,1,1,1,1,1,1,3,1,1,1,3,1,1,1,1,2,3,4,1,4,1,1,1,1,1,2,1,1,1,4,2,1,1,1,1,1,1,1,1,1,1,4,1,2,1,1,1,1,1,1,5,1,1,1,1,1,6,1,2,1,1,1,1,1,1,2,2,1,4,3,2,4,2,1,6,1,1,1,1,1,1,1,1,2,1,1,1,1,2,5,1,1,1,2,5,6,1,2,1,1,1,1,1,3],\"z\":[-0.06976745000000001,-0.01860469999999992,0.03271031000000002,0.023148159999999973,-0.14285714,0.22522523600000002,0.02597403999999992,-0.1666666000000001,0.01694914000000003,0.007633599999999907,0.125,-0.03846153000000008,0.24719100000000005,0.00578034999999999,-0.05882354000000001,0.0,0.06153844999999991,0.07894737000000007,0.08695649999999999,0.10256410000000005,0.0,0.016666640000000066,0.003968300000000036,0.10810810000000004,0.09090909000000003,-0.0066115900000000005,0.0,-0.09090909999999996,0.08333330000000005,0.012345700000000015,0.05882354000000001,0.06944439999999996,0.02702709999999997,0.014084500000000055,-0.019417499999999976,0.125,0.0,0.0,0.03846150000000004,0.0,0.08333333999999998,-0.125,0.0,-0.18181817000000003,-0.06666669999999997,0.0,0.035294119999999984,-0.13333333999999997,0.0,0.0,-0.16666667,0.0,-0.11764703999999998,0.0,-0.18072290400000002,0.05861455999999998,-0.125,0.0052083000000000546,0.07407410000000003,-0.0714285,0.03658539999999999,0.0,-0.03296703000000001,0.0,-0.125,0.0421686,-0.041666699999999945,0.0,0.007898870000000002,-0.11111109999999991,0.047619069999999986,0.023809560000000007,0.16666666000000002,0.0,0.01679102999999993,0.06666669999999997,0.0,0.04385963000000004,-0.08333330000000005,0.1333333000000001,0.0,-0.19999999999999996,-0.09999999999999998,0.0,0.06521736,0.024096439999999997,0.0,0.050000000000000044,0.13636364999999995,0.01639347999999996,0.0,-0.01538464000000006,-0.06451613,0.0,0.0,0.037037060000000066,0.0,0.0,-0.0652173800000001,0.07692306000000004,0.21428574,-0.09090904,0.011111149999999959,-0.008746330000000024,-0.11695906999999994,0.03225806000000009,-0.06451612000000007,-0.0625,0.05128204000000003,0.16666666000000002,-0.20000000000000007,0.006134949999999972,0.0,0.17647060000000003,0.09677419,0.07272726999999996,0.05128203999999992,0.06818183999999994,0.0,0.03333333000000001,-0.07142853000000005,-0.013944210000000012,0.15384615000000001,0.01302935000000005,-0.0022172900000000384,0.03378380000000003,0.16666670000000006,0.2,0.0,0.04411765000000001,-0.09090904,0.04761904000000006,0.044776130000000025,0.0,-0.11111109999999991,0.0,0.002380900000000019,-0.05633801000000005,0.15000000000000002,-0.03125,0.23076922,0.0,-0.16666667,0.03030299999999997,0.0,-0.020703959999999966,-0.045454540000000015,-0.0044910299999999514,0.08333333999999998,0.04724410000000001,0.083333336,0.04310343999999999,-0.08333330000000005,0.07526883000000006,0.010526399999999936,-0.007117439999999919,0.0,0.0,-0.16666667,0.13333332999999997,0.07142859999999995,0.0,-0.006849270000000018,0.0,0.0,0.20000000000000007,0.0,0.0,-0.2,0.15384617,-0.07734806000000005,-0.13333332999999997,0.18181819,0.11538459999999995,0.03225800000000001,-0.13043479999999996,0.0,-0.10714287,-0.083333336,-0.034482739999999956,0.21875,-0.16666666000000002,-0.125,-0.22222219999999993,0.0668896,-0.09090915,0.0,0.0,0.13043484000000005,0.0,0.11702129,0.33333335999999997,0.0,0.0,-0.03333335000000004,-0.05050504999999994,0.06666665000000005,0.04347824,0.011627840000000056,-0.15384613999999996,0.0,0.0,0.13392855999999997,0.11111110000000002,0.09090904999999994,-0.125,0.0,-0.032608659999999956,0.20000000000000007,0.04761899999999997,0.2,0.09090904999999994,-0.04444446999999996,0.0,0.0,0.0,0.2,0.0,0.14285713,0.006313169999999979,0.19999999999999996,0.33333335999999997,0.14285713,-0.3076923,0.07692309000000003,-0.03174606000000002,-0.037735799999999986,-0.020491849999999978,-0.05405405000000002,-0.19999999999999996,-0.125,0.0,-0.22950824000000003,0.02631583000000004,0.07692305999999993,0.0,0.023696660000000036,0.017543839999999977,0.0,0.29166667599999996,0.25,0.019011360000000033,0.21428572499999998,0.0,0.0,-0.22784813999999998,-0.16666669999999995,0.09523809999999999,0.30000000000000004,0.06666669999999997,0.022727310000000056,0.39999999999999997,0.0,-0.1,-0.10000000000000009,0.06666668999999997,-0.07142859999999995,0.125,0.16666667,-0.0625,0.2,-0.01775145999999994,0.0,0.0625,0.0,-0.05128206000000002,0.03636364000000003,0.0,0.008403339999999981,-0.04545455000000001,0.03125,0.0,0.0353774,0.012345700000000015,-0.19999999999999996,0.050000009999999984,0.39999999999999997,0.0,0.022727300000000006,0.09999999999999998,0.005025170000000023,0.0,-0.06666665000000005,0.0,0.0,0.07142859999999995,0.14285716999999998,0.0,0.0,-0.08333333000000001,-0.06060605999999996,0.038461560000000006,0.0,-0.028368840000000062,0.21052632000000004,-0.02702709999999997,0.11764699999999995,-0.003636360000000005,-0.21568624000000003,0.11111111,0.0,0.0,0.19999999000000002,0.0,0.030303049999999998,0.03571426,0.0029585999999999224,-0.0625,0.0,0.0,0.11111110000000002,-0.06451613,-0.11764704000000004,0.09090909999999999,-0.07142859999999995,0.125,0.0,0.35294116999999997,-0.13095244000000006,0.2,-0.044843019999999956,-0.10000000000000009,0.05555559999999993,0.2,-0.035087699999999944,0.0,0.11111111000000001,-0.0625,0.03846154,-0.08571430000000002,0.06666664,0.010000000000000009,0.14285716999999998,0.19999999999999996,0.09756098000000002,-0.18181819,0.14634145399999998,0.0,-0.05882350000000003,0.0,-0.25,-0.33333330000000005,0.05882353,-0.33333335999999997,-0.19999999999999996,0.11111110000000002,-0.034482769999999996,0.018867899999999937,0.66666666,0.0,0.14814819999999995,0.0,0.07142857000000002,0.0,0.16666669999999995,0.03333330000000001,0.0625,-0.4,0.23076924000000004,0.0,0.0,0.125,0.0,-0.42857144,0.0,0.25,0.0,-0.05263163999999998,0.0,-0.01801799999999998,0.08333330000000005,0.16666667,0.125,-0.13636359999999992,0.11111111,0.034482750000000006,-0.21428574,0.16666666000000002,0.0,0.0,-0.003558759999999994,0.11290325999999995,0.034482759999999946,-0.33333335999999997,-0.16666667,0.10526316999999996,0.0,0.14285713,0.11764707,0.22222219999999993,0.0,0.16666666000000002,0.0625,0.125,0.16000000000000003,0.14285714000000005,0.0,0.13333333999999997,0.125,0.0,-0.25,0.0,0.0,0.09090909,-0.1176471,-0.14285715,0.15789472999999998,-0.14285715,0.2,0.0,0.007518760000000069,0.0,0.08333339999999989,0.11111110000000002,0.0,-0.125,0.0,0.0,0.0,-0.07692308,0.04761903000000001,0.0,0.19999999999999996,0.04999999999999993,0.0,0.0,-0.16666666000000002,-0.14285715,0.0,0.32352943500000003,0.0,0.14473682999999998,0.0,0.09090909999999999,-0.041666668,0.16666667,0.33333333,-0.21266964999999993,0.2,-0.14285713,0.0,0.0,-0.05882350000000003,0.13043474,-0.125,0.0,-0.0625,0.0,-0.1666666000000001,0.4,0.0,0.0,-0.03125,-0.06666669999999997,0.2,0.0,0.04761904,0.09090904,0.09090909,0.0,0.07692306000000004,0.0,0.0,-0.33333330000000005,0.0,0.0,0.0],\"type\":\"scatter3d\"}],                        {\"template\":{\"data\":{\"histogram2dcontour\":[{\"type\":\"histogram2dcontour\",\"colorbar\":{\"outlinewidth\":0,\"ticks\":\"\"},\"colorscale\":[[0.0,\"#0d0887\"],[0.1111111111111111,\"#46039f\"],[0.2222222222222222,\"#7201a8\"],[0.3333333333333333,\"#9c179e\"],[0.4444444444444444,\"#bd3786\"],[0.5555555555555556,\"#d8576b\"],[0.6666666666666666,\"#ed7953\"],[0.7777777777777778,\"#fb9f3a\"],[0.8888888888888888,\"#fdca26\"],[1.0,\"#f0f921\"]]}],\"choropleth\":[{\"type\":\"choropleth\",\"colorbar\":{\"outlinewidth\":0,\"ticks\":\"\"}}],\"histogram2d\":[{\"type\":\"histogram2d\",\"colorbar\":{\"outlinewidth\":0,\"ticks\":\"\"},\"colorscale\":[[0.0,\"#0d0887\"],[0.1111111111111111,\"#46039f\"],[0.2222222222222222,\"#7201a8\"],[0.3333333333333333,\"#9c179e\"],[0.4444444444444444,\"#bd3786\"],[0.5555555555555556,\"#d8576b\"],[0.6666666666666666,\"#ed7953\"],[0.7777777777777778,\"#fb9f3a\"],[0.8888888888888888,\"#fdca26\"],[1.0,\"#f0f921\"]]}],\"heatmap\":[{\"type\":\"heatmap\",\"colorbar\":{\"outlinewidth\":0,\"ticks\":\"\"},\"colorscale\":[[0.0,\"#0d0887\"],[0.1111111111111111,\"#46039f\"],[0.2222222222222222,\"#7201a8\"],[0.3333333333333333,\"#9c179e\"],[0.4444444444444444,\"#bd3786\"],[0.5555555555555556,\"#d8576b\"],[0.6666666666666666,\"#ed7953\"],[0.7777777777777778,\"#fb9f3a\"],[0.8888888888888888,\"#fdca26\"],[1.0,\"#f0f921\"]]}],\"heatmapgl\":[{\"type\":\"heatmapgl\",\"colorbar\":{\"outlinewidth\":0,\"ticks\":\"\"},\"colorscale\":[[0.0,\"#0d0887\"],[0.1111111111111111,\"#46039f\"],[0.2222222222222222,\"#7201a8\"],[0.3333333333333333,\"#9c179e\"],[0.4444444444444444,\"#bd3786\"],[0.5555555555555556,\"#d8576b\"],[0.6666666666666666,\"#ed7953\"],[0.7777777777777778,\"#fb9f3a\"],[0.8888888888888888,\"#fdca26\"],[1.0,\"#f0f921\"]]}],\"contourcarpet\":[{\"type\":\"contourcarpet\",\"colorbar\":{\"outlinewidth\":0,\"ticks\":\"\"}}],\"contour\":[{\"type\":\"contour\",\"colorbar\":{\"outlinewidth\":0,\"ticks\":\"\"},\"colorscale\":[[0.0,\"#0d0887\"],[0.1111111111111111,\"#46039f\"],[0.2222222222222222,\"#7201a8\"],[0.3333333333333333,\"#9c179e\"],[0.4444444444444444,\"#bd3786\"],[0.5555555555555556,\"#d8576b\"],[0.6666666666666666,\"#ed7953\"],[0.7777777777777778,\"#fb9f3a\"],[0.8888888888888888,\"#fdca26\"],[1.0,\"#f0f921\"]]}],\"surface\":[{\"type\":\"surface\",\"colorbar\":{\"outlinewidth\":0,\"ticks\":\"\"},\"colorscale\":[[0.0,\"#0d0887\"],[0.1111111111111111,\"#46039f\"],[0.2222222222222222,\"#7201a8\"],[0.3333333333333333,\"#9c179e\"],[0.4444444444444444,\"#bd3786\"],[0.5555555555555556,\"#d8576b\"],[0.6666666666666666,\"#ed7953\"],[0.7777777777777778,\"#fb9f3a\"],[0.8888888888888888,\"#fdca26\"],[1.0,\"#f0f921\"]]}],\"mesh3d\":[{\"type\":\"mesh3d\",\"colorbar\":{\"outlinewidth\":0,\"ticks\":\"\"}}],\"scatter\":[{\"fillpattern\":{\"fillmode\":\"overlay\",\"size\":10,\"solidity\":0.2},\"type\":\"scatter\"}],\"parcoords\":[{\"type\":\"parcoords\",\"line\":{\"colorbar\":{\"outlinewidth\":0,\"ticks\":\"\"}}}],\"scatterpolargl\":[{\"type\":\"scatterpolargl\",\"marker\":{\"colorbar\":{\"outlinewidth\":0,\"ticks\":\"\"}}}],\"bar\":[{\"error_x\":{\"color\":\"#2a3f5f\"},\"error_y\":{\"color\":\"#2a3f5f\"},\"marker\":{\"line\":{\"color\":\"#E5ECF6\",\"width\":0.5},\"pattern\":{\"fillmode\":\"overlay\",\"size\":10,\"solidity\":0.2}},\"type\":\"bar\"}],\"scattergeo\":[{\"type\":\"scattergeo\",\"marker\":{\"colorbar\":{\"outlinewidth\":0,\"ticks\":\"\"}}}],\"scatterpolar\":[{\"type\":\"scatterpolar\",\"marker\":{\"colorbar\":{\"outlinewidth\":0,\"ticks\":\"\"}}}],\"histogram\":[{\"marker\":{\"pattern\":{\"fillmode\":\"overlay\",\"size\":10,\"solidity\":0.2}},\"type\":\"histogram\"}],\"scattergl\":[{\"type\":\"scattergl\",\"marker\":{\"colorbar\":{\"outlinewidth\":0,\"ticks\":\"\"}}}],\"scatter3d\":[{\"type\":\"scatter3d\",\"line\":{\"colorbar\":{\"outlinewidth\":0,\"ticks\":\"\"}},\"marker\":{\"colorbar\":{\"outlinewidth\":0,\"ticks\":\"\"}}}],\"scattermapbox\":[{\"type\":\"scattermapbox\",\"marker\":{\"colorbar\":{\"outlinewidth\":0,\"ticks\":\"\"}}}],\"scatterternary\":[{\"type\":\"scatterternary\",\"marker\":{\"colorbar\":{\"outlinewidth\":0,\"ticks\":\"\"}}}],\"scattercarpet\":[{\"type\":\"scattercarpet\",\"marker\":{\"colorbar\":{\"outlinewidth\":0,\"ticks\":\"\"}}}],\"carpet\":[{\"aaxis\":{\"endlinecolor\":\"#2a3f5f\",\"gridcolor\":\"white\",\"linecolor\":\"white\",\"minorgridcolor\":\"white\",\"startlinecolor\":\"#2a3f5f\"},\"baxis\":{\"endlinecolor\":\"#2a3f5f\",\"gridcolor\":\"white\",\"linecolor\":\"white\",\"minorgridcolor\":\"white\",\"startlinecolor\":\"#2a3f5f\"},\"type\":\"carpet\"}],\"table\":[{\"cells\":{\"fill\":{\"color\":\"#EBF0F8\"},\"line\":{\"color\":\"white\"}},\"header\":{\"fill\":{\"color\":\"#C8D4E3\"},\"line\":{\"color\":\"white\"}},\"type\":\"table\"}],\"barpolar\":[{\"marker\":{\"line\":{\"color\":\"#E5ECF6\",\"width\":0.5},\"pattern\":{\"fillmode\":\"overlay\",\"size\":10,\"solidity\":0.2}},\"type\":\"barpolar\"}],\"pie\":[{\"automargin\":true,\"type\":\"pie\"}]},\"layout\":{\"autotypenumbers\":\"strict\",\"colorway\":[\"#636efa\",\"#EF553B\",\"#00cc96\",\"#ab63fa\",\"#FFA15A\",\"#19d3f3\",\"#FF6692\",\"#B6E880\",\"#FF97FF\",\"#FECB52\"],\"font\":{\"color\":\"#2a3f5f\"},\"hovermode\":\"closest\",\"hoverlabel\":{\"align\":\"left\"},\"paper_bgcolor\":\"white\",\"plot_bgcolor\":\"#E5ECF6\",\"polar\":{\"bgcolor\":\"#E5ECF6\",\"angularaxis\":{\"gridcolor\":\"white\",\"linecolor\":\"white\",\"ticks\":\"\"},\"radialaxis\":{\"gridcolor\":\"white\",\"linecolor\":\"white\",\"ticks\":\"\"}},\"ternary\":{\"bgcolor\":\"#E5ECF6\",\"aaxis\":{\"gridcolor\":\"white\",\"linecolor\":\"white\",\"ticks\":\"\"},\"baxis\":{\"gridcolor\":\"white\",\"linecolor\":\"white\",\"ticks\":\"\"},\"caxis\":{\"gridcolor\":\"white\",\"linecolor\":\"white\",\"ticks\":\"\"}},\"coloraxis\":{\"colorbar\":{\"outlinewidth\":0,\"ticks\":\"\"}},\"colorscale\":{\"sequential\":[[0.0,\"#0d0887\"],[0.1111111111111111,\"#46039f\"],[0.2222222222222222,\"#7201a8\"],[0.3333333333333333,\"#9c179e\"],[0.4444444444444444,\"#bd3786\"],[0.5555555555555556,\"#d8576b\"],[0.6666666666666666,\"#ed7953\"],[0.7777777777777778,\"#fb9f3a\"],[0.8888888888888888,\"#fdca26\"],[1.0,\"#f0f921\"]],\"sequentialminus\":[[0.0,\"#0d0887\"],[0.1111111111111111,\"#46039f\"],[0.2222222222222222,\"#7201a8\"],[0.3333333333333333,\"#9c179e\"],[0.4444444444444444,\"#bd3786\"],[0.5555555555555556,\"#d8576b\"],[0.6666666666666666,\"#ed7953\"],[0.7777777777777778,\"#fb9f3a\"],[0.8888888888888888,\"#fdca26\"],[1.0,\"#f0f921\"]],\"diverging\":[[0,\"#8e0152\"],[0.1,\"#c51b7d\"],[0.2,\"#de77ae\"],[0.3,\"#f1b6da\"],[0.4,\"#fde0ef\"],[0.5,\"#f7f7f7\"],[0.6,\"#e6f5d0\"],[0.7,\"#b8e186\"],[0.8,\"#7fbc41\"],[0.9,\"#4d9221\"],[1,\"#276419\"]]},\"xaxis\":{\"gridcolor\":\"white\",\"linecolor\":\"white\",\"ticks\":\"\",\"title\":{\"standoff\":15},\"zerolinecolor\":\"white\",\"automargin\":true,\"zerolinewidth\":2},\"yaxis\":{\"gridcolor\":\"white\",\"linecolor\":\"white\",\"ticks\":\"\",\"title\":{\"standoff\":15},\"zerolinecolor\":\"white\",\"automargin\":true,\"zerolinewidth\":2},\"scene\":{\"xaxis\":{\"backgroundcolor\":\"#E5ECF6\",\"gridcolor\":\"white\",\"linecolor\":\"white\",\"showbackground\":true,\"ticks\":\"\",\"zerolinecolor\":\"white\",\"gridwidth\":2},\"yaxis\":{\"backgroundcolor\":\"#E5ECF6\",\"gridcolor\":\"white\",\"linecolor\":\"white\",\"showbackground\":true,\"ticks\":\"\",\"zerolinecolor\":\"white\",\"gridwidth\":2},\"zaxis\":{\"backgroundcolor\":\"#E5ECF6\",\"gridcolor\":\"white\",\"linecolor\":\"white\",\"showbackground\":true,\"ticks\":\"\",\"zerolinecolor\":\"white\",\"gridwidth\":2}},\"shapedefaults\":{\"line\":{\"color\":\"#2a3f5f\"}},\"annotationdefaults\":{\"arrowcolor\":\"#2a3f5f\",\"arrowhead\":0,\"arrowwidth\":1},\"geo\":{\"bgcolor\":\"white\",\"landcolor\":\"#E5ECF6\",\"subunitcolor\":\"white\",\"showland\":true,\"showlakes\":true,\"lakecolor\":\"white\"},\"title\":{\"x\":0.05},\"mapbox\":{\"style\":\"light\"}}},\"scene\":{\"domain\":{\"x\":[0.0,1.0],\"y\":[0.0,1.0]},\"xaxis\":{\"title\":{\"text\":\"train_samples\"}},\"yaxis\":{\"title\":{\"text\":\"num_family_member\"}},\"zaxis\":{\"title\":{\"text\":\"recall_gap\"}}},\"legend\":{\"tracegroupgap\":0},\"margin\":{\"t\":60}},                        {\"responsive\": true}                    ).then(function(){\n",
       "                            \n",
       "var gd = document.getElementById('24ae951e-8862-44a1-b00a-c5c6f462ce4c');\n",
       "var x = new MutationObserver(function (mutations, observer) {{\n",
       "        var display = window.getComputedStyle(gd).display;\n",
       "        if (!display || display === 'none') {{\n",
       "            console.log([gd, 'removed!']);\n",
       "            Plotly.purge(gd);\n",
       "            observer.disconnect();\n",
       "        }}\n",
       "}});\n",
       "\n",
       "// Listen for the removal of the full notebook cells\n",
       "var notebookContainer = gd.closest('#notebook-container');\n",
       "if (notebookContainer) {{\n",
       "    x.observe(notebookContainer, {childList: true});\n",
       "}}\n",
       "\n",
       "// Listen for the clearing of the current output cell\n",
       "var outputEl = gd.closest('.output');\n",
       "if (outputEl) {{\n",
       "    x.observe(outputEl, {childList: true});\n",
       "}}\n",
       "\n",
       "                        })                };                });            </script>        </div>"
      ]
     },
     "metadata": {},
     "output_type": "display_data"
    }
   ],
   "source": [
    "import plotly.express as px\n",
    "fig = px.scatter_3d(df3, x='train_samples', y='num_family_member', z='recall_gap')\n",
    "fig.update_traces(marker_size = 1)\n"
   ]
  },
  {
   "cell_type": "code",
   "execution_count": null,
   "metadata": {},
   "outputs": [],
   "source": []
  },
  {
   "cell_type": "code",
   "execution_count": 196,
   "metadata": {},
   "outputs": [
    {
     "name": "stderr",
     "output_type": "stream",
     "text": [
      "/opt/conda/lib/python3.7/site-packages/ipykernel_launcher.py:7: MatplotlibDeprecationWarning: Calling gca() with keyword arguments was deprecated in Matplotlib 3.4. Starting two minor releases later, gca() will take no keyword arguments. The gca() function should only be used to get the current axes, or if no axes exist, create new axes with default keyword arguments. To create a new axes with non-default arguments, use plt.axes() or plt.subplot().\n",
      "  import sys\n"
     ]
    },
    {
     "data": {
      "text/plain": [
       "<mpl_toolkits.mplot3d.art3d.Path3DCollection at 0x7f9aa9299b10>"
      ]
     },
     "execution_count": 196,
     "metadata": {},
     "output_type": "execute_result"
    },
    {
     "data": {
      "image/png": "[encoded data removed]",
      "text/plain": [
       "<Figure size 432x288 with 1 Axes>"
      ]
     },
     "metadata": {
      "needs_background": "light"
     },
     "output_type": "display_data"
    }
   ],
   "source": [
    "from matplotlib import pyplot as plt\n",
    "\n",
    "\n",
    "\n",
    "X = df3['train_samples']\n",
    "Y = df3['num_family_member']\n",
    "Z = df3['recall_gap']\n",
    "\n",
    "fig = plt.figure()\n",
    "ax = fig.gca(projection='3d')\n",
    "ax.scatter(X,Y,Z)\n"
   ]
  },
  {
   "cell_type": "code",
   "execution_count": 192,
   "metadata": {},
   "outputs": [
    {
     "data": {
      "text/plain": [
       "0.017035554739726025"
      ]
     },
     "execution_count": 192,
     "metadata": {},
     "output_type": "execute_result"
    }
   ],
   "source": [
    "#df3[df3['train_samples']<100].recall_gap.mean()\n",
    "df3[df3['train_samples']>100].recall_gap.mean()"
   ]
  },
  {
   "cell_type": "code",
   "execution_count": 193,
   "metadata": {},
   "outputs": [
    {
     "data": {
      "text/plain": [
       "0.017834114540229883"
      ]
     },
     "execution_count": 193,
     "metadata": {},
     "output_type": "execute_result"
    }
   ],
   "source": [
    "df3[df3['train_samples']<100].recall_gap.mean()"
   ]
  },
  {
   "cell_type": "code",
   "execution_count": 153,
   "metadata": {},
   "outputs": [
    {
     "data": {
      "text/plain": [
       "0.033521877000000005"
      ]
     },
     "execution_count": 153,
     "metadata": {},
     "output_type": "execute_result"
    }
   ],
   "source": [
    "df2[(df2['train_samples']<300)*(df2['num_family_member']==3)]['recall'].mean() - df1[(df1['train_samples']<300)*(df1['num_family_member']==3)]['recall'].mean()"
   ]
  },
  {
   "cell_type": "code",
   "execution_count": 157,
   "metadata": {},
   "outputs": [
    {
     "data": {
      "text/plain": [
       "0.09375"
      ]
     },
     "execution_count": 157,
     "metadata": {},
     "output_type": "execute_result"
    }
   ],
   "source": [
    "df2[(df2['train_samples']<300)*(df2['num_family_member']==5)]['recall'].mean() - df1[(df1['train_samples']<300)*(df1['num_family_member']==5)]['recall'].mean()"
   ]
  },
  {
   "cell_type": "code",
   "execution_count": 158,
   "metadata": {},
   "outputs": [
    {
     "data": {
      "text/plain": [
       "-0.010489513333333353"
      ]
     },
     "execution_count": 158,
     "metadata": {},
     "output_type": "execute_result"
    }
   ],
   "source": [
    "df2[(df2['train_samples']<300)*(df2['num_family_member']==6)]['recall'].mean() - df1[(df1['train_samples']<300)*(df1['num_family_member']==6)]['recall'].mean()"
   ]
  },
  {
   "cell_type": "code",
   "execution_count": 146,
   "metadata": {},
   "outputs": [
    {
     "data": {
      "text/plain": [
       "135"
      ]
     },
     "execution_count": 146,
     "metadata": {},
     "output_type": "execute_result"
    }
   ],
   "source": [
    "df2[(df2['train_samples']<300)*(df2['num_family_member']==6)]['recall'].mean() - df1[(df1['train_samples']<300)*(df1['num_family_member']==6)]['recall'].mean()"
   ]
  },
  {
   "cell_type": "code",
   "execution_count": 147,
   "metadata": {},
   "outputs": [
    {
     "data": {
      "text/plain": [
       "0.017296612235546037"
      ]
     },
     "execution_count": 147,
     "metadata": {},
     "output_type": "execute_result"
    }
   ],
   "source": [
    "(df2.recall-df1.recall).mean()"
   ]
  },
  {
   "cell_type": "code",
   "execution_count": 150,
   "metadata": {},
   "outputs": [
    {
     "data": {
      "text/plain": [
       "0.017296612235546016"
      ]
     },
     "execution_count": 150,
     "metadata": {},
     "output_type": "execute_result"
    }
   ],
   "source": [
    "df2.recall.mean() - df1.recall.mean()"
   ]
  },
  {
   "cell_type": "code",
   "execution_count": 8,
   "metadata": {},
   "outputs": [
    {
     "data": {
      "text/plain": [
       "0.618611290222698"
      ]
     },
     "execution_count": 8,
     "metadata": {},
     "output_type": "execute_result"
    }
   ],
   "source": [
    "df2['recall'].mean()"
   ]
  },
  {
   "cell_type": "code",
   "execution_count": 13,
   "metadata": {},
   "outputs": [
    {
     "name": "stdout",
     "output_type": "stream",
     "text": [
      "0.5528902889411764\n",
      "0.5729839701636829\n"
     ]
    }
   ],
   "source": [
    "print(df1[df1.samples_per_class<100]['recall'].mean())\n",
    "print(df2[df2.samples_per_class<100]['recall'].mean())"
   ]
  },
  {
   "cell_type": "code",
   "execution_count": 20,
   "metadata": {},
   "outputs": [
    {
     "data": {
      "text/plain": [
       "0      False\n",
       "1       True\n",
       "2       True\n",
       "3      False\n",
       "4      False\n",
       "       ...  \n",
       "462    False\n",
       "463    False\n",
       "464    False\n",
       "465    False\n",
       "466    False\n",
       "Name: samples_per_class, Length: 467, dtype: bool"
      ]
     },
     "execution_count": 20,
     "metadata": {},
     "output_type": "execute_result"
    }
   ],
   "source": []
  },
  {
   "cell_type": "code",
   "execution_count": 22,
   "metadata": {},
   "outputs": [
    {
     "name": "stdout",
     "output_type": "stream",
     "text": [
      "0.9138471000000001\n",
      "0.924092181\n"
     ]
    }
   ],
   "source": [
    "print(df1[(500<df1.samples_per_class)*(df1.samples_per_class<2000)]['recall'].mean())\n",
    "print(df2[(500<df1.samples_per_class)*(df1.samples_per_class<2000)]['recall'].mean())"
   ]
  },
  {
   "cell_type": "code",
   "execution_count": 15,
   "metadata": {},
   "outputs": [
    {
     "name": "stdout",
     "output_type": "stream",
     "text": [
      "4\n",
      "5\n",
      "6\n",
      "7\n"
     ]
    }
   ],
   "source": [
    "for x in range(10):\n",
    "    if 3<x<8:\n",
    "        print(x)"
   ]
  },
  {
   "cell_type": "code",
   "execution_count": null,
   "metadata": {},
   "outputs": [],
   "source": []
  }
 ],
 "metadata": {
  "kernelspec": {
   "display_name": "Python 3 (ipykernel)",
   "language": "python",
   "name": "python3"
  },
  "language_info": {
   "codemirror_mode": {
    "name": "ipython",
    "version": 3
   },
   "file_extension": ".py",
   "mimetype": "text/x-python",
   "name": "python",
   "nbconvert_exporter": "python",
   "pygments_lexer": "ipython3",
   "version": "3.7.11"
  },
  "vscode": {
   "interpreter": {
    "hash": "d4d1e4263499bec80672ea0156c357c1ee493ec2b1c70f0acce89fc37c4a6abe"
   }
  }
 },
 "nbformat": 4,
 "nbformat_minor": 2
}

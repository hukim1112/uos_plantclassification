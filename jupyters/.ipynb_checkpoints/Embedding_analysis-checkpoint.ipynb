{
 "cells": [
  {
   "cell_type": "markdown",
   "metadata": {},
   "source": [
    "## Load Embedding for each plant"
   ]
  },
  {
   "cell_type": "code",
   "execution_count": 2,
   "metadata": {},
   "outputs": [],
   "source": [
    "import sys\n",
    "sys.path.append(\"/home/files/uos_plantclassification\")"
   ]
  },
  {
   "cell_type": "code",
   "execution_count": 29,
   "metadata": {},
   "outputs": [],
   "source": [
    "import pickle, json\n",
    "import numpy as np\n",
    "import torch\n",
    "from matplotlib import pyplot as plt\n",
    "from torch import nn\n",
    "from os.path import join\n",
    "from os import listdir\n",
    "from config.path import PATH\n",
    "from embeddings.extract_embeddings import Embedder\n",
    "from embeddings.set_distance import SetDist\n",
    "from utils.visualization import path2imgs, make_table\n",
    "from matplotlib import pyplot as plt\n",
    "root = PATH[\"PLANTNET-300K\"]\n",
    "emb_path = \"/home/files/experiments/mini_plantnet/efficientB4/exp2/\""
   ]
  },
  {
   "cell_type": "code",
   "execution_count": 4,
   "metadata": {},
   "outputs": [],
   "source": [
    "from run.embeddings import calculate_dists_each_label_from_matrix, summon_embedder\n",
    "\n",
    "import albumentations as A\n",
    "from albumentations.pytorch import ToTensorV2\n",
    "exp_path = \"/home/files/experiments/mini_plantnet/efficientB4/exp2\"\n",
    "transforms = A.Compose([\n",
    "        A.Resize(height=380, width=380),\n",
    "        A.Normalize(mean=0.0, std=1.0),\n",
    "        ToTensorV2()])\n",
    "device='cuda:1'"
   ]
  },
  {
   "cell_type": "code",
   "execution_count": null,
   "metadata": {},
   "outputs": [],
   "source": [
    "#calculate_dists_each_label_from_matrix(exp_path, transforms, device)"
   ]
  },
  {
   "cell_type": "code",
   "execution_count": null,
   "metadata": {},
   "outputs": [],
   "source": []
  },
  {
   "cell_type": "markdown",
   "metadata": {},
   "source": [
    "### 각 식물 별로 조사하기\n",
    "\n",
    "바타챠리아 거리가 가장 가까운 식물에 대한 조건을 만족하는 식물들을 검색함."
   ]
  },
  {
   "cell_type": "code",
   "execution_count": 5,
   "metadata": {},
   "outputs": [],
   "source": [
    "with open(join(exp_path, \"dists_each_label.json\"), 'r', encoding='utf-8') as st_json: \n",
    "    dist_from_labels = json.load(st_json)"
   ]
  },
  {
   "cell_type": "code",
   "execution_count": 6,
   "metadata": {
    "collapsed": true
   },
   "outputs": [
    {
     "name": "stdout",
     "output_type": "stream",
     "text": [
      "1355932 9.510958671569824\n",
      "1355978 3.3384599685668945\n",
      "1356111 9.409364700317383\n",
      "1356126 10.902122497558594\n",
      "1357330 6.076743125915527\n",
      "1358150 4.405097484588623\n",
      "1358751 3.826794385910034\n",
      "1358752 3.826794385910034\n",
      "1359517 10.6163969039917\n",
      "1361824 9.449627876281738\n",
      "1362927 8.556025505065918\n",
      "1362954 9.253349304199219\n",
      "1363128 8.871251106262207\n",
      "1363129 9.953502655029297\n",
      "1363749 7.363138198852539\n",
      "1363871 10.372520446777344\n",
      "1363991 9.481036186218262\n",
      "1364159 4.891706466674805\n",
      "1374048 4.891706466674805\n",
      "1384485 7.817877292633057\n",
      "1390637 6.076743125915527\n",
      "1391483 7.817877292633057\n",
      "1392475 4.405097484588623\n",
      "1393241 7.911220073699951\n",
      "1393393 5.181751251220703\n",
      "1393425 7.373215198516846\n",
      "1393466 9.449627876281738\n",
      "1393792 7.363138198852539\n",
      "1394404 8.871251106262207\n",
      "1394454 4.569464206695557\n",
      "1394504 9.067395210266113\n",
      "1397268 9.067395210266113\n",
      "1397387 9.481036186218262\n",
      "1397514 10.6163969039917\n",
      "1398128 7.452910900115967\n",
      "1398513 10.793842315673828\n",
      "1398515 7.911220073699951\n",
      "1399783 7.122011661529541\n",
      "1400100 10.372520446777344\n",
      "1408774 8.556025505065918\n",
      "1408961 7.122011661529541\n",
      "1420863 5.181751251220703\n",
      "1421021 7.452910900115967\n",
      "1435714 3.3384599685668945\n"
     ]
    }
   ],
   "source": [
    "for label in dist_from_labels.keys():\n",
    "    dist = dist_from_labels[label]['dists'][1]\n",
    "    if dist<11:\n",
    "        print(label, dist)    "
   ]
  },
  {
   "cell_type": "code",
   "execution_count": 7,
   "metadata": {},
   "outputs": [],
   "source": [
    "emb, label_to_name = summon_embedder(exp_path, transforms, device)"
   ]
  },
  {
   "cell_type": "code",
   "execution_count": 9,
   "metadata": {
    "collapsed": true
   },
   "outputs": [
    {
     "name": "stdout",
     "output_type": "stream",
     "text": [
      "Pelargonium zonale (L.) L'Hér.\n",
      "[0.0, 3.3384599685668945, 5.596618175506592, 11.62678050994873, 14.78506088256836, 14.796509742736816, 15.875835418701172, 16.98184585571289, 18.461071014404297, 22.147151947021484, 22.5157413482666, 22.51999282836914, 23.313751220703125, 23.85570526123047, 24.371126174926758, 24.558584213256836, 24.568496704101562, 24.904239654541016, 24.957454681396484, 25.65616226196289, 25.920202255249023, 25.995386123657227, 26.184118270874023, 26.567928314208984, 26.61441993713379, 26.945871353149414, 26.97464942932129, 26.987024307250977, 27.165485382080078, 27.25463104248047, 27.319461822509766, 27.41054916381836, 27.55512809753418, 27.700483322143555, 27.725252151489258, 27.847949981689453, 28.13013458251953, 28.211894989013672, 28.2374267578125, 28.375383377075195, 28.96617889404297, 28.968338012695312, 29.11788558959961, 29.14380645751953, 29.30318832397461, 29.334373474121094, 29.39968490600586, 29.496509552001953, 29.877655029296875, 30.22723388671875, 30.392627716064453, 30.424114227294922, 30.509075164794922, 31.230382919311523, 31.280176162719727, 31.28890609741211, 31.290653228759766, 31.312612533569336, 31.325870513916016, 31.351491928100586, 31.351722717285156, 31.549692153930664, 31.649181365966797, 31.671676635742188, 31.68357276916504, 31.68755340576172, 31.90975570678711, 32.066585540771484, 32.13774490356445, 32.26746368408203, 32.35868835449219, 32.377506256103516, 32.55924606323242, 32.59041213989258, 32.63134002685547, 32.7835578918457, 32.92368698120117, 32.93163299560547, 33.014869689941406, 33.03133010864258, 33.18864822387695, 33.223350524902344, 33.25659942626953, 33.349021911621094, 33.474761962890625, 33.479469299316406, 33.50832748413086, 33.50943374633789, 33.64220428466797, 33.72132873535156, 33.8089485168457, 33.93893814086914, 34.00752639770508, 34.38376235961914, 34.39918518066406, 34.425777435302734, 34.44618225097656, 34.47480773925781, 34.534820556640625, 34.66735076904297, 34.70079803466797, 34.73848342895508, 34.811553955078125, 34.819496154785156, 34.83518981933594, 34.865577697753906, 35.05289077758789, 35.083797454833984, 35.159603118896484, 35.45975875854492, 35.51670837402344, 35.646278381347656, 35.68400573730469, 35.776100158691406, 35.938865661621094, 36.1773567199707, 36.18798065185547, 36.26797866821289, 36.318572998046875, 36.4096565246582, 36.46629333496094, 36.50190353393555, 36.61724853515625, 36.63612747192383, 36.72342300415039, 36.875694274902344, 36.92021179199219, 36.966915130615234, 37.135833740234375, 37.309043884277344, 37.342987060546875, 37.3837776184082, 37.39417266845703, 37.398372650146484, 37.46426773071289, 37.506168365478516, 37.63998031616211, 37.66266632080078, 37.68846130371094, 37.69158172607422, 37.73726272583008, 37.914180755615234, 37.921913146972656, 38.03471755981445, 38.095211029052734, 38.138397216796875, 38.2678108215332, 38.28437805175781, 38.44470977783203, 38.5195426940918, 38.57630920410156, 38.62592315673828, 38.81212615966797, 38.88654708862305, 38.913063049316406, 38.932743072509766, 38.969329833984375, 38.980953216552734, 39.03746032714844, 39.04362106323242, 39.064292907714844, 39.06956100463867, 39.07686233520508, 39.084171295166016, 39.14262390136719, 39.14726257324219, 39.18765640258789, 39.206912994384766, 39.27143859863281, 39.320899963378906, 39.33396911621094, 39.370243072509766, 39.38925552368164, 39.40993881225586, 39.46229553222656, 39.463417053222656, 39.633155822753906, 39.81378173828125, 39.81875228881836, 39.95487976074219, 40.04755783081055, 40.1171875, 40.140098571777344, 40.17619705200195, 40.299686431884766, 40.36886215209961, 40.56616973876953, 40.57124328613281, 40.57579803466797, 40.58187484741211, 40.596981048583984, 40.720211029052734, 40.80138397216797, 40.805728912353516, 40.914390563964844, 41.06379699707031, 41.10052490234375, 41.135353088378906, 41.42875671386719, 41.45751953125, 41.459983825683594, 41.580848693847656, 41.61493682861328, 41.65171432495117, 41.659584045410156, 41.733150482177734, 41.739280700683594, 41.810245513916016, 41.98567199707031, 42.18146514892578, 42.20253372192383, 42.35859680175781, 42.388893127441406, 42.52508544921875, 42.82251739501953, 42.87016296386719, 42.9021110534668, 43.02177429199219, 43.13454055786133, 43.162174224853516, 43.38611602783203, 43.52830505371094, 43.53472137451172, 43.56315994262695, 43.5706901550293, 43.70350646972656, 43.859214782714844, 43.862979888916016, 43.873355865478516, 43.904197692871094, 43.938758850097656, 43.995906829833984, 43.999610900878906, 44.037452697753906, 44.06525802612305, 44.12800216674805, 44.23902130126953, 44.35614013671875, 44.467308044433594, 44.51150894165039, 44.544803619384766, 44.561279296875, 44.59980773925781, 44.663978576660156, 44.70071029663086, 44.767154693603516, 44.77824020385742, 44.937828063964844, 45.02018356323242, 45.107276916503906, 45.17570114135742, 45.244449615478516, 45.429054260253906, 45.5041618347168, 45.5618782043457, 45.687835693359375, 45.75791931152344, 45.82288360595703, 46.014793395996094, 46.18394470214844, 46.19706344604492, 46.30238723754883, 46.311920166015625, 46.330711364746094, 46.37086486816406, 46.594268798828125, 46.640716552734375, 46.65355682373047, 46.71998977661133, 46.84250259399414, 46.87268829345703, 46.95231628417969, 47.03279113769531, 47.03825378417969, 47.261016845703125, 47.34675598144531, 47.36263656616211, 47.649295806884766, 47.69020080566406, 47.764583587646484, 47.83678436279297, 47.87623596191406, 47.87770462036133, 47.89798355102539, 47.97655487060547, 48.02833557128906, 48.02981185913086, 48.04589080810547, 48.14105987548828, 48.19424819946289, 48.22650146484375, 48.295875549316406, 48.350738525390625, 48.39899826049805, 48.447784423828125, 48.532752990722656, 48.551605224609375, 48.76564407348633, 48.80455017089844, 49.036659240722656, 49.04969787597656, 49.142337799072266, 49.242610931396484, 49.32170867919922, 49.466064453125, 49.4855842590332, 49.51201629638672, 49.576927185058594, 49.72816467285156, 49.80499267578125, 49.8438835144043, 49.930381774902344, 50.10450744628906, 50.143280029296875, 50.148624420166016, 50.20586395263672, 50.27602005004883, 50.306602478027344, 50.80546951293945, 50.844825744628906, 50.880165100097656, 50.93222427368164, 50.934085845947266, 50.93668746948242, 51.01457977294922, 51.01831817626953, 51.108699798583984, 51.324642181396484, 51.44720458984375, 51.69667434692383, 51.773773193359375, 51.78203582763672, 51.79891586303711, 51.863590240478516, 51.94522476196289, 51.94563674926758, 52.082332611083984, 52.19131088256836, 52.22378921508789, 52.272315979003906, 52.39411544799805, 52.406089782714844, 52.45796203613281, 52.76976776123047, 52.920555114746094, 52.957733154296875, 53.079864501953125, 53.15150451660156, 53.18427276611328, 53.27370071411133, 53.38785934448242, 53.40824508666992, 53.439022064208984, 53.44003677368164, 53.446678161621094, 53.83229446411133, 54.09626770019531, 54.167869567871094, 54.19486999511719, 54.19676208496094, 54.315189361572266, 54.439693450927734, 54.48131561279297, 54.78731918334961, 54.83346176147461, 55.096431732177734, 55.31069564819336, 55.34068298339844, 55.389556884765625, 55.4730339050293, 55.575706481933594, 55.68070983886719, 56.023799896240234, 56.02647399902344, 56.06501770019531, 56.3390998840332, 56.39239501953125, 56.47370910644531, 56.54217529296875, 56.568603515625, 56.61681365966797, 56.64373016357422, 56.66535186767578, 56.74528884887695, 56.940467834472656, 57.129207611083984, 57.192970275878906, 57.28484344482422, 57.28506851196289, 57.32725524902344, 57.34364700317383, 57.63218688964844, 57.640411376953125, 57.80340576171875, 58.35755920410156, 58.39863204956055, 58.48845672607422, 58.537269592285156, 58.60626983642578, 58.616111755371094, 58.800537109375, 58.85697555541992, 58.868873596191406, 58.99802780151367, 59.131996154785156, 59.47039794921875, 59.65669250488281, 59.6778678894043, 60.24363327026367, 60.308082580566406, 60.46261215209961, 60.58005905151367, 60.627464294433594, 60.63458251953125, 60.646583557128906, 61.67138671875, 61.86146545410156, 62.38618850708008, 62.43572998046875, 62.58527374267578, 62.65644073486328, 62.71118927001953, 63.107147216796875, 63.16548538208008, 63.22245788574219, 63.32061767578125, 64.55429077148438, 64.6002197265625, 64.72643280029297, 64.81352996826172, 65.03644561767578, 65.41907501220703, 65.46690368652344, 65.53128051757812, 65.78483581542969, 66.35350799560547, 66.4165267944336, 66.67244720458984, 67.14417266845703, 67.22245788574219, 67.40936279296875, 67.46144104003906, 67.6012954711914, 67.73845672607422, 67.90178680419922, 68.72471618652344, 68.73175048828125, 69.91637420654297, 69.966796875, 70.1692123413086, 70.42771911621094, 70.5310287475586, 70.65838623046875, 70.90347290039062, 71.7024917602539, 73.11160278320312, 73.73446655273438, 73.79518127441406, 74.03913116455078, 74.71261596679688, 75.22130584716797, 77.48414611816406, 78.24998474121094, 79.37922668457031, 79.94636535644531, 85.40567016601562, 86.10430145263672]\n",
      "['1355978', '1435714', '1394454', '1355932', '1419115', '1394453', '1550692', '1355959', '1359620', '1363130', '1359625', '1363128', '1363991', '1397268', '1394455', '1384485', '1391483', '1409238', '1397364', '1393425', '1360153', '1394404', '1364099', '1359616', '1358752', '1394420', '1363740', '1359517', '1359498', '1363129', '1356781', '1357330', '1392475', '1374048', '1364159', '1367432', '1408961', '1356111', '1359669', '1394994', '1364172', '1394460', '1405685', '1394504', '1391649', '1667445', '1399145', '1398128', '1389510', '1393423', '1358095', '1389231', '1421021', '1363126', '1397387', '1358150', '1360671', '1358751', '1393614', '1396133', '1358689', '1363336', '1397303', '1369887', '1390637', '1363227', '1408045', '1362954', '1359497', '1356816', '1396843', '1418146', '1391652', '1398444', '1364000', '1398111', '1399783', '1356075', '1394591', '1398178', '1393393', '1364164', '1358094', '1356022', '1355936', '1400100', '1359622', '1396824', '1409295', '1420863', '1402921', '1361823', '1398326', '1358105', '1408774', '1393449', '1361824', '1371691', '1409292', '1394399', '1355937', '1397209', '1363110', '1409215', '1357677', '1397514', '1394382', '1385937', '1413755', '1405641', '1358766', '1419173', '1358133', '1364173', '1362490', '1363737', '1393241', '1363699', '1363127', '1359488', '1359519', '1356692', '1394405', '1360550', '1412418', '1392695', '1393450', '1394489', '1357635', '1411834', '1362582', '1355990', '1418547', '1360590', '1397313', '1391797', '1361656', '1398592', '1420496', '1356421', '1529081', '1360978', '1420795', '1359525', '1392365', '1361024', '1397585', '1391112', '1402920', '1360811', '1397312', '1359197', '1397305', '1397311', '1397351', '1362294', '1408688', '1402926', '1529328', '1397403', '1396156', '1360998', '1363749', '1356126', '1397420', '1409216', '1356257', '1363871', '1355868', '1359485', '1364165', '1369960', '1394394', '1391226', '1497667', '1405686', '1389230', '1376726', '1529107', '1393250', '1363764', '1384499', '1385701', '1361759', '1393946', '1432786', '1393725', '1363613', '1358605', '1391529', '1361850', '1389307', '1356382', '1397556', '1393414', '1362434', '1393792', '1360555', '1419077', '1389297', '1408979', '1396165', '1393466', '1398515', '1393980', '1392094', '1396713', '1396842', '1358700', '1393981', '1360588', '1392361', '1488171', '1408490', '1391192', '1358108', '1356278', '1403826', '1398274', '1395391', '1357652', '1413002', '1412946', '1391953', '1664348', '1356428', '1394120', '1393968', '1359486', '1412337', '1360148', '1393654', '1362927', '1397491', '1389044', '1364161', '1413391', '1391868', '1398041', '1361745', '1529265', '1391963', '1408037', '1411524', '1397551', '1412659', '1402925', '1361666', '1392689', '1418984', '1396708', '1409191', '1356420', '1406863', '1357331', '1391530', '1359508', '1395721', '1357705', '1412699', '1422105', '1358710', '1363703', '1419091', '1361847', '1397598', '1360618', '1389921', '1360759', '1464459', '1391209', '1398567', '1394513', '1394073', '1363117', '1372016', '1361672', '1363490', '1618661', '1398480', '1392096', '1392777', '1646149', '1358112', '1376366', '1392654', '1361891', '1393846', '1358519', '1399231', '1389492', '1406486', '1394759', '1358101', '1403967', '1389442', '1363021', '1358701', '1643491', '1420787', '1396161', '1398447', '1408557', '1529242', '1357379', '1363778', '1412661', '1438352', '1358103', '1398513', '1363750', '1414058', '1364158', '1418140', '1362489', '1358749', '1412697', '1408869', '1359483', '1397352', '1358699', '1413757', '1396143', '1394498', '1529124', '1398608', '1409296', '1400478', '1412833', '1363451', '1361663', '1361508', '1361668', '1391235', '1391110', '1409185', '1395722', '1391762', '1358132', '1360147', '1360835', '1385700', '1419923', '1408041', '1356003', '1400081', '1392658', '1643184', '1418546', '1356901', '1643866', '1359518', '1393254', '1488026', '1383149', '1357506', '1394164', '1419334', '1391648', '1393933', '1503981', '1389308', '1362516', '1394995', '1358099', '1529212', '1389553', '1432783', '1411760', '1393789', '1400104', '1393257', '1363770', '1392093', '1389630', '1356469', '1356076', '1409195', '1397349', '1359530', '1413013', '1361660', '1376703', '1408738', '1391250', '1370279', '1375966', '1420896', '1418191', '1363700', '1399920', '1393965', '1393418', '1394082', '1393850', '1412410', '1391193', '1358760', '1401735', '1389294', '1464088', '1408788', '1359495', '1516297', '1396159', '1513142', '1363769', '1393823', '1497434', '1419086', '1358704', '1392601', '1402924', '1420792', '1409746', '1420781', '1405061', '1358706', '1402423', '1390957', '1402811', '1406426', '1393537', '1412889', '1643887', '1394396', '1411832', '1408874', '1398130', '1412662', '1435260', '1391326', '1418665', '1390956', '1363491', '1414275', '1398469', '1434011', '1363772', '1408214', '1393294', '1392653', '1394508', '1375965', '1412413', '1416509', '1373530', '1408421', '1359510', '1436922', '1356380', '1400471', '1398830', '1514627', '1379513', '1419807', '1360427', '1394313', '1391805', '1389966', '1394143', '1394383', '1398355', '1514035', '1389567', '1363489', '1363463']\n",
      "[\"Pelargonium zonale (L.) L'Hér.\", \"Pelargonium zonale (L.) L'Hér. ex Aiton\", 'Pelargonium inquinans (L.) Aiton', \"Pelargonium graveolens L'Hér.\", 'Pelargonium x hortorum L.H. Bailey', 'Pelargonium x hybridum (L.) Aiton', 'Pelargonium × hortorum L.H. Bailey', \"Pelargonium peltatum (L.) L'Hér.\", 'Alcea rosea L.', 'Papaver somniferum L.', 'Althaea officinalis L.', 'Papaver rhoeas L.', 'Fragaria vesca L.', 'Anemone hupehensis (Lemoine) Lemoine', 'Pelargonium peltatum (L.) Aiton', 'Cucurbita pepo L.', 'Cucurbita maxima Duchesne', 'Anthurium andraeanum Linden ex André', 'Cymbalaria muralis P.Gaertn., B.Mey. & Scherb.', 'Lamium maculatum (L.) L.', 'Anemone coronaria L.', 'Papaver orientale L.', 'Centranthus ruber (L.) DC.', 'Punica granatum L.', 'Lamium purpureum L.', 'Anemone hepatica L.', 'Trifolium repens L.', 'Trifolium pratense L.', 'Trifolium incarnatum L.', 'Papaver dubium L.', 'Humulus lupulus L.', 'Calendula officinalis L.', 'Alliaria petiolata (M.Bieb.) Cavara & Grande', 'Tagetes erecta L.', 'Tagetes patula L.', 'Lupinus polyphyllus Lindl.', 'Schefflera arboricola (Hayata) Merr.', 'Lamium amplexicaule L.', 'Nymphaea alba L.', 'Pyracantha coccinea M.Roem.', 'Lactuca sativa L.', 'Anemone nemorosa L.', 'Acalypha wilkesiana Müll.Arg.', 'Anemone sylvestris L.', 'Daphne cneorum L.', 'Fragaria × ananassa (Duchesne ex Weston) Duchesne ex Rozier', 'Cucurbita moschata Duchesne', 'Sedum palmeri S.Watson', 'Aegopodium podagraria L.', 'Lamium album L.', 'Sedum album L.', \"Phedimus spurius (M.Bieb) 't Hart\", 'Sedum palmeri S. Watson', 'Papaver argemone L.', 'Fragaria viridis Weston', 'Alliaria petiolata (M. Bieb.) Cavara & Grande', 'Chaerophyllum temulum L.', 'Lamium hybridum Vill.', 'Liriodendron tulipifera L.', 'Diascia rigescens E.Mey. ex Benth.', 'Hypericum androsaemum L.', 'Smilax aspera L.', 'Adenostyles alpina (L.) Bluff & Fingerh.', 'Trachelospermum jasminoides (Lindl.) Lem.', 'Calendula arvensis L.', 'Daucus carota L.', 'Alocasia macrorrhizos (L.) G.Don', 'Schefflera actinophylla (Endl.) Harms', 'Trifolium hybridum L.', 'Vaccaria hispanica (Mill.) Rauschert', 'Trifolium alpinum L.', 'Fittonia albivenis (Lindl. ex Veitch) Brummitt', 'Daphne mezereum L.', 'Anemone blanda Schott & Kotschy', 'Duchesnea indica (Jacks.) Focke', 'Adenostyles alliariae (Gouan) A.Kern.', 'Schefflera actinophylla Harms', 'Tradescantia fluminensis Vell.', 'Angelica sylvestris L.', 'Tradescantia zebrina Bosse', 'Kniphofia uvaria (L.) Hook.', 'Lapsana communis L.', 'Sedum acre L.', 'Hypericum perforatum L.', 'Cirsium arvense (L.) Scop.', 'Barbarea vulgaris R.Br.', 'Althaea cannabina L.', 'Tradescantia virginiana L.', 'Nandina domestica Thunb.', 'Kniphofia uvaria (L.) Oken', 'Peperomia obtusifolia (L.) A.Dietr.', 'Lamium galeobdolon (L.) L.', 'Calycanthus floridus L.', 'Sedum dasyphyllum L.', 'Tradescantia pallida (Rose) D.R.Hunt', 'Lathraea clandestina L.', 'Lavandula angustifolia Mill.', 'Mussaenda erythrophylla Schumach. & Thonn.', 'Dendrobium nobile Lindl.', 'Papaver alpinum L.', 'Cirsium vulgare (Savi) Ten.', 'Viscaria vulgaris Bernh.', 'Anemone hortensis L.', 'Peperomia caperata Yunck.', 'Lactuca muralis (L.) Gaertn.', 'Trifolium medium L.', 'Anemone alpina L.', 'Zamioculcas zamiifolia (Lodd.) Engl.', 'Sedum spathulifolium Hook.', 'Asystasia gangetica (L.) T.Anderson', 'Lavandula stoechas L.', 'Loropetalum chinense (R. Br.) Oliv.', 'Sedum sediforme (Jacq.) Pau', 'Lactuca serriola L.', 'Sedum rupestre L.', 'Trifolium dubium Sibth.', 'Hypericum calycinum L.', 'Lupinus angustifolius L.', 'Papaver hybridum L.', 'Trifolium campestre Schreb.', 'Trifolium resupinatum L.', 'Lithodora fruticosa (L.) Griseb.', 'Papaver pseudoorientale (Fedde) Medw.', 'Hyoscyamus albus L.', 'Lamium maculatum L.', 'Hebe salicifolia (G.Forst.) Pennell', 'Lathraea squamaria L.', 'Anemone pulsatilla L.', 'Helminthotheca echioides (L.) Holub', 'Duchesnea indica (Andrews) Teschem.', 'Freesia refracta (Jacq.) Klatt', 'Mercurialis annua L.', 'Sedum morganianum E.Walther', 'Daphne laureola L.', 'Angelica archangelica L.', 'Dryas octopetala L.', 'Ophrys apifera Huds.', 'Perovskia atriplicifolia Benth.', 'Mussaenda philippica A.Rich.', 'Nephrolepis exaltata (L.) Schott', 'Sedum adolphii Raym.-Hamet', 'Pancratium maritimum L.', 'Alocasia sanderiana W.Bull', 'Trifolium stellatum L.', 'Freesia x hybrida L.H.Bailey', 'Butomus umbellatus L.', 'Freesia alba (G.L.Mey.) Grumbleton', 'Chaerophyllum hirsutum L.', 'Peperomia magnoliifolia (Jacq.) A.Dietr.', 'Thapsia villosa L.', 'Anemone ranunculoides L.', 'Galega officinalis L.', 'Alcea biennis Winterl', 'Anemone narcissiflora L.', 'Cirsium acaulon (L.) Scop.', 'Epipactis helleborine (L.) Crantz', 'Acalypha hispida Burm.f.', 'Peperomia serpens (Sw.) Loudon', 'Sedum rubrotinctum R.T. Clausen', 'Honckenya peploides (L.) Ehrh.', 'Sedum kamtschaticum Fisch. & C.A.Mey.', 'Anthericum liliago L.', 'Melilotus indicus (L.) All.', 'Lavandula dentata L.', 'Lactuca perennis L.', 'Peperomia obtusifolia (L.) A. Dietr.', 'Melilotus albus Medik.', 'Barbarea verna (Mill.) Asch.', 'Lactuca virosa L.', 'Trifolium arvense L.', 'Carthamus tinctorius L.', 'Tradescantia spathacea Sw.', 'Anemone apennina L.', 'Cirsium oleraceum (L.) Scop.', 'Tradescantia sillamontana Matuda', 'Breynia disticha J.R.Forst. & G.Forst.', \"Phedimus aizoon (L.) 't Hart\", 'Peperomia pellucida (L.) Kunth', 'Sedum burrito Moran', 'Hypericum maculatum Crantz', 'Acacia dealbata Link', 'Lagenaria siceraria (Molina) Standl.', 'Couroupita guianensis Aubl.', 'Cirsium palustre (L.) Scop.', 'Neotinea ustulata (L.) R.M.Bateman, Pridgeon & M.W.Chase', 'Calendula arvensis M.Bieb.', 'Maianthemum bifolium (L.) F.W.Schmidt', 'Sedum hispanicum L.', 'Mercurialis perennis L.', 'Cytinus hypocistis (L.) L.', 'Trifolium rubens L.', 'Sedum pachyphyllum Rose', 'Dryopteris filix-mas (L.) Schott', 'Freesia refracta (Jacq.) Eckl. ex Klatt', 'Lactuca alpina (L.) Benth. & Hook.f.', 'Centranthus angustifolius (Mill.) DC.', 'Melilotus officinalis (L.) Lam.', 'Hyoscyamus niger L.', \"Lycoris radiata (L'Hér.) Herb.\", 'Cereus jamacaru DC.', 'Fragaria chiloensis (L.) Mill.', 'Sedum sexangulare L.', 'Lavandula latifolia Medik.', 'Hypericum x hidcoteense Hilling ex Geerinck', 'Nymphaea candida C.Presl', 'Erucastrum incanum (L.) W.D.J.Koch', 'Telekia speciosa (Schreb.) Baumg.', 'Trifolium alpestre L.', 'Hypericum hirsutum L.', 'Nymphoides peltata (S.G.Gmel.) Kuntze', 'Daphne gnidium L.', 'Fragaria moschata Weston', 'Selenicereus anthonyanus (Alexander) D.R. Hunt', 'Pereskia grandifolia Haw.', 'Cirsium eriophorum (L.) Scop.', 'Sedum forsterianum Sm.', 'Trifolium fragiferum L.', 'Pereskia bleo (Kunth) DC.', 'Adenostyles leucophylla (Willd.) Rchb.', 'Holodiscus discolor (Pursh) Maxim.', 'Hyoseris radiata L.', 'Aralia nudicaulis L.', 'Papaver nudicaule L.', 'Epipactis atrorubens (Hoffm.) Besser', 'Hepatica nobilis Mill.', 'Osmunda regalis L.', 'Ophrys fuciflora (F.W.Schmidt) Moench', 'Noccaea rotundifolia (L.) Moench', 'Trifolium aureum Pollich', 'Anemone canadensis L.', 'Adonis annua L.', 'Lupinus arboreus Sims', 'Tradescantia pallida (Rose) D.R. Hunt', 'Sedum atratum L.', 'Lactuca plumieri (L.) Gren. & Godr.', 'Calendula arvensis (Vaill.) L.', 'Pyracantha coccinea M. Roem.', 'Empetrum nigrum L.', 'Neotinea tridentata (Scop.) R.M.Bateman, Pridgeon & M.W.Chase', 'Myosoton aquaticum (L.) Moench', 'Sedum nussbaumerianum Bitter', 'Epipactis palustris (L.) Crantz', 'Alocasia cucullata (Lour.) G.Don', 'Conoclinium coelestinum (L.) DC.', 'Trifolium badium Schreb.', 'Maianthemum canadense Desf.', 'Peperomia rotundifolia (L.) Kunth', 'Ophrys scolopax Cav.', 'Hebe andersonii (Lindl. & Paxton) Cockayne', 'Lupinus albifrons Benth.', 'Metasequoia glyptostroboides Hu & W.C.Cheng', 'Gynura aurantiaca (Blume) Sch.Bip. ex DC.', 'Nephrolepis cordifolia (L.) C. Presl', 'Acalypha indica L.', 'Calendula stellata Cav.', 'Cytinus ruber Fritsch', 'Trifolium montanum L.', 'Sagittaria latifolia Willd.', 'Limbarda crithmoides (L.) Dumort.', 'Mertensia virginica (L.) Pers. ex Link', 'Tradescantia zebrina hort. ex Bosse', 'Hypericum tetrapterum Fr.', 'Lupinus albus L.', 'Lycoris squamigera Maxim.', 'Casuarina cunninghamiana Miq.', 'Cobaea scandens Cav.', 'Berula erecta (Huds.) Coville', 'Erechtites hieraciifolius (L.) Raf. ex DC.', 'Meum athamanticum Jacq.', 'Anthurium clarinervium Matuda', 'Cirsium heterophyllum (L.) Hill', 'Smilax rotundifolia L.', 'Anemone vernalis L.', 'Ophrys aranifera Huds.', 'Tradescantia cerinthoides Kunth', 'Morinda citrifolia L.', 'Ophrys tenthredinifera Willd.', 'Phalaris arundinacea L.', 'Dendrobium victoriae-reginae Loher', 'Clethra alnifolia L.', 'Erucastrum nasturtiifolium (Poir.) O.E.Schulz', 'Hippophae rhamnoides L.', 'Hebe andersonii (Lindl. & J. Paxton) Cockayne', 'Sedum hirsutum All.', 'Triadica sebifera (L.) Small', 'Gomphocarpus physocarpus E.Mey.', 'Falcaria vulgaris Bernh.', 'Moehringia ciliata (Scop.) Dalla Torre', 'Acalypha virginica L.', 'Lamium orvala L.', 'Tagetes tenuifolia Cav.', 'Kigelia africana (Lam.) Benth.', 'Anthericum ramosum L.', 'Sedum caeruleum L.', 'Cereus hexagonus (L.) Mill.', 'Atocion rupestre (L.) B.Oxelman', 'Cenchrus setaceus (Forssk.) Morrone', 'Hypericum humifusum L.', 'Peperomia ferreyrae Yunck.', 'Alocasia odora (Lindl.) K.Koch', 'Sedum ochroleucum Chaix', 'Aralia elata (Miq.) Seem.', 'Pongamia pinnata (L.) Pierre', 'Sedum makinoi Maxim.', 'Carthamus lanatus L.', 'Acacia retinodes Schltdl.', 'Maianthemum racemosum (L.) Link', 'Smilax bona-nox L.', 'Sedum cepaea L.', 'Hypericum patulum Thunb.', 'Melilotus officinalis (L.) Pall.', 'Tradescantia ohiensis Raf.', 'Tagetes minuta L.', 'Lithops pseudotruncatella N.E.Br.', 'Sedum anglicum Huds.', 'Lamium flexuosum Ten.', 'Mertensia maritima (L.) Gray', 'Cereus repandus (L.) Mill.', 'Trifolium angustifolium L.', 'Cirsium spinosissimum (L.) Scop.', 'Hypericum hircinum L.', 'Sedum ternatum Michx.', 'Sedum sarmentosum Bunge', 'Anemone rubra Lam.', 'Sedum clavatum R.T. Clausen', 'Nothofagus antarctica (G.Forst.) Oerst.', 'Nymphaea nouchali Burm.f.', 'Nephrolepis biserrata (Sw.) Schott', 'Nymphaea odorata Aiton', 'Secale cereale L.', 'Ophrys lutea Cav.', 'Oncostema peruviana (L.) Speta', 'Ophrys speculum Link', 'Cirsium rivulare (Jacq.) All.', 'Chaerophyllum aureum L.', 'Aphelandra squarrosa Nees', 'Sagittaria sagittifolia L.', 'Dorotheanthus bellidiformis (Burm.f.) N.E.Br.', 'Sedum rubens L.', 'Adonis aestivalis L.', 'Centranthus calcitrapae (L.) Dufr.', 'Barringtonia asiatica (L.) Kurz', 'Peperomia argyreia (Hook.f.) E.Morren', 'Alocasia longiloba Miq.', 'Phyllanthus tenellus Roxb.', 'Adonis vernalis L.', 'Guizotia abyssinica (L.f.) Cass.', 'Peperomia albovittata C. DC.', 'Sedum lineare Thunb.', 'Moehringia trinervia (L.) Clairv.', 'Peperomia polybotrya Kunth', 'Trifolium purpureum Loisel.', 'Hypericum pulchrum L.', 'Pilosocereus pachycladus F. Ritter', 'Casuarina equisetifolia L.', 'Cirsium monspessulanum (L.) Hill', 'Ophrys passionis Sennen', 'Liriope muscari (Decne.) L.H.Bailey', 'Daphne alpina L.', 'Narthecium ossifragum (L.) Huds.', 'Cirsium palustre (L.) Coss. ex Scop.', 'Sedum dendroideum Moc. & Sessé ex DC.', 'Ophrys insectifera L.', 'Pyracantha rogersiana (A.B.Jacks.) Coltm.-Rog.', 'Sedum brevifolium DC.', 'Sedum japonicum Siebold ex Miq.', 'Acacia melanoxylon R.Br.', 'Lactuca virosa Habl.', 'Diervilla lonicera Mill.', 'Melilotus altissimus Thuill.', 'Acacia baileyana F.Muell.', 'Hypericum richeri Vill.', 'Acacia mearnsii De Wild.', 'Erucastrum gallicum (Willd.) O.E.Schulz', 'Perovskia abrotanoides Kar.', 'Achyranthes aspera L.', 'Tradescantia zebrina Heynh. ex Bosse', 'Pereskia aculeata Mill.', 'Chaerophyllum bulbosum L.', 'Trifolium tomentosum L.', 'Aralia racemosa L.', 'Ophrys fusca Link', 'Petiveria alliacea L.', 'Strongylodon macrobotrys A.Gray', 'Cirsium tuberosum (L.) All.', 'Gymnosporia putterlickioides Loes.', 'Phyllanthus amarus Schumach. & Thonn.', 'Zamia furfuracea L.f. ex Aiton', 'Lithops spp.', 'Lupinus luteus L.', 'Angelica atropurpurea L.', 'Noccaea caerulescens (J.Presl & C.Presl) F.K.Mey.', 'Lactuca viminea (L.) J.Presl & C.Presl', 'Ophrys bertolonii Moretti', 'Moehringia muscosa L.', 'Anemone virginiana L.', 'Cirsium erisithales (Jacq.) Scop.', 'Lavandula multifida L.', 'Phyllanthus urinaria L.', 'Nephrolepis cordifolia (L.) C.Presl', 'Alocasia zebrina Schott ex Van Houtte', 'Trimezia martinicensis (Jacq.) Herb.', 'Trifolium hirtum All.', 'Othonna capensis L.H.Bailey', 'Sedum mexicanum Britton', 'Lactuca alpina (L.) A.Gray', 'Acacia longifolia (Andrews) Willd.', 'Mercurialis tomentosa L.', 'Cyanotis somaliensis C.B.Clarke', 'Garrya elliptica Douglas ex Lindl.', 'Hypericum montanum L.', 'Geropogon hybridus (L.) Sch.Bip.', 'Peperomia quadrangularis (J.V.Thomps.) A.Dietr.', 'Daphne odora Thunb.', 'Lactuca floridana (L.) Gaertn.', 'Alocasia micholitziana Sander', 'Cryptostegia madagascariensis Bojer ex Decne.', 'Hypericum perfoliatum L.', 'Anthurium hookeri Kunth', 'Carthamus mitissimus L.', 'Crotalaria retusa L.', 'Crotalaria pallida Aiton', 'Limnanthes douglasii R.Br.', 'Osmunda claytoniana L.', 'Peperomia prostrata B.S. Williams', 'Anemone baldensis L.', 'Dryopteris intermedia (Muhl. ex Willd.) A. Gray', 'Bismarckia nobilis Hildebr. & H.Wendl.', 'Hypericum olympicum L.', 'Maianthemum stellatum (L.) Link', 'Aralia spinosa L.', 'Collomia grandiflora Douglas ex Lindl.', 'Rumohra adiantiformis (G. Forst.) Ching', 'Carthamus carduncellus L.', 'Phalaris canariensis L.', 'Barbarea orthoceras Ledeb.', 'Ophrys virescens Philippe', 'Liriope muscari (Decne.) L.H. Bailey', 'Acacia pycnantha Benth.', 'Hypericum lanceolatum Lam.', 'Dierama pulcherrimum (Hook.f.) Baker', 'Gomphocarpus fruticosus (L.) R.Br.', 'Anemone trifolia L.', 'Phyllanthus acidus (L.) Skeels', 'Lactuca canadensis L.', 'Nepenthes vieillardii Hook. f.', 'Gynura aurantiaca (Blume) DC.', 'Acacia heterophylla (Lam.) Willd.', 'Trifolium ochroleucon Huds.', 'Prosopis glandulosa Torr.', 'Dryopteris affinis (Lowe) Fraser-Jenk.', 'Bocoa prouacensis Aubl.', 'Tetraclinis articulata (Vahl) Mast.', 'Melampodium divaricatum (Rich. ex Rich.) DC.', 'Hypericum annulatum Moris', 'Vanilla planifolia Jacks. ex Andrews', 'Oldenlandia corymbosa L.', 'Oreopteris limbosperma (Bellardi ex All.) Holub', 'Dryopteris carthusiana (Vill.) H.P.Fuchs', 'Cenchrus longisetus M.C.Johnst.', 'Ophrys lupercalis Devillers & Devillers-Tersch.', 'Pancratium illyricum L.', 'Ophrys araneola sensu auct.plur.', 'Leucophyta brownii Cass.', 'Acacia saligna (Labill.) H.L.Wendl.', 'Phalaris aquatica L.', 'Cenchrus ciliaris L.']\n"
     ]
    }
   ],
   "source": [
    "label = '1355978'\n",
    "print(label_to_name[dist_from_labels[label]['target_label']])\n",
    "print(dist_from_labels[label]['dists'])\n",
    "print(dist_from_labels[label]['labels'])\n",
    "print(list(map(lambda x : label_to_name[x], dist_from_labels[label]['labels'])))"
   ]
  },
  {
   "cell_type": "markdown",
   "metadata": {},
   "source": [
    "### 거리에 대한 히스토그램 분포"
   ]
  },
  {
   "cell_type": "code",
   "execution_count": 16,
   "metadata": {},
   "outputs": [],
   "source": [
    "list_of_dists = []\n",
    "dist_matrix = np.load(join(exp_path, \"dist_matrix.npy\"))\n",
    "\n",
    "for i in range(dist_matrix.shape[0]):\n",
    "    for j in range(dist_matrix.shape[1]):\n",
    "        if i<j:\n",
    "            list_of_dists.append(dist_matrix[i,j])"
   ]
  },
  {
   "cell_type": "code",
   "execution_count": 19,
   "metadata": {},
   "outputs": [
    {
     "data": {
      "text/plain": [
       "(array([1.1000e+01, 2.4000e+01, 6.1000e+01, 1.2200e+02, 3.2700e+02,\n",
       "        1.0110e+03, 2.4940e+03, 4.3340e+03, 6.2880e+03, 8.3040e+03,\n",
       "        9.5250e+03, 1.0639e+04, 1.0845e+04, 1.0278e+04, 9.0350e+03,\n",
       "        7.5700e+03, 6.1840e+03, 4.8000e+03, 3.8810e+03, 3.0300e+03,\n",
       "        2.3410e+03, 1.7360e+03, 1.3650e+03, 1.0750e+03, 8.3200e+02,\n",
       "        6.7000e+02, 4.8800e+02, 3.9600e+02, 2.9500e+02, 2.3300e+02,\n",
       "        1.6500e+02, 1.3000e+02, 8.5000e+01, 7.2000e+01, 5.4000e+01,\n",
       "        3.1000e+01, 2.7000e+01, 1.3000e+01, 1.3000e+01, 7.0000e+00,\n",
       "        8.0000e+00, 3.0000e+00, 2.0000e+00, 1.0000e+00, 2.0000e+00,\n",
       "        2.0000e+00, 0.0000e+00, 0.0000e+00, 0.0000e+00, 2.0000e+00]),\n",
       " array([  3.33845997,   7.4215571 ,  11.50465424,  15.58775137,\n",
       "         19.6708485 ,  23.75394564,  27.83704277,  31.9201399 ,\n",
       "         36.00323704,  40.08633417,  44.1694313 ,  48.25252844,\n",
       "         52.33562557,  56.41872271,  60.50181984,  64.58491697,\n",
       "         68.66801411,  72.75111124,  76.83420837,  80.91730551,\n",
       "         85.00040264,  89.08349977,  93.16659691,  97.24969404,\n",
       "        101.33279118, 105.41588831, 109.49898544, 113.58208258,\n",
       "        117.66517971, 121.74827684, 125.83137398, 129.91447111,\n",
       "        133.99756824, 138.08066538, 142.16376251, 146.24685965,\n",
       "        150.32995678, 154.41305391, 158.49615105, 162.57924818,\n",
       "        166.66234531, 170.74544245, 174.82853958, 178.91163671,\n",
       "        182.99473385, 187.07783098, 191.16092812, 195.24402525,\n",
       "        199.32712238, 203.41021952, 207.49331665]),\n",
       " <BarContainer object of 50 artists>)"
      ]
     },
     "execution_count": 19,
     "metadata": {},
     "output_type": "execute_result"
    },
    {
     "data": {
      "image/png": "[encoded data removed]",
      "text/plain": [
       "<Figure size 432x288 with 1 Axes>"
      ]
     },
     "metadata": {
      "needs_background": "light"
     },
     "output_type": "display_data"
    }
   ],
   "source": [
    "plt.hist(np.array(list_of_dists), bins=50)"
   ]
  },
  {
   "cell_type": "code",
   "execution_count": 64,
   "metadata": {},
   "outputs": [
    {
     "data": {
      "text/plain": [
       "59.21389727373969"
      ]
     },
     "execution_count": 64,
     "metadata": {},
     "output_type": "execute_result"
    }
   ],
   "source": [
    "np.array(list_of_dists).mean()"
   ]
  },
  {
   "cell_type": "code",
   "execution_count": 65,
   "metadata": {},
   "outputs": [
    {
     "data": {
      "text/plain": [
       "(3.3384599685668945, 207.49331665039062)"
      ]
     },
     "execution_count": 65,
     "metadata": {},
     "output_type": "execute_result"
    }
   ],
   "source": [
    "np.array(list_of_dists).min(), np.array(list_of_dists).max()"
   ]
  },
  {
   "cell_type": "markdown",
   "metadata": {},
   "source": [
    "### 데이터의 수량별 평균 정확도"
   ]
  },
  {
   "cell_type": "code",
   "execution_count": 20,
   "metadata": {},
   "outputs": [],
   "source": [
    "import pandas as pd"
   ]
  },
  {
   "cell_type": "code",
   "execution_count": 21,
   "metadata": {},
   "outputs": [],
   "source": [
    "df = pd.read_csv(\"/home/files/experiments/mini_plantnet/efficientB4/exp2/logs/categorical_metrics_test.csv\")"
   ]
  },
  {
   "cell_type": "code",
   "execution_count": 22,
   "metadata": {},
   "outputs": [
    {
     "data": {
      "text/html": [
       "<div>\n",
       "<style scoped>\n",
       "    .dataframe tbody tr th:only-of-type {\n",
       "        vertical-align: middle;\n",
       "    }\n",
       "\n",
       "    .dataframe tbody tr th {\n",
       "        vertical-align: top;\n",
       "    }\n",
       "\n",
       "    .dataframe thead th {\n",
       "        text-align: right;\n",
       "    }\n",
       "</style>\n",
       "<table border=\"1\" class=\"dataframe\">\n",
       "  <thead>\n",
       "    <tr style=\"text-align: right;\">\n",
       "      <th></th>\n",
       "      <th>Unnamed: 0</th>\n",
       "      <th>name</th>\n",
       "      <th>samples_per_class</th>\n",
       "      <th>precision</th>\n",
       "      <th>recall</th>\n",
       "    </tr>\n",
       "  </thead>\n",
       "  <tbody>\n",
       "    <tr>\n",
       "      <th>0</th>\n",
       "      <td>0</td>\n",
       "      <td>Lactuca virosa L.</td>\n",
       "      <td>43</td>\n",
       "      <td>1.000000</td>\n",
       "      <td>0.441860</td>\n",
       "    </tr>\n",
       "    <tr>\n",
       "      <th>1</th>\n",
       "      <td>1</td>\n",
       "      <td>Pelargonium graveolens L'Hér.</td>\n",
       "      <td>215</td>\n",
       "      <td>0.029693</td>\n",
       "      <td>0.823256</td>\n",
       "    </tr>\n",
       "    <tr>\n",
       "      <th>2</th>\n",
       "      <td>2</td>\n",
       "      <td>Cirsium arvense (L.) Scop.</td>\n",
       "      <td>428</td>\n",
       "      <td>1.000000</td>\n",
       "      <td>0.873832</td>\n",
       "    </tr>\n",
       "    <tr>\n",
       "      <th>3</th>\n",
       "      <td>3</td>\n",
       "      <td>Cirsium vulgare (Savi) Ten.</td>\n",
       "      <td>648</td>\n",
       "      <td>1.000000</td>\n",
       "      <td>0.905864</td>\n",
       "    </tr>\n",
       "    <tr>\n",
       "      <th>4</th>\n",
       "      <td>4</td>\n",
       "      <td>Pelargonium peltatum (L.) L'Hér.</td>\n",
       "      <td>21</td>\n",
       "      <td>1.000000</td>\n",
       "      <td>0.238095</td>\n",
       "    </tr>\n",
       "    <tr>\n",
       "      <th>...</th>\n",
       "      <td>...</td>\n",
       "      <td>...</td>\n",
       "      <td>...</td>\n",
       "      <td>...</td>\n",
       "      <td>...</td>\n",
       "    </tr>\n",
       "    <tr>\n",
       "      <th>462</th>\n",
       "      <td>462</td>\n",
       "      <td>Peperomia polybotrya Kunth</td>\n",
       "      <td>11</td>\n",
       "      <td>1.000000</td>\n",
       "      <td>0.909091</td>\n",
       "    </tr>\n",
       "    <tr>\n",
       "      <th>463</th>\n",
       "      <td>463</td>\n",
       "      <td>Peperomia prostrata B.S. Williams</td>\n",
       "      <td>6</td>\n",
       "      <td>1.000000</td>\n",
       "      <td>0.833333</td>\n",
       "    </tr>\n",
       "    <tr>\n",
       "      <th>464</th>\n",
       "      <td>464</td>\n",
       "      <td>Hebe andersonii (Lindl. &amp; J. Paxton) Cockayne</td>\n",
       "      <td>11</td>\n",
       "      <td>1.000000</td>\n",
       "      <td>0.090909</td>\n",
       "    </tr>\n",
       "    <tr>\n",
       "      <th>465</th>\n",
       "      <td>465</td>\n",
       "      <td>Hepatica nobilis Mill.</td>\n",
       "      <td>7</td>\n",
       "      <td>NaN</td>\n",
       "      <td>0.000000</td>\n",
       "    </tr>\n",
       "    <tr>\n",
       "      <th>466</th>\n",
       "      <td>466</td>\n",
       "      <td>Fragaria × ananassa (Duchesne ex Weston) Duche...</td>\n",
       "      <td>31</td>\n",
       "      <td>1.000000</td>\n",
       "      <td>0.322581</td>\n",
       "    </tr>\n",
       "  </tbody>\n",
       "</table>\n",
       "<p>467 rows × 5 columns</p>\n",
       "</div>"
      ],
      "text/plain": [
       "     Unnamed: 0                                               name  \\\n",
       "0             0                                  Lactuca virosa L.   \n",
       "1             1                      Pelargonium graveolens L'Hér.   \n",
       "2             2                         Cirsium arvense (L.) Scop.   \n",
       "3             3                        Cirsium vulgare (Savi) Ten.   \n",
       "4             4                   Pelargonium peltatum (L.) L'Hér.   \n",
       "..          ...                                                ...   \n",
       "462         462                         Peperomia polybotrya Kunth   \n",
       "463         463                  Peperomia prostrata B.S. Williams   \n",
       "464         464      Hebe andersonii (Lindl. & J. Paxton) Cockayne   \n",
       "465         465                             Hepatica nobilis Mill.   \n",
       "466         466  Fragaria × ananassa (Duchesne ex Weston) Duche...   \n",
       "\n",
       "     samples_per_class  precision    recall  \n",
       "0                   43   1.000000  0.441860  \n",
       "1                  215   0.029693  0.823256  \n",
       "2                  428   1.000000  0.873832  \n",
       "3                  648   1.000000  0.905864  \n",
       "4                   21   1.000000  0.238095  \n",
       "..                 ...        ...       ...  \n",
       "462                 11   1.000000  0.909091  \n",
       "463                  6   1.000000  0.833333  \n",
       "464                 11   1.000000  0.090909  \n",
       "465                  7        NaN  0.000000  \n",
       "466                 31   1.000000  0.322581  \n",
       "\n",
       "[467 rows x 5 columns]"
      ]
     },
     "execution_count": 22,
     "metadata": {},
     "output_type": "execute_result"
    }
   ],
   "source": [
    "df"
   ]
  },
  {
   "cell_type": "code",
   "execution_count": 26,
   "metadata": {},
   "outputs": [],
   "source": [
    "df['label'] = df.name.apply(lambda x : emb.name_to_label[x])"
   ]
  },
  {
   "cell_type": "code",
   "execution_count": 30,
   "metadata": {},
   "outputs": [],
   "source": [
    "def file_counter(label):\n",
    "    train_path = \"/home/files/datasets/plantnet_300K/images/train\"\n",
    "    return len(listdir(join(train_path, label)))\n",
    "df['train_samples_per_class'] = df.label.apply(file_counter)"
   ]
  },
  {
   "cell_type": "code",
   "execution_count": 63,
   "metadata": {},
   "outputs": [
    {
     "name": "stdout",
     "output_type": "stream",
     "text": [
      "174\n",
      "100\n",
      "85\n",
      "43\n",
      "35\n",
      "24\n",
      "6\n"
     ]
    }
   ],
   "source": [
    "print(len(df[df.train_samples_per_class<100]))\n",
    "print(len(df[(df.train_samples_per_class<200)*(df.train_samples_per_class>=100)]))\n",
    "print(len(df[(df.train_samples_per_class<500)*(df.train_samples_per_class>=200)]))\n",
    "print(len(df[(df.train_samples_per_class<1000)*(df.train_samples_per_class>=500)]))\n",
    "print(len(df[(df.train_samples_per_class<2000)*(df.train_samples_per_class>=1000)]))\n",
    "print(len(df[(df.train_samples_per_class<5000)*(df.train_samples_per_class>=2000)]))\n",
    "print(len(df[df.train_samples_per_class>=5000]))"
   ]
  },
  {
   "cell_type": "code",
   "execution_count": 67,
   "metadata": {},
   "outputs": [
    {
     "name": "stdout",
     "output_type": "stream",
     "text": [
      "0.44693850681609193\n",
      "0.59938114473\n",
      "0.653167032964706\n",
      "0.7167493974186046\n",
      "0.841582905142857\n",
      "0.9047507245833334\n",
      "0.9332831666666666\n"
     ]
    }
   ],
   "source": [
    "print(df[df.train_samples_per_class<100].recall.mean())\n",
    "print(df[(df.train_samples_per_class<200)*(df.train_samples_per_class>=100)].recall.mean())\n",
    "print(df[(df.train_samples_per_class<500)*(df.train_samples_per_class>=200)].recall.mean())\n",
    "print(df[(df.train_samples_per_class<1000)*(df.train_samples_per_class>=500)].recall.mean())\n",
    "print(df[(df.train_samples_per_class<2000)*(df.train_samples_per_class>=1000)].recall.mean())\n",
    "print(df[(df.train_samples_per_class<5000)*(df.train_samples_per_class>=2000)].recall.mean())\n",
    "print(df[df.train_samples_per_class>=5000].recall.mean())"
   ]
  }
 ],
 "metadata": {
  "kernelspec": {
   "display_name": "Python 3 (ipykernel)",
   "language": "python",
   "name": "python3"
  },
  "language_info": {
   "codemirror_mode": {
    "name": "ipython",
    "version": 3
   },
   "file_extension": ".py",
   "mimetype": "text/x-python",
   "name": "python",
   "nbconvert_exporter": "python",
   "pygments_lexer": "ipython3",
   "version": "3.7.11"
  },
  "vscode": {
   "interpreter": {
    "hash": "d4d1e4263499bec80672ea0156c357c1ee493ec2b1c70f0acce89fc37c4a6abe"
   }
  }
 },
 "nbformat": 4,
 "nbformat_minor": 2
}

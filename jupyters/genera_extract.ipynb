{
 "cells": [
  {
   "cell_type": "code",
   "execution_count": 1,
   "metadata": {},
   "outputs": [],
   "source": [
    "import sys\n",
    "sys.path.append(\"/home/files/uos_plantclassification\")\n",
    "import pandas as pd\n",
    "import json\n",
    "from os.path import join\n",
    "from os import listdir\n",
    "import albumentations as A\n",
    "from albumentations.pytorch import ToTensorV2\n",
    "from config.path import PATH\n",
    "from data import get_mini_plantnet, MiniPlantNet, PlantNet300K\n",
    "transforms = {\n",
    "    'train': A.Compose([\n",
    "        A.Resize(height=380, width=380),\n",
    "        A.HorizontalFlip(p=0.5),\n",
    "        A.Normalize(mean=0.0, std=1.0),\n",
    "        ToTensorV2()]),\n",
    "    'val': A.Compose([\n",
    "        A.Resize(height=380, width=380),\n",
    "        A.Normalize(mean=0.0, std=1.0),\n",
    "        ToTensorV2()]),\n",
    "    'test': A.Compose([\n",
    "        A.Resize(height=380, width=380),\n",
    "        A.Normalize(mean=0.0, std=1.0),\n",
    "        ToTensorV2()])\n",
    "}\n",
    "\n",
    "dataset = PlantNet300K(root=PATH[\"PLANTNET-300K\"], split=\"train\", shuffle=False, transform=transforms[\"test\"])\n",
    "#dataset = MiniPlantNet(root=PATH[\"PLANTNET-300K\"], split=\"train\", shuffle=False, transform=transforms[\"test\"])"
   ]
  },
  {
   "cell_type": "code",
   "execution_count": 2,
   "metadata": {},
   "outputs": [],
   "source": [
    "genera_to_species = {}\n",
    "\n",
    "for name, label in zip(dataset.name_to_label.keys(), dataset.name_to_label.values()):\n",
    "    genera = name.split(\" \")[0]\n",
    "    if genera in genera_to_species.keys():\n",
    "        genera_to_species[genera].append(name)\n",
    "    else:\n",
    "        genera_to_species[genera] = [name]\n",
    "\n",
    "with open(\"genera_to_species.json\", 'w', encoding='utf-8') as f: \n",
    "    json.dump(genera_to_species, f, ensure_ascii=False, indent=2)"
   ]
  },
  {
   "cell_type": "code",
   "execution_count": 3,
   "metadata": {},
   "outputs": [],
   "source": [
    "species_to_fine = {}\n",
    "for name in dataset.name_to_label:\n",
    "    species_to_fine[name] = dataset.label_to_class[dataset.name_to_label[name]]\n",
    "with open(\"species_to_fine.json\", 'w', encoding='utf-8') as f: \n",
    "    json.dump(species_to_fine, f, ensure_ascii=False, indent=2)\n",
    "\n",
    "\n",
    "genera_to_coarse = {}\n",
    "for id, genera in enumerate(genera_to_species.keys()):\n",
    "    genera_to_coarse[genera] = id\n",
    "with open(\"genera_to_coarse.json\", 'w', encoding='utf-8') as f: \n",
    "    json.dump(genera_to_coarse, f, ensure_ascii=False, indent=2)"
   ]
  },
  {
   "cell_type": "code",
   "execution_count": 4,
   "metadata": {},
   "outputs": [],
   "source": [
    "fine_to_coarse = {}\n",
    "for genera, species in zip(genera_to_species.keys(), genera_to_species.values()):\n",
    "    coarse = genera_to_coarse[genera]\n",
    "    for s in species:\n",
    "        fine = species_to_fine[s]\n",
    "        fine_to_coarse[fine] = coarse  \n",
    "with open(\"fine_to_coarse.json\", 'w', encoding='utf-8') as f: \n",
    "    json.dump(fine_to_coarse, f, ensure_ascii=False, indent=2)"
   ]
  },
  {
   "cell_type": "code",
   "execution_count": 5,
   "metadata": {},
   "outputs": [],
   "source": [
    "#mini plantnet의 학습데이터 수\n",
    "label_to_train_samples = {}\n",
    "name_to_train_samples = {}\n",
    "for name, label in zip(dataset.name_to_label.keys(), dataset.name_to_label.values()):\n",
    "    num_samples = len(listdir(join(PATH[\"PLANTNET-300K\"], \"images\", \"train\", label)))\n",
    "    label_to_train_samples[label] = num_samples\n",
    "    name_to_train_samples[name] = num_samples\n",
    "with open(\"name_to_train_samples.json\", 'w', encoding='utf-8') as file:\n",
    "    json.dump(name_to_train_samples, file, ensure_ascii=False, indent=2)"
   ]
  },
  {
   "cell_type": "code",
   "execution_count": null,
   "metadata": {},
   "outputs": [],
   "source": []
  }
 ],
 "metadata": {
  "kernelspec": {
   "display_name": "Python 3.7.11 ('base')",
   "language": "python",
   "name": "python3"
  },
  "language_info": {
   "codemirror_mode": {
    "name": "ipython",
    "version": 3
   },
   "file_extension": ".py",
   "mimetype": "text/x-python",
   "name": "python",
   "nbconvert_exporter": "python",
   "pygments_lexer": "ipython3",
   "version": "3.7.11"
  },
  "orig_nbformat": 4,
  "vscode": {
   "interpreter": {
    "hash": "d4d1e4263499bec80672ea0156c357c1ee493ec2b1c70f0acce89fc37c4a6abe"
   }
  }
 },
 "nbformat": 4,
 "nbformat_minor": 2
}

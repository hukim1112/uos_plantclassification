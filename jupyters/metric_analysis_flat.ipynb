{
 "cells": [
  {
   "cell_type": "code",
   "execution_count": 22,
   "metadata": {},
   "outputs": [],
   "source": [
    "import sys\n",
    "sys.path.append(\"/home/files/uos_plantclassification\")\n",
    "import pandas as pd\n",
    "import json\n",
    "from mod.read_metric import make_df\n",
    "\n",
    "\n",
    "flat = \"/home/files/experiments/efficientB4/exp_set1/logs/categorical_metrics_test.csv\"\n",
    "df_flat = pd.read_csv(flat)\n",
    "with open(\"/home/files/uos_plantclassification/data/plantnet/name_to_train_samples.json\", 'r') as file:\n",
    "    name_to_train_samples = json.load(file)\n",
    "train_samples = []  \n",
    "for name in df_flat.name:\n",
    "    train_samples.append(name_to_train_samples[name])\n",
    "df_flat['train_samples'] = train_samples\n",
    "\n",
    "hier = \"/home/files/experiments/plantnet/genera_species_hierarchical_classifier/finetune/logs/categorical_metrics_test.csv\"\n",
    "df_hier = pd.read_csv(hier)\n",
    "with open(\"/home/files/uos_plantclassification/data/plantnet/name_to_train_samples.json\", 'r') as file:\n",
    "    name_to_train_samples = json.load(file)\n",
    "train_samples = []  \n",
    "for name in df_hier.name:\n",
    "    train_samples.append(name_to_train_samples[name])\n",
    "df_hier['train_samples'] = train_samples"
   ]
  },
  {
   "cell_type": "code",
   "execution_count": null,
   "metadata": {},
   "outputs": [],
   "source": []
  },
  {
   "cell_type": "code",
   "execution_count": 25,
   "metadata": {},
   "outputs": [
    {
     "name": "stdout",
     "output_type": "stream",
     "text": [
      "~100 789 0.20224365970849176\n",
      "100~200 100 0.52057584688\n",
      "200~500 84 0.6237487483333334\n",
      "500~1000 43 0.6751628574651163\n",
      "1000~2000 35 0.8157397828571429\n",
      "2000~5000 24 0.8863140824999999\n",
      "5000~10000 6 0.9383818599999999\n"
     ]
    }
   ],
   "source": [
    "print(\"~100\", len(df_flat[df_flat.train_samples<=100]), df_flat[df_flat.train_samples<=100].recall.mean())\n",
    "print(\"100~200\", len(df_flat[(df_flat.train_samples>100)*(df_flat.train_samples<=200)]), df_flat[(df_flat.train_samples>100)*(df_flat.train_samples<=200)].recall.mean())\n",
    "print(\"200~500\", len(df_flat[(df_flat.train_samples>200)*(df_flat.train_samples<=500)]), df_flat[(df_flat.train_samples>200)*(df_flat.train_samples<=500)].recall.mean())\n",
    "print(\"500~1000\", len(df_flat[(df_flat.train_samples>500)*(df_flat.train_samples<=1000)]), df_flat[(df_flat.train_samples>500)*(df_flat.train_samples<=1000)].recall.mean())\n",
    "print(\"1000~2000\", len(df_flat[(df_flat.train_samples>1000)*(df_flat.train_samples<=2000)]), df_flat[(df_flat.train_samples>1000)*(df_flat.train_samples<=2000)].recall.mean())\n",
    "print(\"2000~5000\", len(df_flat[(df_flat.train_samples>2000)*(df_flat.train_samples<=5000)]), df_flat[(df_flat.train_samples>2000)*(df_flat.train_samples<=5000)].recall.mean())\n",
    "print(\"5000~10000\", len(df_flat[(df_flat.train_samples>5000)*(df_flat.train_samples<=10000)]), df_flat[(df_flat.train_samples>5000)*(df_flat.train_samples<=10000)].recall.mean())"
   ]
  },
  {
   "cell_type": "code",
   "execution_count": 26,
   "metadata": {},
   "outputs": [
    {
     "name": "stdout",
     "output_type": "stream",
     "text": [
      "~100 789 0.23808847975918887\n",
      "100~200 100 0.6110855051\n",
      "200~500 84 0.6770564726904763\n",
      "500~1000 43 0.7300111244186046\n",
      "1000~2000 35 0.8417837711428572\n",
      "2000~5000 24 0.9030097633333334\n",
      "5000~10000 6 0.9375730833333332\n"
     ]
    }
   ],
   "source": [
    "print(\"~100\", len(df_hier[df_hier.train_samples<=100]), df_hier[df_hier.train_samples<=100].recall.mean())\n",
    "print(\"100~200\", len(df_hier[(df_hier.train_samples>100)*(df_hier.train_samples<=200)]), df_hier[(df_hier.train_samples>100)*(df_hier.train_samples<=200)].recall.mean())\n",
    "print(\"200~500\", len(df_hier[(df_hier.train_samples>200)*(df_hier.train_samples<=500)]), df_hier[(df_hier.train_samples>200)*(df_hier.train_samples<=500)].recall.mean())\n",
    "print(\"500~1000\", len(df_hier[(df_hier.train_samples>500)*(df_hier.train_samples<=1000)]), df_hier[(df_hier.train_samples>500)*(df_hier.train_samples<=1000)].recall.mean())\n",
    "print(\"1000~2000\", len(df_hier[(df_hier.train_samples>1000)*(df_hier.train_samples<=2000)]), df_hier[(df_hier.train_samples>1000)*(df_hier.train_samples<=2000)].recall.mean())\n",
    "print(\"2000~5000\", len(df_hier[(df_hier.train_samples>2000)*(df_hier.train_samples<=5000)]), df_hier[(df_hier.train_samples>2000)*(df_hier.train_samples<=5000)].recall.mean())\n",
    "print(\"5000~10000\", len(df_hier[(df_hier.train_samples>5000)*(df_hier.train_samples<=10000)]), df_hier[(df_hier.train_samples>5000)*(df_hier.train_samples<=10000)].recall.mean())"
   ]
  },
  {
   "cell_type": "code",
   "execution_count": 2,
   "metadata": {},
   "outputs": [
    {
     "name": "stderr",
     "output_type": "stream",
     "text": [
      "/home/files/uos_plantclassification/jupyters/mod/read_metric.py:51: SettingWithCopyWarning: \n",
      "A value is trying to be set on a copy of a slice from a DataFrame.\n",
      "Try using .loc[row_indexer,col_indexer] = value instead\n",
      "\n",
      "See the caveats in the documentation: https://pandas.pydata.org/pandas-docs/stable/user_guide/indexing.html#returning-a-view-versus-a-copy\n",
      "  df3['recall_gap'] = df2['recall'] - df1['recall']\n"
     ]
    }
   ],
   "source": [
    "df = make_df(baseline_efficientB4, dhc_finetune_efficientB4, \"/home/files/uos_plantclassification/data/mini_plantnet/genera_to_species.json\",\n",
    "             \"/home/files/uos_plantclassification/data/mini_plantnet/species_to_num_train_samples.json\")"
   ]
  },
  {
   "cell_type": "code",
   "execution_count": 24,
   "metadata": {},
   "outputs": [],
   "source": [
    "import numpy as np\n",
    "import matplotlib.pyplot as plt\n",
    "\n",
    "def plot_scatter(df):\n",
    "    x = df['proportion']\n",
    "    y = df['recall_gap']\n",
    "\n",
    "    plt.title(\"recall gain(%) per proportion\")\n",
    "    plt.ylabel(\"recall gain each species\")\n",
    "    plt.xlabel(\"each species's proportion in the genera\")\n",
    "    plt.plot(x,y,'o')\n",
    "    m, b = np.polyfit(x, y, 1)\n",
    "    plt.plot(x, m*x+b)\n",
    "    plt.ylim(-1.0, +1.0)\n",
    "    plt.show()"
   ]
  },
  {
   "cell_type": "code",
   "execution_count": 25,
   "metadata": {},
   "outputs": [
    {
     "data": {
      "image/png": "[encoded data removed]",
      "text/plain": [
       "<Figure size 432x288 with 1 Axes>"
      ]
     },
     "metadata": {
      "needs_background": "light"
     },
     "output_type": "display_data"
    }
   ],
   "source": [
    "plot_scatter(df)"
   ]
  },
  {
   "cell_type": "code",
   "execution_count": 26,
   "metadata": {},
   "outputs": [
    {
     "data": {
      "text/html": [
       "<div>\n",
       "<style scoped>\n",
       "    .dataframe tbody tr th:only-of-type {\n",
       "        vertical-align: middle;\n",
       "    }\n",
       "\n",
       "    .dataframe tbody tr th {\n",
       "        vertical-align: top;\n",
       "    }\n",
       "\n",
       "    .dataframe thead th {\n",
       "        text-align: right;\n",
       "    }\n",
       "</style>\n",
       "<table border=\"1\" class=\"dataframe\">\n",
       "  <thead>\n",
       "    <tr style=\"text-align: right;\">\n",
       "      <th></th>\n",
       "      <th>train_samples</th>\n",
       "      <th>test_samples</th>\n",
       "      <th>family_size</th>\n",
       "      <th>proportion</th>\n",
       "      <th>cluster_id</th>\n",
       "      <th>recall</th>\n",
       "      <th>recall_gap</th>\n",
       "    </tr>\n",
       "  </thead>\n",
       "  <tbody>\n",
       "    <tr>\n",
       "      <th>count</th>\n",
       "      <td>467.000000</td>\n",
       "      <td>467.000000</td>\n",
       "      <td>467.000000</td>\n",
       "      <td>467.000000</td>\n",
       "      <td>467.000000</td>\n",
       "      <td>467.000000</td>\n",
       "      <td>467.000000</td>\n",
       "    </tr>\n",
       "    <tr>\n",
       "      <th>mean</th>\n",
       "      <td>509.391863</td>\n",
       "      <td>64.282655</td>\n",
       "      <td>8.850107</td>\n",
       "      <td>0.344754</td>\n",
       "      <td>54.539615</td>\n",
       "      <td>0.601190</td>\n",
       "      <td>0.019184</td>\n",
       "    </tr>\n",
       "    <tr>\n",
       "      <th>std</th>\n",
       "      <td>960.095260</td>\n",
       "      <td>119.987005</td>\n",
       "      <td>9.266848</td>\n",
       "      <td>0.382205</td>\n",
       "      <td>44.815071</td>\n",
       "      <td>0.307989</td>\n",
       "      <td>0.115290</td>\n",
       "    </tr>\n",
       "    <tr>\n",
       "      <th>min</th>\n",
       "      <td>32.000000</td>\n",
       "      <td>4.000000</td>\n",
       "      <td>1.000000</td>\n",
       "      <td>0.002420</td>\n",
       "      <td>1.000000</td>\n",
       "      <td>0.000000</td>\n",
       "      <td>-0.555556</td>\n",
       "    </tr>\n",
       "    <tr>\n",
       "      <th>25%</th>\n",
       "      <td>68.000000</td>\n",
       "      <td>9.000000</td>\n",
       "      <td>2.000000</td>\n",
       "      <td>0.027067</td>\n",
       "      <td>13.000000</td>\n",
       "      <td>0.375000</td>\n",
       "      <td>-0.011997</td>\n",
       "    </tr>\n",
       "    <tr>\n",
       "      <th>50%</th>\n",
       "      <td>139.000000</td>\n",
       "      <td>18.000000</td>\n",
       "      <td>4.000000</td>\n",
       "      <td>0.146245</td>\n",
       "      <td>45.000000</td>\n",
       "      <td>0.677419</td>\n",
       "      <td>0.000000</td>\n",
       "    </tr>\n",
       "    <tr>\n",
       "      <th>75%</th>\n",
       "      <td>429.000000</td>\n",
       "      <td>54.500000</td>\n",
       "      <td>13.000000</td>\n",
       "      <td>0.668004</td>\n",
       "      <td>84.000000</td>\n",
       "      <td>0.864061</td>\n",
       "      <td>0.066667</td>\n",
       "    </tr>\n",
       "    <tr>\n",
       "      <th>max</th>\n",
       "      <td>7208.000000</td>\n",
       "      <td>902.000000</td>\n",
       "      <td>34.000000</td>\n",
       "      <td>1.000000</td>\n",
       "      <td>161.000000</td>\n",
       "      <td>1.000000</td>\n",
       "      <td>0.500000</td>\n",
       "    </tr>\n",
       "  </tbody>\n",
       "</table>\n",
       "</div>"
      ],
      "text/plain": [
       "       train_samples  test_samples  family_size  proportion  cluster_id  \\\n",
       "count     467.000000    467.000000   467.000000  467.000000  467.000000   \n",
       "mean      509.391863     64.282655     8.850107    0.344754   54.539615   \n",
       "std       960.095260    119.987005     9.266848    0.382205   44.815071   \n",
       "min        32.000000      4.000000     1.000000    0.002420    1.000000   \n",
       "25%        68.000000      9.000000     2.000000    0.027067   13.000000   \n",
       "50%       139.000000     18.000000     4.000000    0.146245   45.000000   \n",
       "75%       429.000000     54.500000    13.000000    0.668004   84.000000   \n",
       "max      7208.000000    902.000000    34.000000    1.000000  161.000000   \n",
       "\n",
       "           recall  recall_gap  \n",
       "count  467.000000  467.000000  \n",
       "mean     0.601190    0.019184  \n",
       "std      0.307989    0.115290  \n",
       "min      0.000000   -0.555556  \n",
       "25%      0.375000   -0.011997  \n",
       "50%      0.677419    0.000000  \n",
       "75%      0.864061    0.066667  \n",
       "max      1.000000    0.500000  "
      ]
     },
     "execution_count": 26,
     "metadata": {},
     "output_type": "execute_result"
    }
   ],
   "source": [
    "df.describe()"
   ]
  },
  {
   "cell_type": "code",
   "execution_count": 37,
   "metadata": {},
   "outputs": [
    {
     "data": {
      "text/html": [
       "<div>\n",
       "<style scoped>\n",
       "    .dataframe tbody tr th:only-of-type {\n",
       "        vertical-align: middle;\n",
       "    }\n",
       "\n",
       "    .dataframe tbody tr th {\n",
       "        vertical-align: top;\n",
       "    }\n",
       "\n",
       "    .dataframe thead th {\n",
       "        text-align: right;\n",
       "    }\n",
       "</style>\n",
       "<table border=\"1\" class=\"dataframe\">\n",
       "  <thead>\n",
       "    <tr style=\"text-align: right;\">\n",
       "      <th></th>\n",
       "      <th>name</th>\n",
       "      <th>train_samples</th>\n",
       "      <th>test_samples</th>\n",
       "      <th>family_size</th>\n",
       "      <th>proportion</th>\n",
       "      <th>cluster_id</th>\n",
       "      <th>recall</th>\n",
       "      <th>recall_gap</th>\n",
       "    </tr>\n",
       "  </thead>\n",
       "  <tbody>\n",
       "    <tr>\n",
       "      <th>55</th>\n",
       "      <td>Lamium purpureum L.</td>\n",
       "      <td>4502</td>\n",
       "      <td>563</td>\n",
       "      <td>9</td>\n",
       "      <td>0.364416</td>\n",
       "      <td>8</td>\n",
       "      <td>0.918295</td>\n",
       "      <td>-0.012433</td>\n",
       "    </tr>\n",
       "    <tr>\n",
       "      <th>103</th>\n",
       "      <td>Lamium galeobdolon (L.) L.</td>\n",
       "      <td>2738</td>\n",
       "      <td>343</td>\n",
       "      <td>9</td>\n",
       "      <td>0.221629</td>\n",
       "      <td>8</td>\n",
       "      <td>0.962099</td>\n",
       "      <td>0.008746</td>\n",
       "    </tr>\n",
       "    <tr>\n",
       "      <th>236</th>\n",
       "      <td>Lamium maculatum (L.) L.</td>\n",
       "      <td>1685</td>\n",
       "      <td>211</td>\n",
       "      <td>9</td>\n",
       "      <td>0.136393</td>\n",
       "      <td>8</td>\n",
       "      <td>0.748815</td>\n",
       "      <td>0.033175</td>\n",
       "    </tr>\n",
       "    <tr>\n",
       "      <th>235</th>\n",
       "      <td>Lamium album L.</td>\n",
       "      <td>1671</td>\n",
       "      <td>208</td>\n",
       "      <td>9</td>\n",
       "      <td>0.135260</td>\n",
       "      <td>8</td>\n",
       "      <td>0.956731</td>\n",
       "      <td>-0.043269</td>\n",
       "    </tr>\n",
       "    <tr>\n",
       "      <th>11</th>\n",
       "      <td>Lamium amplexicaule L.</td>\n",
       "      <td>823</td>\n",
       "      <td>104</td>\n",
       "      <td>9</td>\n",
       "      <td>0.066618</td>\n",
       "      <td>8</td>\n",
       "      <td>0.663462</td>\n",
       "      <td>0.038462</td>\n",
       "    </tr>\n",
       "    <tr>\n",
       "      <th>54</th>\n",
       "      <td>Lamium hybridum Vill.</td>\n",
       "      <td>661</td>\n",
       "      <td>83</td>\n",
       "      <td>9</td>\n",
       "      <td>0.053505</td>\n",
       "      <td>8</td>\n",
       "      <td>0.024096</td>\n",
       "      <td>0.084337</td>\n",
       "    </tr>\n",
       "    <tr>\n",
       "      <th>392</th>\n",
       "      <td>Lamium maculatum L.</td>\n",
       "      <td>126</td>\n",
       "      <td>16</td>\n",
       "      <td>9</td>\n",
       "      <td>0.010199</td>\n",
       "      <td>8</td>\n",
       "      <td>0.250000</td>\n",
       "      <td>-0.062500</td>\n",
       "    </tr>\n",
       "    <tr>\n",
       "      <th>335</th>\n",
       "      <td>Lamium orvala L.</td>\n",
       "      <td>83</td>\n",
       "      <td>11</td>\n",
       "      <td>9</td>\n",
       "      <td>0.006718</td>\n",
       "      <td>8</td>\n",
       "      <td>0.818182</td>\n",
       "      <td>0.090909</td>\n",
       "    </tr>\n",
       "    <tr>\n",
       "      <th>53</th>\n",
       "      <td>Lamium flexuosum Ten.</td>\n",
       "      <td>65</td>\n",
       "      <td>9</td>\n",
       "      <td>9</td>\n",
       "      <td>0.005261</td>\n",
       "      <td>8</td>\n",
       "      <td>0.000000</td>\n",
       "      <td>0.000000</td>\n",
       "    </tr>\n",
       "  </tbody>\n",
       "</table>\n",
       "</div>"
      ],
      "text/plain": [
       "                           name  train_samples  test_samples  family_size  \\\n",
       "55          Lamium purpureum L.           4502           563            9   \n",
       "103  Lamium galeobdolon (L.) L.           2738           343            9   \n",
       "236    Lamium maculatum (L.) L.           1685           211            9   \n",
       "235             Lamium album L.           1671           208            9   \n",
       "11       Lamium amplexicaule L.            823           104            9   \n",
       "54        Lamium hybridum Vill.            661            83            9   \n",
       "392         Lamium maculatum L.            126            16            9   \n",
       "335            Lamium orvala L.             83            11            9   \n",
       "53        Lamium flexuosum Ten.             65             9            9   \n",
       "\n",
       "     proportion  cluster_id    recall  recall_gap  \n",
       "55     0.364416           8  0.918295   -0.012433  \n",
       "103    0.221629           8  0.962099    0.008746  \n",
       "236    0.136393           8  0.748815    0.033175  \n",
       "235    0.135260           8  0.956731   -0.043269  \n",
       "11     0.066618           8  0.663462    0.038462  \n",
       "54     0.053505           8  0.024096    0.084337  \n",
       "392    0.010199           8  0.250000   -0.062500  \n",
       "335    0.006718           8  0.818182    0.090909  \n",
       "53     0.005261           8  0.000000    0.000000  "
      ]
     },
     "execution_count": 37,
     "metadata": {},
     "output_type": "execute_result"
    }
   ],
   "source": [
    "df[df['cluster_id']==8].sort_values(\"train_samples\", ascending=False)"
   ]
  },
  {
   "cell_type": "code",
   "execution_count": 5,
   "metadata": {},
   "outputs": [
    {
     "data": {
      "text/html": [
       "<div>\n",
       "<style scoped>\n",
       "    .dataframe tbody tr th:only-of-type {\n",
       "        vertical-align: middle;\n",
       "    }\n",
       "\n",
       "    .dataframe tbody tr th {\n",
       "        vertical-align: top;\n",
       "    }\n",
       "\n",
       "    .dataframe thead th {\n",
       "        text-align: right;\n",
       "    }\n",
       "</style>\n",
       "<table border=\"1\" class=\"dataframe\">\n",
       "  <thead>\n",
       "    <tr style=\"text-align: right;\">\n",
       "      <th></th>\n",
       "      <th>train_samples</th>\n",
       "      <th>test_samples</th>\n",
       "      <th>family_size</th>\n",
       "      <th>proportion</th>\n",
       "      <th>cluster_id</th>\n",
       "      <th>recall</th>\n",
       "      <th>recall_gap</th>\n",
       "    </tr>\n",
       "  </thead>\n",
       "  <tbody>\n",
       "    <tr>\n",
       "      <th>count</th>\n",
       "      <td>92.000000</td>\n",
       "      <td>92.000000</td>\n",
       "      <td>92.000000</td>\n",
       "      <td>92.000000</td>\n",
       "      <td>92.000000</td>\n",
       "      <td>92.000000</td>\n",
       "      <td>92.000000</td>\n",
       "    </tr>\n",
       "    <tr>\n",
       "      <th>mean</th>\n",
       "      <td>682.173913</td>\n",
       "      <td>85.880435</td>\n",
       "      <td>1.108696</td>\n",
       "      <td>0.996753</td>\n",
       "      <td>95.565217</td>\n",
       "      <td>0.733073</td>\n",
       "      <td>0.024209</td>\n",
       "    </tr>\n",
       "    <tr>\n",
       "      <th>std</th>\n",
       "      <td>1345.182741</td>\n",
       "      <td>168.140433</td>\n",
       "      <td>0.404820</td>\n",
       "      <td>0.012267</td>\n",
       "      <td>43.762171</td>\n",
       "      <td>0.248278</td>\n",
       "      <td>0.110189</td>\n",
       "    </tr>\n",
       "    <tr>\n",
       "      <th>min</th>\n",
       "      <td>32.000000</td>\n",
       "      <td>4.000000</td>\n",
       "      <td>1.000000</td>\n",
       "      <td>0.924165</td>\n",
       "      <td>15.000000</td>\n",
       "      <td>0.000000</td>\n",
       "      <td>-0.400000</td>\n",
       "    </tr>\n",
       "    <tr>\n",
       "      <th>25%</th>\n",
       "      <td>53.750000</td>\n",
       "      <td>7.750000</td>\n",
       "      <td>1.000000</td>\n",
       "      <td>1.000000</td>\n",
       "      <td>64.000000</td>\n",
       "      <td>0.600000</td>\n",
       "      <td>0.000000</td>\n",
       "    </tr>\n",
       "    <tr>\n",
       "      <th>50%</th>\n",
       "      <td>127.000000</td>\n",
       "      <td>16.500000</td>\n",
       "      <td>1.000000</td>\n",
       "      <td>1.000000</td>\n",
       "      <td>100.500000</td>\n",
       "      <td>0.803846</td>\n",
       "      <td>0.000000</td>\n",
       "    </tr>\n",
       "    <tr>\n",
       "      <th>75%</th>\n",
       "      <td>412.500000</td>\n",
       "      <td>52.250000</td>\n",
       "      <td>1.000000</td>\n",
       "      <td>1.000000</td>\n",
       "      <td>132.500000</td>\n",
       "      <td>0.922932</td>\n",
       "      <td>0.045455</td>\n",
       "    </tr>\n",
       "    <tr>\n",
       "      <th>max</th>\n",
       "      <td>7208.000000</td>\n",
       "      <td>902.000000</td>\n",
       "      <td>3.000000</td>\n",
       "      <td>1.000000</td>\n",
       "      <td>161.000000</td>\n",
       "      <td>1.000000</td>\n",
       "      <td>0.400000</td>\n",
       "    </tr>\n",
       "  </tbody>\n",
       "</table>\n",
       "</div>"
      ],
      "text/plain": [
       "       train_samples  test_samples  family_size  proportion  cluster_id  \\\n",
       "count      92.000000     92.000000    92.000000   92.000000   92.000000   \n",
       "mean      682.173913     85.880435     1.108696    0.996753   95.565217   \n",
       "std      1345.182741    168.140433     0.404820    0.012267   43.762171   \n",
       "min        32.000000      4.000000     1.000000    0.924165   15.000000   \n",
       "25%        53.750000      7.750000     1.000000    1.000000   64.000000   \n",
       "50%       127.000000     16.500000     1.000000    1.000000  100.500000   \n",
       "75%       412.500000     52.250000     1.000000    1.000000  132.500000   \n",
       "max      7208.000000    902.000000     3.000000    1.000000  161.000000   \n",
       "\n",
       "          recall  recall_gap  \n",
       "count  92.000000   92.000000  \n",
       "mean    0.733073    0.024209  \n",
       "std     0.248278    0.110189  \n",
       "min     0.000000   -0.400000  \n",
       "25%     0.600000    0.000000  \n",
       "50%     0.803846    0.000000  \n",
       "75%     0.922932    0.045455  \n",
       "max     1.000000    0.400000  "
      ]
     },
     "execution_count": 5,
     "metadata": {},
     "output_type": "execute_result"
    }
   ],
   "source": [
    "df[df.proportion>0.9].describe()"
   ]
  },
  {
   "cell_type": "code",
   "execution_count": null,
   "metadata": {},
   "outputs": [],
   "source": [
    "df1 = df[(df.proportion>0.9)*(df.train_samples<53)]\n",
    "plot_scatter(df1)"
   ]
  },
  {
   "cell_type": "code",
   "execution_count": null,
   "metadata": {},
   "outputs": [],
   "source": [
    "df2 = df[(df.proportion>0.9)*(df.train_samples>412)]\n",
    "plot_scatter(df2)"
   ]
  },
  {
   "cell_type": "code",
   "execution_count": null,
   "metadata": {},
   "outputs": [],
   "source": [
    "df1.describe()"
   ]
  },
  {
   "cell_type": "code",
   "execution_count": null,
   "metadata": {},
   "outputs": [],
   "source": [
    "df2.describe()"
   ]
  },
  {
   "cell_type": "code",
   "execution_count": null,
   "metadata": {},
   "outputs": [],
   "source": []
  },
  {
   "cell_type": "code",
   "execution_count": null,
   "metadata": {},
   "outputs": [],
   "source": []
  },
  {
   "cell_type": "code",
   "execution_count": null,
   "metadata": {},
   "outputs": [],
   "source": [
    "import json\n",
    "from os.path import join\n",
    "from os import listdir\n",
    "import albumentations as A\n",
    "from albumentations.pytorch import ToTensorV2\n",
    "from config.path import PATH\n",
    "from data import get_mini_plantnet, MiniPlantNet\n",
    "transforms = {\n",
    "    'train': A.Compose([\n",
    "        A.Resize(height=380, width=380),\n",
    "        A.HorizontalFlip(p=0.5),\n",
    "        A.Normalize(mean=0.0, std=1.0),\n",
    "        ToTensorV2()]),\n",
    "    'val': A.Compose([\n",
    "        A.Resize(height=380, width=380),\n",
    "        A.Normalize(mean=0.0, std=1.0),\n",
    "        ToTensorV2()]),\n",
    "    'test': A.Compose([\n",
    "        A.Resize(height=380, width=380),\n",
    "        A.Normalize(mean=0.0, std=1.0),\n",
    "        ToTensorV2()])\n",
    "}\n",
    "\n",
    "dataset = MiniPlantNet(root=PATH[\"PLANTNET-300K\"], split=\"train\", shuffle=False, transform=transforms[\"test\"])\n",
    "\n",
    "#mini plantnet의 학습데이터 수\n",
    "label_to_train_samples = {}\n",
    "name_to_train_samples = {}\n",
    "for name, label in zip(dataset.name_to_label.keys(), dataset.name_to_label.values()):\n",
    "    num_samples = len(listdir(join(PATH[\"PLANTNET-300K\"], \"images\", \"train\", label)))\n",
    "    label_to_train_samples[label] = num_samples\n",
    "    name_to_train_samples[name] = num_samples\n",
    "train_samples = []\n",
    "for name in df1.name:\n",
    "    train_samples.append(name_to_train_samples[name])\n",
    "df1['train_samples'] = train_samples\n",
    "df2['train_samples'] = train_samples\n",
    "\n",
    "# 클러스터 정보\n",
    "with open(f\"{exp_path}/cluster_radius_{radius}/name_clusters.json\") as file:\n",
    "    data = json.load(file)\n",
    "        \n",
    "list_of_cluster = list(data.values())\n",
    "name_to_num_members = {}\n",
    "name_to_scr = {}\n",
    "name_to_cluster_id = {}\n",
    "\n",
    "_id = 0\n",
    "for cluster in list_of_cluster:\n",
    "    _id+=1\n",
    "    num_members = len(cluster)\n",
    "    samples_of_cluster = 0\n",
    "    for member in cluster:\n",
    "        name_to_num_members[member] = num_members\n",
    "        name_to_cluster_id[member] = _id\n",
    "        samples_of_cluster += df1[df1.name == member].train_samples.values[0]\n",
    "    for member in cluster:\n",
    "        name_to_scr[member] = samples_of_cluster/df1[df1.name == member].train_samples.values[0]\n",
    "scr = []\n",
    "num_family_member = []\n",
    "cluster_id = []\n",
    "for name in df1.name:\n",
    "    scr.append(name_to_scr[name])\n",
    "    num_family_member.append(name_to_num_members[name])\n",
    "    cluster_id.append(name_to_cluster_id[name])\n",
    "    \n",
    "df1['scr'] = scr\n",
    "df2['scr'] = scr\n",
    "df1['num_family_member'] = num_family_member\n",
    "df2['num_family_member'] = num_family_member\n",
    "df1['cluster_id'] = cluster_id\n",
    "df2['cluster_id'] = cluster_id"
   ]
  },
  {
   "cell_type": "code",
   "execution_count": null,
   "metadata": {},
   "outputs": [],
   "source": [
    "df3 = df2[['name', 'train_samples', 'num_family_member', 'scr', 'cluster_id']]\n",
    "df3['recall_gap'] = df2['recall'] - df1['recall']"
   ]
  },
  {
   "cell_type": "code",
   "execution_count": null,
   "metadata": {},
   "outputs": [],
   "source": [
    "df = df3.sort_values(\"recall_gap\", ascending=False)"
   ]
  },
  {
   "cell_type": "code",
   "execution_count": null,
   "metadata": {},
   "outputs": [],
   "source": [
    "df"
   ]
  },
  {
   "cell_type": "code",
   "execution_count": null,
   "metadata": {},
   "outputs": [],
   "source": [
    "df[df.cluster_id==69]"
   ]
  },
  {
   "cell_type": "code",
   "execution_count": null,
   "metadata": {},
   "outputs": [],
   "source": [
    "df[df.cluster_id==154]"
   ]
  },
  {
   "cell_type": "code",
   "execution_count": null,
   "metadata": {},
   "outputs": [],
   "source": [
    "df[df.cluster_id==40]"
   ]
  },
  {
   "cell_type": "code",
   "execution_count": null,
   "metadata": {},
   "outputs": [],
   "source": []
  },
  {
   "cell_type": "code",
   "execution_count": null,
   "metadata": {},
   "outputs": [],
   "source": [
    "df[df.cluster_id==171]"
   ]
  },
  {
   "cell_type": "code",
   "execution_count": null,
   "metadata": {},
   "outputs": [],
   "source": [
    "df[df.cluster_id==263]"
   ]
  },
  {
   "cell_type": "code",
   "execution_count": null,
   "metadata": {},
   "outputs": [],
   "source": [
    "import numpy as np\n",
    "import matplotlib.pyplot as plt\n",
    "\n",
    "x = df3['scr']\n",
    "y = df3['recall_gap']\n",
    "\n",
    "plt.title(\"acc-gain(%) per scr\")\n",
    "plt.plot(x,y*100,'o')\n",
    "m, b = np.polyfit(x, y*100, 1)\n",
    "plt.plot(x, m*x+b)"
   ]
  },
  {
   "cell_type": "code",
   "execution_count": null,
   "metadata": {},
   "outputs": [],
   "source": [
    "df3[df3['num_family_member']==1].recall_gap"
   ]
  },
  {
   "cell_type": "code",
   "execution_count": null,
   "metadata": {},
   "outputs": [],
   "source": [
    "print(df1[(df1['train_samples']>=32)*(df1['train_samples']<100)*(df1['num_family_member']==1)].recall.mean())\n",
    "print(df1[(df1['train_samples']>=32)*(df1['train_samples']<100)*(df1['num_family_member']==2)].recall.mean())\n",
    "print(df1[(df1['train_samples']>=32)*(df1['train_samples']<100)*(df1['num_family_member']==3)].recall.mean())\n",
    "print(df1[(df1['train_samples']>=32)*(df1['train_samples']<100)*(df1['num_family_member']==4)].recall.mean())\n",
    "print(df1[(df1['train_samples']>=32)*(df1['train_samples']<100)*(df1['num_family_member']>4)].recall.mean())"
   ]
  },
  {
   "cell_type": "code",
   "execution_count": null,
   "metadata": {},
   "outputs": [],
   "source": [
    "df1[(df1['train_samples']>=32)*(df1['train_samples']<100)*(df1['num_family_member']==3)]"
   ]
  },
  {
   "cell_type": "code",
   "execution_count": null,
   "metadata": {},
   "outputs": [],
   "source": [
    "print(df1[(df1['train_samples']>=32)*(df1['train_samples']<500)*(df1['num_family_member']==1)].recall.mean())\n",
    "print(df1[(df1['train_samples']>=32)*(df1['train_samples']<500)*(df1['num_family_member']==2)].recall.mean())\n",
    "print(df1[(df1['train_samples']>=32)*(df1['train_samples']<500)*(df1['num_family_member']==3)].recall.mean())\n",
    "print(df1[(df1['train_samples']>=32)*(df1['train_samples']<500)*(df1['num_family_member']==4)].recall.mean())\n",
    "print(df1[(df1['train_samples']>=32)*(df1['train_samples']<500)*(df1['num_family_member']>4)].recall.mean())"
   ]
  },
  {
   "cell_type": "code",
   "execution_count": null,
   "metadata": {},
   "outputs": [],
   "source": [
    "df1[(df1['train_samples']>=32)*(df1['train_samples']<100)*(df1['num_family_member']==1)]"
   ]
  },
  {
   "cell_type": "code",
   "execution_count": null,
   "metadata": {},
   "outputs": [],
   "source": []
  },
  {
   "cell_type": "code",
   "execution_count": null,
   "metadata": {},
   "outputs": [],
   "source": [
    "df3[(df3['train_samples']>=32)*(df3['train_samples']<100)*(df3['num_family_member']==1)].recall_gap.mean()"
   ]
  },
  {
   "cell_type": "code",
   "execution_count": null,
   "metadata": {},
   "outputs": [],
   "source": []
  },
  {
   "cell_type": "code",
   "execution_count": null,
   "metadata": {},
   "outputs": [],
   "source": []
  },
  {
   "cell_type": "code",
   "execution_count": null,
   "metadata": {},
   "outputs": [],
   "source": [
    "df3[(df3['train_samples']>=100)*(df3['train_samples']<200)].recall_gap.mean()"
   ]
  },
  {
   "cell_type": "code",
   "execution_count": null,
   "metadata": {},
   "outputs": [],
   "source": [
    "df3[(df3['train_samples']>=200)*(df3['train_samples']<500)].recall_gap.mean()"
   ]
  },
  {
   "cell_type": "code",
   "execution_count": null,
   "metadata": {},
   "outputs": [],
   "source": [
    "df3[(df3['train_samples']>=500)*(df3['train_samples']<1000)].recall_gap.mean()"
   ]
  },
  {
   "cell_type": "code",
   "execution_count": null,
   "metadata": {},
   "outputs": [],
   "source": [
    "df3[(df3['train_samples']>=1000)*(df3['train_samples']<2000)].recall_gap.mean()"
   ]
  },
  {
   "cell_type": "code",
   "execution_count": null,
   "metadata": {},
   "outputs": [],
   "source": [
    "df3[(df3['train_samples']>=2000)*(df3['train_samples']<5000)].recall_gap.mean()"
   ]
  },
  {
   "cell_type": "code",
   "execution_count": null,
   "metadata": {},
   "outputs": [],
   "source": [
    "df3[(df3['train_samples']>=5000)*(df3['train_samples']<100000)].recall_gap.mean()"
   ]
  },
  {
   "cell_type": "code",
   "execution_count": null,
   "metadata": {},
   "outputs": [],
   "source": []
  },
  {
   "cell_type": "code",
   "execution_count": null,
   "metadata": {},
   "outputs": [],
   "source": [
    "df3[(df3['train_samples']>=32)*(df3['train_samples']<100)*(df3['num_family_member']==1)].recall_gap.mean()"
   ]
  },
  {
   "cell_type": "code",
   "execution_count": null,
   "metadata": {},
   "outputs": [],
   "source": [
    "df3[(df3['train_samples']>=32)*(df3['train_samples']<100)*(df3['num_family_member']==2)].recall_gap.mean()"
   ]
  },
  {
   "cell_type": "code",
   "execution_count": null,
   "metadata": {},
   "outputs": [],
   "source": [
    "df3[(df3['train_samples']>=32)*(df3['train_samples']<100)*(df3['num_family_member']==3)].recall_gap.mean()"
   ]
  },
  {
   "cell_type": "code",
   "execution_count": null,
   "metadata": {},
   "outputs": [],
   "source": [
    "df3[(df3['train_samples']>=32)*(df3['train_samples']<100)*(df3['num_family_member']==4)].recall_gap.mean()"
   ]
  },
  {
   "cell_type": "code",
   "execution_count": null,
   "metadata": {},
   "outputs": [],
   "source": [
    "df3[(df3['train_samples']>=32)*(df3['train_samples']<100)*(df3['num_family_member']>5)].recall_gap.mean()"
   ]
  },
  {
   "cell_type": "code",
   "execution_count": null,
   "metadata": {},
   "outputs": [],
   "source": []
  },
  {
   "cell_type": "code",
   "execution_count": null,
   "metadata": {},
   "outputs": [],
   "source": [
    "df3[(df3['train_samples']>=100)*(df3['train_samples']<200)*(df3['num_family_member']==1)].recall_gap.mean()"
   ]
  },
  {
   "cell_type": "code",
   "execution_count": null,
   "metadata": {},
   "outputs": [],
   "source": [
    "df3[(df3['train_samples']>=100)*(df3['train_samples']<200)*(df3['num_family_member']==2)].recall_gap.mean()"
   ]
  },
  {
   "cell_type": "code",
   "execution_count": null,
   "metadata": {},
   "outputs": [],
   "source": [
    "df3[(df3['train_samples']>=100)*(df3['train_samples']<200)*(df3['num_family_member']==3)].recall_gap.mean()"
   ]
  },
  {
   "cell_type": "code",
   "execution_count": null,
   "metadata": {},
   "outputs": [],
   "source": [
    "df3[(df3['train_samples']>=100)*(df3['train_samples']<200)*(df3['num_family_member']==4)].recall_gap.mean()"
   ]
  },
  {
   "cell_type": "code",
   "execution_count": null,
   "metadata": {},
   "outputs": [],
   "source": [
    "df3[(df3['train_samples']>=100)*(df3['train_samples']<200)*(df3['num_family_member']>5)].recall_gap.mean()"
   ]
  },
  {
   "cell_type": "code",
   "execution_count": null,
   "metadata": {},
   "outputs": [],
   "source": []
  },
  {
   "cell_type": "code",
   "execution_count": null,
   "metadata": {},
   "outputs": [],
   "source": []
  },
  {
   "cell_type": "code",
   "execution_count": null,
   "metadata": {},
   "outputs": [],
   "source": [
    "for i in df2.num_family_member.unique():\n",
    "    print(i)\n",
    "    print(df2[(df2['train_samples']>0)*(df2['num_family_member']==i)]['recall'].mean() - df1[(df1['train_samples']<300)*(df1['num_family_member']==i)]['recall'].mean())"
   ]
  },
  {
   "cell_type": "code",
   "execution_count": null,
   "metadata": {},
   "outputs": [],
   "source": [
    "def compare(x,y):\n",
    "    print(x['recall'].mean() - y['recall'].mean())"
   ]
  },
  {
   "cell_type": "code",
   "execution_count": null,
   "metadata": {},
   "outputs": [],
   "source": [
    "x = df2[(df2['train_samples']>0)*(df2['train_samples']<=100)]\n",
    "y = df1[(df2['train_samples']>0)*(df2['train_samples']<=100)]\n",
    "compare(x,y)\n",
    "x = df2[(df2['train_samples']>100)*(df2['train_samples']<=300)]\n",
    "y = df1[(df2['train_samples']>100)*(df2['train_samples']<=300)]\n",
    "compare(x,y)\n",
    "x = df2[(df2['train_samples']>300)*(df2['train_samples']<=500)]\n",
    "y = df1[(df2['train_samples']>300)*(df2['train_samples']<=500)]\n",
    "compare(x,y)\n",
    "x = df2[(df2['train_samples']>500)*(df2['train_samples']<=1000)]\n",
    "y = df1[(df2['train_samples']>500)*(df2['train_samples']<=1000)]\n",
    "compare(x,y)\n",
    "x = df2[(df2['train_samples']>1000)*(df2['train_samples']<=2000)]\n",
    "y = df1[(df2['train_samples']>1000)*(df2['train_samples']<=2000)]\n",
    "compare(x,y)\n",
    "\n",
    "x = df2[(df2['train_samples']>2000)*(df2['train_samples']<=10000)]\n",
    "y = df1[(df2['train_samples']>2000)*(df2['train_samples']<=10000)]\n",
    "compare(x,y)"
   ]
  },
  {
   "cell_type": "code",
   "execution_count": null,
   "metadata": {},
   "outputs": [],
   "source": [
    "x = df2[(df2['train_samples']>300)*(df2['train_samples']<=500)*(df2['num_family_member']==1)]\n",
    "y = df1[(df2['train_samples']>300)*(df2['train_samples']<=500)*(df2['num_family_member']==1)]\n",
    "compare(x,y)\n",
    "x = df2[(df2['train_samples']>300)*(df2['train_samples']<=500)*(df2['num_family_member']==2)]\n",
    "y = df1[(df2['train_samples']>300)*(df2['train_samples']<=500)*(df2['num_family_member']==2)]\n",
    "compare(x,y)\n",
    "x = df2[(df2['train_samples']>300)*(df2['train_samples']<=500)*(df2['num_family_member']==3)]\n",
    "y = df1[(df2['train_samples']>300)*(df2['train_samples']<=500)*(df2['num_family_member']==3)]\n",
    "compare(x,y)\n",
    "x = df2[(df2['train_samples']>300)*(df2['train_samples']<=500)*(df2['num_family_member']==4)]\n",
    "y = df1[(df2['train_samples']>300)*(df2['train_samples']<=500)*(df2['num_family_member']==4)]\n",
    "compare(x,y)\n",
    "x = df2[(df2['train_samples']>300)*(df2['train_samples']<=500)*(df2['num_family_member']==5)]\n",
    "y = df1[(df2['train_samples']>300)*(df2['train_samples']<=500)*(df2['num_family_member']==5)]\n",
    "compare(x,y)"
   ]
  },
  {
   "cell_type": "code",
   "execution_count": null,
   "metadata": {},
   "outputs": [],
   "source": [
    "df3 = df2[['name', 'train_samples', 'num_family_member']]\n",
    "df3['recall_gap'] = df2['recall'] - df1['recall']"
   ]
  },
  {
   "cell_type": "code",
   "execution_count": null,
   "metadata": {},
   "outputs": [],
   "source": [
    "df3[(df3['train_samples']>300)*(df3['train_samples']<=500)]"
   ]
  },
  {
   "cell_type": "code",
   "execution_count": null,
   "metadata": {},
   "outputs": [],
   "source": [
    "df3[(df3['train_samples']<500)][:50]"
   ]
  },
  {
   "cell_type": "code",
   "execution_count": null,
   "metadata": {},
   "outputs": [],
   "source": []
  },
  {
   "cell_type": "code",
   "execution_count": null,
   "metadata": {},
   "outputs": [],
   "source": [
    "import plotly.express as px\n",
    "fig = px.scatter_3d(df3, x='train_samples', y='num_family_member', z='recall_gap')\n",
    "fig.update_traces(marker_size = 1)\n"
   ]
  },
  {
   "cell_type": "code",
   "execution_count": null,
   "metadata": {},
   "outputs": [],
   "source": []
  },
  {
   "cell_type": "code",
   "execution_count": null,
   "metadata": {},
   "outputs": [],
   "source": [
    "from matplotlib import pyplot as plt\n",
    "\n",
    "\n",
    "\n",
    "X = df3['train_samples']\n",
    "Y = df3['num_family_member']\n",
    "Z = df3['recall_gap']\n",
    "\n",
    "fig = plt.figure()\n",
    "ax = fig.gca(projection='3d')\n",
    "ax.scatter(X,Y,Z)\n"
   ]
  },
  {
   "cell_type": "code",
   "execution_count": null,
   "metadata": {},
   "outputs": [],
   "source": [
    "#df3[df3['train_samples']<100].recall_gap.mean()\n",
    "df3[df3['train_samples']>100].recall_gap.mean()"
   ]
  },
  {
   "cell_type": "code",
   "execution_count": null,
   "metadata": {},
   "outputs": [],
   "source": [
    "df3[df3['train_samples']<100].recall_gap.mean()"
   ]
  },
  {
   "cell_type": "code",
   "execution_count": null,
   "metadata": {},
   "outputs": [],
   "source": [
    "df2[(df2['train_samples']<300)*(df2['num_family_member']==3)]['recall'].mean() - df1[(df1['train_samples']<300)*(df1['num_family_member']==3)]['recall'].mean()"
   ]
  },
  {
   "cell_type": "code",
   "execution_count": null,
   "metadata": {},
   "outputs": [],
   "source": [
    "df2[(df2['train_samples']<300)*(df2['num_family_member']==5)]['recall'].mean() - df1[(df1['train_samples']<300)*(df1['num_family_member']==5)]['recall'].mean()"
   ]
  },
  {
   "cell_type": "code",
   "execution_count": null,
   "metadata": {},
   "outputs": [],
   "source": [
    "df2[(df2['train_samples']<300)*(df2['num_family_member']==6)]['recall'].mean() - df1[(df1['train_samples']<300)*(df1['num_family_member']==6)]['recall'].mean()"
   ]
  },
  {
   "cell_type": "code",
   "execution_count": null,
   "metadata": {},
   "outputs": [],
   "source": [
    "df2[(df2['train_samples']<300)*(df2['num_family_member']==6)]['recall'].mean() - df1[(df1['train_samples']<300)*(df1['num_family_member']==6)]['recall'].mean()"
   ]
  },
  {
   "cell_type": "code",
   "execution_count": null,
   "metadata": {},
   "outputs": [],
   "source": [
    "(df2.recall-df1.recall).mean()"
   ]
  },
  {
   "cell_type": "code",
   "execution_count": null,
   "metadata": {},
   "outputs": [],
   "source": [
    "df2.recall.mean() - df1.recall.mean()"
   ]
  },
  {
   "cell_type": "code",
   "execution_count": null,
   "metadata": {},
   "outputs": [],
   "source": [
    "df2['recall'].mean()"
   ]
  },
  {
   "cell_type": "code",
   "execution_count": null,
   "metadata": {},
   "outputs": [],
   "source": [
    "print(df1[df1.samples_per_class<100]['recall'].mean())\n",
    "print(df2[df2.samples_per_class<100]['recall'].mean())"
   ]
  },
  {
   "cell_type": "code",
   "execution_count": null,
   "metadata": {},
   "outputs": [],
   "source": []
  },
  {
   "cell_type": "code",
   "execution_count": null,
   "metadata": {},
   "outputs": [],
   "source": [
    "print(df1[(500<df1.samples_per_class)*(df1.samples_per_class<2000)]['recall'].mean())\n",
    "print(df2[(500<df1.samples_per_class)*(df1.samples_per_class<2000)]['recall'].mean())"
   ]
  },
  {
   "cell_type": "code",
   "execution_count": null,
   "metadata": {},
   "outputs": [],
   "source": [
    "for x in range(10):\n",
    "    if 3<x<8:\n",
    "        print(x)"
   ]
  },
  {
   "cell_type": "code",
   "execution_count": null,
   "metadata": {},
   "outputs": [],
   "source": []
  }
 ],
 "metadata": {
  "kernelspec": {
   "display_name": "Python 3 (ipykernel)",
   "language": "python",
   "name": "python3"
  },
  "language_info": {
   "codemirror_mode": {
    "name": "ipython",
    "version": 3
   },
   "file_extension": ".py",
   "mimetype": "text/x-python",
   "name": "python",
   "nbconvert_exporter": "python",
   "pygments_lexer": "ipython3",
   "version": "3.7.11"
  },
  "vscode": {
   "interpreter": {
    "hash": "d4d1e4263499bec80672ea0156c357c1ee493ec2b1c70f0acce89fc37c4a6abe"
   }
  }
 },
 "nbformat": 4,
 "nbformat_minor": 2
}

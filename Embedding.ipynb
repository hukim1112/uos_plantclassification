{
 "cells": [
  {
   "cell_type": "markdown",
   "metadata": {},
   "source": [
    "## Embedder 사용방법 예시\n",
    "\n",
    "plantnet-300K의 특정 레이블에서 embedding 뽑아내기."
   ]
  },
  {
   "cell_type": "code",
   "execution_count": null,
   "metadata": {},
   "outputs": [],
   "source": [
    "import torch\n",
    "from torch import nn\n",
    "from models import EfficientB4\n",
    "from torchvision import transforms\n",
    "from config.path import PATH\n",
    "from experiment.extract_embeddings import Embedder\n",
    "\n",
    "root = PATH[\"PLANTNET-300K\"]\n",
    "split = 'train'\n",
    "transform = transforms.Compose([\n",
    "            transforms.ToPILImage(),\n",
    "            transforms.Resize((380, 380)),\n",
    "            transforms.ToTensor()])\n",
    "device = \"cuda:2\"\n",
    "weight_dir = \"/home/files/experiments/efficientB4/exp_set3/checkpoints/checkpoint.pt\"\n",
    "\n",
    "emb = Embedder(root, split)\n",
    "labels = list(emb.label_to_class.keys())\n",
    "model = EfficientB4(num_classes=emb.num_classes, loss_fn=nn.CrossEntropyLoss()) #get your model\n",
    "model.load(weight_dir) # load Its the best checkpoint.\n",
    "emb.get_model(model, transform, device)\n"
   ]
  },
  {
   "cell_type": "code",
   "execution_count": null,
   "metadata": {},
   "outputs": [],
   "source": [
    "label = labels[0]\n",
    "embeddings, top_1_class, top_1_prob, correctness, file_paths = emb.extract_embeddings(label)"
   ]
  },
  {
   "cell_type": "markdown",
   "metadata": {},
   "source": [
    "## 전체 데이터에서 embedding 추출하기\n",
    "\n",
    "for loop를 통해 전체 label의 embedding 추출하기"
   ]
  },
  {
   "cell_type": "code",
   "execution_count": null,
   "metadata": {},
   "outputs": [],
   "source": [
    "import torch\n",
    "from torch import nn\n",
    "from models import EfficientB4\n",
    "from torchvision import transforms\n",
    "from config.path import PATH\n",
    "from experiment.extract_embeddings import Embedder\n",
    "\n",
    "root = PATH[\"PLANTNET-300K\"]\n",
    "transform = transforms.Compose([\n",
    "            transforms.ToPILImage(),\n",
    "            transforms.Resize((380, 380)),\n",
    "            transforms.ToTensor()])\n",
    "device = \"cuda:0\"\n",
    "weight_dir = \"/home/files/experiments/efficientB4/exp_set3/checkpoints/checkpoint.pt\""
   ]
  },
  {
   "cell_type": "code",
   "execution_count": null,
   "metadata": {},
   "outputs": [],
   "source": [
    "from os.path import join\n",
    "for split in [\"train\", \"val\", \"test\"]:\n",
    "    emb = Embedder(root, split)\n",
    "    labels = list(emb.label_to_class.keys())\n",
    "    model = EfficientB4(num_classes=emb.num_classes, loss_fn=nn.CrossEntropyLoss()) #get your model\n",
    "    model.load(weight_dir) # load Its the best checkpoint.\n",
    "    emb.get_model(model, transform, device)\n",
    "\n",
    "    for label in labels:\n",
    "        path = join(\"/home/files/experiments/plantnet_embeddings\", split)\n",
    "        emb.save_embeddings(path, label)"
   ]
  },
  {
   "cell_type": "markdown",
   "metadata": {},
   "source": [
    "## Run single code\n",
    "\n",
    "하나의 코드로 위의 전체 레이블 분석 코드 돌리기"
   ]
  },
  {
   "cell_type": "code",
   "execution_count": null,
   "metadata": {},
   "outputs": [],
   "source": [
    "import torch\n",
    "from torch import nn\n",
    "from models import EfficientB4\n",
    "from torchvision import transforms\n",
    "from config.path import PATH\n",
    "from experiment.extract_embeddings import Embedder\n",
    "from tqdm import tqdm\n",
    "\n",
    "root = PATH[\"PLANTNET-300K\"]\n",
    "transform = transforms.Compose([\n",
    "            transforms.ToPILImage(),\n",
    "            transforms.Resize((380, 380)),\n",
    "            transforms.ToTensor()])\n",
    "device = \"cuda:0\"\n",
    "weight_dir = \"/home/files/experiments/efficientB4/exp_set3/checkpoints/checkpoint.pt\"\n",
    "\n",
    "\n",
    "from os.path import join\n",
    "for split in [\"train\", \"val\", \"test\"]:\n",
    "    emb = Embedder(root, split)\n",
    "    labels = list(emb.label_to_class.keys())\n",
    "    model = EfficientB4(num_classes=emb.num_classes, loss_fn=nn.CrossEntropyLoss()) #get your model\n",
    "    model.load(weight_dir) # load Its the best checkpoint.\n",
    "    emb.get_model(model, transform, device)\n",
    "\n",
    "    for label in tqdm(labels):\n",
    "        emb.save_embeddings(join(\"/home/files/experiments/plantnet_embeddings\", split), label)"
   ]
  }
 ],
 "metadata": {
  "kernelspec": {
   "display_name": "Python 3.7.11 ('base')",
   "language": "python",
   "name": "python3"
  },
  "language_info": {
   "codemirror_mode": {
    "name": "ipython",
    "version": 3
   },
   "file_extension": ".py",
   "mimetype": "text/x-python",
   "name": "python",
   "nbconvert_exporter": "python",
   "pygments_lexer": "ipython3",
   "version": "3.7.11"
  },
  "orig_nbformat": 4,
  "vscode": {
   "interpreter": {
    "hash": "d4d1e4263499bec80672ea0156c357c1ee493ec2b1c70f0acce89fc37c4a6abe"
   }
  }
 },
 "nbformat": 4,
 "nbformat_minor": 2
}

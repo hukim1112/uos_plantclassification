{
 "cells": [
  {
   "cell_type": "markdown",
   "metadata": {},
   "source": [
    "## Load categorical metrics"
   ]
  },
  {
   "cell_type": "code",
   "execution_count": 1,
   "metadata": {},
   "outputs": [],
   "source": [
    "import sys\n",
    "sys.path.append(\"/home/files/uos_plantclassification\")"
   ]
  },
  {
   "cell_type": "code",
   "execution_count": 2,
   "metadata": {},
   "outputs": [
    {
     "data": {
      "text/html": [
       "<div>\n",
       "<style scoped>\n",
       "    .dataframe tbody tr th:only-of-type {\n",
       "        vertical-align: middle;\n",
       "    }\n",
       "\n",
       "    .dataframe tbody tr th {\n",
       "        vertical-align: top;\n",
       "    }\n",
       "\n",
       "    .dataframe thead th {\n",
       "        text-align: right;\n",
       "    }\n",
       "</style>\n",
       "<table border=\"1\" class=\"dataframe\">\n",
       "  <thead>\n",
       "    <tr style=\"text-align: right;\">\n",
       "      <th></th>\n",
       "      <th>Unnamed: 0</th>\n",
       "      <th>name</th>\n",
       "      <th>samples_per_class</th>\n",
       "      <th>precision</th>\n",
       "      <th>recall</th>\n",
       "    </tr>\n",
       "  </thead>\n",
       "  <tbody>\n",
       "    <tr>\n",
       "      <th>0</th>\n",
       "      <td>0</td>\n",
       "      <td>Lactuca virosa L.</td>\n",
       "      <td>43</td>\n",
       "      <td>1.0</td>\n",
       "      <td>0.372093</td>\n",
       "    </tr>\n",
       "    <tr>\n",
       "      <th>1</th>\n",
       "      <td>1</td>\n",
       "      <td>Pelargonium capitatum (L.) L'Hér.</td>\n",
       "      <td>1</td>\n",
       "      <td>0.0</td>\n",
       "      <td>0.000000</td>\n",
       "    </tr>\n",
       "    <tr>\n",
       "      <th>2</th>\n",
       "      <td>2</td>\n",
       "      <td>Pelargonium graveolens L'Hér.</td>\n",
       "      <td>215</td>\n",
       "      <td>1.0</td>\n",
       "      <td>0.795349</td>\n",
       "    </tr>\n",
       "    <tr>\n",
       "      <th>3</th>\n",
       "      <td>3</td>\n",
       "      <td>Cirsium arvense (L.) Scop.</td>\n",
       "      <td>428</td>\n",
       "      <td>1.0</td>\n",
       "      <td>0.869159</td>\n",
       "    </tr>\n",
       "    <tr>\n",
       "      <th>4</th>\n",
       "      <td>4</td>\n",
       "      <td>Cirsium vulgare (Savi) Ten.</td>\n",
       "      <td>648</td>\n",
       "      <td>1.0</td>\n",
       "      <td>0.913580</td>\n",
       "    </tr>\n",
       "    <tr>\n",
       "      <th>...</th>\n",
       "      <td>...</td>\n",
       "      <td>...</td>\n",
       "      <td>...</td>\n",
       "      <td>...</td>\n",
       "      <td>...</td>\n",
       "    </tr>\n",
       "    <tr>\n",
       "      <th>1076</th>\n",
       "      <td>1076</td>\n",
       "      <td>Schefflera morototoni (Aubl.) Maguire</td>\n",
       "      <td>1</td>\n",
       "      <td>NaN</td>\n",
       "      <td>0.000000</td>\n",
       "    </tr>\n",
       "    <tr>\n",
       "      <th>1077</th>\n",
       "      <td>1077</td>\n",
       "      <td>Bourreria andrieuxii (DC.) Hemsl.</td>\n",
       "      <td>1</td>\n",
       "      <td>NaN</td>\n",
       "      <td>0.000000</td>\n",
       "    </tr>\n",
       "    <tr>\n",
       "      <th>1078</th>\n",
       "      <td>1078</td>\n",
       "      <td>Bourreria costaricensis (Standl.) A.H. Gentry</td>\n",
       "      <td>1</td>\n",
       "      <td>NaN</td>\n",
       "      <td>0.000000</td>\n",
       "    </tr>\n",
       "    <tr>\n",
       "      <th>1079</th>\n",
       "      <td>1079</td>\n",
       "      <td>Alibertia edulis (Rich.) A. Rich.</td>\n",
       "      <td>1</td>\n",
       "      <td>NaN</td>\n",
       "      <td>0.000000</td>\n",
       "    </tr>\n",
       "    <tr>\n",
       "      <th>1080</th>\n",
       "      <td>1080</td>\n",
       "      <td>Acacia senegalensis (Houtt.) Roberty</td>\n",
       "      <td>1</td>\n",
       "      <td>NaN</td>\n",
       "      <td>0.000000</td>\n",
       "    </tr>\n",
       "  </tbody>\n",
       "</table>\n",
       "<p>1081 rows × 5 columns</p>\n",
       "</div>"
      ],
      "text/plain": [
       "      Unnamed: 0                                           name  \\\n",
       "0              0                              Lactuca virosa L.   \n",
       "1              1              Pelargonium capitatum (L.) L'Hér.   \n",
       "2              2                  Pelargonium graveolens L'Hér.   \n",
       "3              3                     Cirsium arvense (L.) Scop.   \n",
       "4              4                    Cirsium vulgare (Savi) Ten.   \n",
       "...          ...                                            ...   \n",
       "1076        1076          Schefflera morototoni (Aubl.) Maguire   \n",
       "1077        1077              Bourreria andrieuxii (DC.) Hemsl.   \n",
       "1078        1078  Bourreria costaricensis (Standl.) A.H. Gentry   \n",
       "1079        1079              Alibertia edulis (Rich.) A. Rich.   \n",
       "1080        1080           Acacia senegalensis (Houtt.) Roberty   \n",
       "\n",
       "      samples_per_class  precision    recall  \n",
       "0                    43        1.0  0.372093  \n",
       "1                     1        0.0  0.000000  \n",
       "2                   215        1.0  0.795349  \n",
       "3                   428        1.0  0.869159  \n",
       "4                   648        1.0  0.913580  \n",
       "...                 ...        ...       ...  \n",
       "1076                  1        NaN  0.000000  \n",
       "1077                  1        NaN  0.000000  \n",
       "1078                  1        NaN  0.000000  \n",
       "1079                  1        NaN  0.000000  \n",
       "1080                  1        NaN  0.000000  \n",
       "\n",
       "[1081 rows x 5 columns]"
      ]
     },
     "execution_count": 2,
     "metadata": {},
     "output_type": "execute_result"
    }
   ],
   "source": [
    "import pandas as pd\n",
    "\n",
    "df = pd.read_csv(\"/home/files/experiments/efficientB4/exp_set3/logs/categorical_metrics_test.csv\")\n",
    "\n",
    "df"
   ]
  },
  {
   "cell_type": "code",
   "execution_count": 14,
   "metadata": {},
   "outputs": [],
   "source": [
    "import os\n",
    "dir_path = \"/home/files/datasets/plantnet_300K/images/train/\"\n",
    "num_list = []\n",
    "for sub in os.listdir(dir_path):\n",
    "    label = sub\n",
    "    sub_path= os.path.join(dir_path, sub)\n",
    "    sub_num = len(os.listdir(sub_path))\n",
    "    num_list.append(sub_num)"
   ]
  },
  {
   "cell_type": "code",
   "execution_count": 10,
   "metadata": {},
   "outputs": [
    {
     "data": {
      "text/plain": [
       "1081"
      ]
     },
     "execution_count": 10,
     "metadata": {},
     "output_type": "execute_result"
    }
   ],
   "source": [
    "len(num_list)"
   ]
  },
  {
   "cell_type": "code",
   "execution_count": 1,
   "metadata": {},
   "outputs": [
    {
     "ename": "NameError",
     "evalue": "name 'np' is not defined",
     "output_type": "error",
     "traceback": [
      "\u001b[0;31m---------------------------------------------------------------------------\u001b[0m",
      "\u001b[0;31mNameError\u001b[0m                                 Traceback (most recent call last)",
      "\u001b[0;32m/tmp/ipykernel_13148/1767640484.py\u001b[0m in \u001b[0;36m<module>\u001b[0;34m\u001b[0m\n\u001b[0;32m----> 1\u001b[0;31m \u001b[0mlen\u001b[0m\u001b[0;34m(\u001b[0m\u001b[0mnp\u001b[0m\u001b[0;34m.\u001b[0m\u001b[0marray\u001b[0m\u001b[0;34m(\u001b[0m\u001b[0mnum_list\u001b[0m\u001b[0;34m)\u001b[0m\u001b[0;34m[\u001b[0m\u001b[0mnp\u001b[0m\u001b[0;34m.\u001b[0m\u001b[0marray\u001b[0m\u001b[0;34m(\u001b[0m\u001b[0mnum_list\u001b[0m\u001b[0;34m)\u001b[0m\u001b[0;34m>=\u001b[0m\u001b[0;36m32\u001b[0m\u001b[0;34m]\u001b[0m\u001b[0;34m)\u001b[0m\u001b[0;34m\u001b[0m\u001b[0;34m\u001b[0m\u001b[0m\n\u001b[0m",
      "\u001b[0;31mNameError\u001b[0m: name 'np' is not defined"
     ]
    }
   ],
   "source": [
    "len(np.array(num_list)[np.array(num_list)>32])"
   ]
  },
  {
   "cell_type": "code",
   "execution_count": 19,
   "metadata": {},
   "outputs": [
    {
     "data": {
      "text/plain": [
       "(array([742., 112.,  42.,  38.,  23.,   8.,  10.,   8.,   6.,   7.,  10.,\n",
       "          2.,   7.,   2.,   7.,   1.,   2.,   1.,   4.,   2.,   1.,   3.,\n",
       "          1.,   5.,   4.,   0.,   2.,   2.,   0.,   1.,   1.,   2.,   1.,\n",
       "          2.,   1.,   0.,   0.,   3.,   2.,   0.,   0.,   0.,   1.,   0.,\n",
       "          1.,   0.,   2.,   1.,   0.,   0.,   0.,   0.,   0.,   1.,   0.,\n",
       "          1.,   0.,   0.,   0.,   1.,   0.,   0.,   1.,   0.,   0.,   0.,\n",
       "          0.,   1.,   0.,   0.,   1.,   1.,   0.,   1.,   0.,   0.,   0.,\n",
       "          0.,   0.,   0.,   0.,   0.,   0.,   0.,   0.,   1.,   0.,   1.,\n",
       "          0.,   0.,   0.,   0.,   0.,   0.,   0.,   0.,   0.,   0.,   0.,\n",
       "          1.]),\n",
       " array([2.00000e+00, 7.40600e+01, 1.46120e+02, 2.18180e+02, 2.90240e+02,\n",
       "        3.62300e+02, 4.34360e+02, 5.06420e+02, 5.78480e+02, 6.50540e+02,\n",
       "        7.22600e+02, 7.94660e+02, 8.66720e+02, 9.38780e+02, 1.01084e+03,\n",
       "        1.08290e+03, 1.15496e+03, 1.22702e+03, 1.29908e+03, 1.37114e+03,\n",
       "        1.44320e+03, 1.51526e+03, 1.58732e+03, 1.65938e+03, 1.73144e+03,\n",
       "        1.80350e+03, 1.87556e+03, 1.94762e+03, 2.01968e+03, 2.09174e+03,\n",
       "        2.16380e+03, 2.23586e+03, 2.30792e+03, 2.37998e+03, 2.45204e+03,\n",
       "        2.52410e+03, 2.59616e+03, 2.66822e+03, 2.74028e+03, 2.81234e+03,\n",
       "        2.88440e+03, 2.95646e+03, 3.02852e+03, 3.10058e+03, 3.17264e+03,\n",
       "        3.24470e+03, 3.31676e+03, 3.38882e+03, 3.46088e+03, 3.53294e+03,\n",
       "        3.60500e+03, 3.67706e+03, 3.74912e+03, 3.82118e+03, 3.89324e+03,\n",
       "        3.96530e+03, 4.03736e+03, 4.10942e+03, 4.18148e+03, 4.25354e+03,\n",
       "        4.32560e+03, 4.39766e+03, 4.46972e+03, 4.54178e+03, 4.61384e+03,\n",
       "        4.68590e+03, 4.75796e+03, 4.83002e+03, 4.90208e+03, 4.97414e+03,\n",
       "        5.04620e+03, 5.11826e+03, 5.19032e+03, 5.26238e+03, 5.33444e+03,\n",
       "        5.40650e+03, 5.47856e+03, 5.55062e+03, 5.62268e+03, 5.69474e+03,\n",
       "        5.76680e+03, 5.83886e+03, 5.91092e+03, 5.98298e+03, 6.05504e+03,\n",
       "        6.12710e+03, 6.19916e+03, 6.27122e+03, 6.34328e+03, 6.41534e+03,\n",
       "        6.48740e+03, 6.55946e+03, 6.63152e+03, 6.70358e+03, 6.77564e+03,\n",
       "        6.84770e+03, 6.91976e+03, 6.99182e+03, 7.06388e+03, 7.13594e+03,\n",
       "        7.20800e+03]),\n",
       " <BarContainer object of 100 artists>)"
      ]
     },
     "execution_count": 19,
     "metadata": {},
     "output_type": "execute_result"
    },
    {
     "data": {
      "image/png": "[encoded data removed]",
      "text/plain": [
       "<Figure size 432x288 with 1 Axes>"
      ]
     },
     "metadata": {
      "needs_background": "light"
     },
     "output_type": "display_data"
    }
   ],
   "source": [
    "import numpy as np\n",
    "from matplotlib import pyplot as plt\n",
    "\n",
    "plt.hist(np.array(num_list), bins=100)\n"
   ]
  },
  {
   "cell_type": "code",
   "execution_count": 2,
   "metadata": {},
   "outputs": [],
   "source": [
    "import pickle, json\n",
    "import numpy as np\n",
    "import torch\n",
    "from torch import nn\n",
    "from os.path import join\n",
    "from config.path import PATH\n",
    "from embeddings.extract_embeddings import Embedder\n",
    "from embeddings.set_distance import SetDist\n",
    "from utils.visualization import path2imgs, make_table\n",
    "from matplotlib import pyplot as plt\n",
    "root = PATH[\"PLANTNET-300K\"]\n",
    "emb_path = \"/home/files/experiments/plantnet_embeddings_v3\"\n",
    "\n",
    "split = 'train'\n",
    "emb = Embedder(root, split)\n",
    "labels = list(emb.label_to_class.keys())\n",
    "label_to_name = emb.label_to_name\n",
    "name_to_label = name_to_label=dict([(value, key) for key, value in label_to_name.items()])"
   ]
  },
  {
   "cell_type": "markdown",
   "metadata": {},
   "source": [
    "read .json recording bathacharrya distances between plants."
   ]
  },
  {
   "cell_type": "code",
   "execution_count": 3,
   "metadata": {},
   "outputs": [],
   "source": [
    "with open(\"/home/files/experiments/plantnet_embeddings_v3/dists_from_label148.json\", 'r') as st_json: \n",
    "    dist_from_labels = json.load(st_json)\n"
   ]
  },
  {
   "cell_type": "code",
   "execution_count": 5,
   "metadata": {},
   "outputs": [
    {
     "name": "stdout",
     "output_type": "stream",
     "text": [
      "148\n"
     ]
    }
   ],
   "source": [
    "labels = list(dist_from_labels.keys())\n",
    "print(len(labels))"
   ]
  },
  {
   "cell_type": "code",
   "execution_count": null,
   "metadata": {},
   "outputs": [],
   "source": []
  },
  {
   "cell_type": "code",
   "execution_count": null,
   "metadata": {},
   "outputs": [],
   "source": [
    "for label in dist_from_labels.keys():\n",
    "    dist = dist_from_labels[label]['dists'][1]\n",
    "    if dist<11:\n",
    "        print(label, dist)    "
   ]
  },
  {
   "cell_type": "code",
   "execution_count": null,
   "metadata": {},
   "outputs": [],
   "source": [
    "label = '1363129'\n",
    "print(label_to_name[dist_from_labels[label]['target_label']])\n",
    "print(dist_from_labels[label]['dists'])\n",
    "print(dist_from_labels[label]['labels'])\n",
    "print(list(map(lambda x : label_to_name[x], dist_from_labels[label]['labels'])))"
   ]
  },
  {
   "cell_type": "code",
   "execution_count": null,
   "metadata": {},
   "outputs": [],
   "source": []
  },
  {
   "cell_type": "code",
   "execution_count": null,
   "metadata": {},
   "outputs": [],
   "source": []
  }
 ],
 "metadata": {
  "kernelspec": {
   "display_name": "Python 3.7.11 ('base')",
   "language": "python",
   "name": "python3"
  },
  "language_info": {
   "codemirror_mode": {
    "name": "ipython",
    "version": 3
   },
   "file_extension": ".py",
   "mimetype": "text/x-python",
   "name": "python",
   "nbconvert_exporter": "python",
   "pygments_lexer": "ipython3",
   "version": "3.7.11"
  },
  "orig_nbformat": 4,
  "vscode": {
   "interpreter": {
    "hash": "d4d1e4263499bec80672ea0156c357c1ee493ec2b1c70f0acce89fc37c4a6abe"
   }
  }
 },
 "nbformat": 4,
 "nbformat_minor": 2
}

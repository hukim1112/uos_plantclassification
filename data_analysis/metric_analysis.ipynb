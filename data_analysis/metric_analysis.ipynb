{
 "cells": [
  {
   "cell_type": "markdown",
   "metadata": {},
   "source": [
    "## Load categorical metrics"
   ]
  },
  {
   "cell_type": "code",
   "execution_count": 1,
   "metadata": {},
   "outputs": [],
   "source": [
    "import sys\n",
    "sys.path.append(\"/home/files/uos_plantclassification\")"
   ]
  },
  {
   "cell_type": "code",
   "execution_count": 2,
   "metadata": {},
   "outputs": [],
   "source": [
    "import pickle, json\n",
    "import numpy as np\n",
    "import torch\n",
    "from torch import nn\n",
    "from os.path import join\n",
    "from config.path import PATH\n",
    "from embeddings.extract_embeddings import Embedder\n",
    "from embeddings.set_distance import SetDist\n",
    "from utils.visualization import path2imgs, make_table\n",
    "from matplotlib import pyplot as plt\n",
    "root = PATH[\"PLANTNET-300K\"]\n",
    "emb_path = \"/home/files/experiments/plantnet_embeddings_v3\"\n",
    "\n",
    "split = 'train'\n",
    "emb = Embedder(root, split)\n",
    "labels = list(emb.label_to_class.keys())\n",
    "label_to_name = emb.label_to_name\n",
    "name_to_label = name_to_label=dict([(value, key) for key, value in label_to_name.items()])"
   ]
  },
  {
   "cell_type": "markdown",
   "metadata": {},
   "source": [
    "read .json recording bathacharrya distances between plants."
   ]
  },
  {
   "cell_type": "code",
   "execution_count": 3,
   "metadata": {},
   "outputs": [],
   "source": [
    "with open(\"/home/files/experiments/plantnet_embeddings_v3/dists_from_label148.json\", 'r') as st_json: \n",
    "    dist_from_labels = json.load(st_json)\n"
   ]
  },
  {
   "cell_type": "code",
   "execution_count": 5,
   "metadata": {},
   "outputs": [
    {
     "name": "stdout",
     "output_type": "stream",
     "text": [
      "148\n"
     ]
    }
   ],
   "source": [
    "labels = list(dist_from_labels.keys())\n",
    "print(len(labels))"
   ]
  },
  {
   "cell_type": "code",
   "execution_count": null,
   "metadata": {},
   "outputs": [],
   "source": []
  },
  {
   "cell_type": "code",
   "execution_count": null,
   "metadata": {},
   "outputs": [],
   "source": [
    "for label in dist_from_labels.keys():\n",
    "    dist = dist_from_labels[label]['dists'][1]\n",
    "    if dist<11:\n",
    "        print(label, dist)    "
   ]
  },
  {
   "cell_type": "code",
   "execution_count": null,
   "metadata": {},
   "outputs": [],
   "source": [
    "label = '1363129'\n",
    "print(label_to_name[dist_from_labels[label]['target_label']])\n",
    "print(dist_from_labels[label]['dists'])\n",
    "print(dist_from_labels[label]['labels'])\n",
    "print(list(map(lambda x : label_to_name[x], dist_from_labels[label]['labels'])))"
   ]
  },
  {
   "cell_type": "code",
   "execution_count": null,
   "metadata": {},
   "outputs": [],
   "source": []
  },
  {
   "cell_type": "code",
   "execution_count": null,
   "metadata": {},
   "outputs": [],
   "source": []
  }
 ],
 "metadata": {
  "kernelspec": {
   "display_name": "Python 3.7.11 ('base')",
   "language": "python",
   "name": "python3"
  },
  "language_info": {
   "codemirror_mode": {
    "name": "ipython",
    "version": 3
   },
   "file_extension": ".py",
   "mimetype": "text/x-python",
   "name": "python",
   "nbconvert_exporter": "python",
   "pygments_lexer": "ipython3",
   "version": "3.7.11"
  },
  "orig_nbformat": 4,
  "vscode": {
   "interpreter": {
    "hash": "d4d1e4263499bec80672ea0156c357c1ee493ec2b1c70f0acce89fc37c4a6abe"
   }
  }
 },
 "nbformat": 4,
 "nbformat_minor": 2
}

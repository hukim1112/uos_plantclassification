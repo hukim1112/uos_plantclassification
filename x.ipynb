{
 "cells": [
  {
   "cell_type": "code",
   "execution_count": 1,
   "metadata": {},
   "outputs": [],
   "source": [
    "import json"
   ]
  },
  {
   "cell_type": "code",
   "execution_count": 2,
   "metadata": {},
   "outputs": [],
   "source": [
    "with open(\"/home/files/uos_plantclassification/data/plantnet/genera_to_species.json\") as file1:\n",
    "    data1 = json.load(file1)\n",
    "    \n",
    "with open(\"/home/files/datasets/plantnet_300K/plantnet300K_species_id_2_name.json\") as file2:\n",
    "    data2 = json.load(file2)"
   ]
  },
  {
   "cell_type": "code",
   "execution_count": 3,
   "metadata": {},
   "outputs": [
    {
     "name": "stdout",
     "output_type": "stream",
     "text": [
      "['Nymphaea', 'Daphne', 'Smilax', 'Lamium', 'Lavandula', 'Anthurium', 'Dendrobium']\n"
     ]
    }
   ],
   "source": [
    "from config.path import PATH\n",
    "from os.path import join\n",
    "\n",
    "with open(join(PATH[\"PLANTNET-300K\"], \"plantnet300K_species_id_2_name.json\"), 'r') as file:\n",
    "    label_to_species = json.load(file) #label => name\n",
    "with open(join(\"data/plantnet\", \"species_to_fine.json\"), 'r') as file:\n",
    "    species_to_fine = json.load(file) #label => name\n",
    "with open(join(\"data/plantnet\", \"fine_to_coarse.json\"), 'r') as file:\n",
    "    fine_to_coarse = json.load(file) #label => name\n",
    "with open(join(\"data/plantnet\", \"genera_to_coarse.json\"), 'r') as file:\n",
    "    genera_to_coarse = json.load(file) #label => name\n",
    "with open(join(\"data/plantnet\", \"genera_to_species.json\"), 'r') as file:\n",
    "    genera_to_species = json.load(file) #label => name\n",
    "    \n",
    "#각 속에 속한 종의 숫자 계산\n",
    "species_count = {genera:len(genera_to_species[genera]) for genera in list(genera_to_species.keys())}\n",
    "sorted_species_count = sorted(species_count.items(), key = lambda item: item[1], reverse = True)\n",
    "\n",
    "# 포함된 종의 숫자에 따른 속 분류\n",
    "num_to_genera = {}\n",
    "for genera, num in sorted_species_count:\n",
    "    if num in num_to_genera.keys():\n",
    "        num_to_genera[num].append(genera)\n",
    "    else:\n",
    "        num_to_genera[num] = [genera]\n",
    "\n",
    "# 실험할 속 결정\n",
    "test_genera = num_to_genera[10] + num_to_genera[11] + num_to_genera[12]\n",
    "print(test_genera)"
   ]
  },
  {
   "cell_type": "code",
   "execution_count": 10,
   "metadata": {},
   "outputs": [
    {
     "data": {
      "text/plain": [
       "'/home/files/datasets/plantnet_300K/images/train/1394453'"
      ]
     },
     "execution_count": 10,
     "metadata": {},
     "output_type": "execute_result"
    }
   ],
   "source": []
  },
  {
   "cell_type": "code",
   "execution_count": 30,
   "metadata": {},
   "outputs": [
    {
     "name": "stdout",
     "output_type": "stream",
     "text": [
      "{'Lactuca': {'Lactuca virosa L.': '1355868', 'Lactuca muralis (L.) Gaertn.': '1357677', 'Lactuca saligna L.': '1357681', 'Lactuca tenerrima Pourr.': '1357682', 'Lactuca sativa L.': '1364172', 'Lactuca serriola L.': '1364173', 'Lactuca plumieri (L.) Gren. & Godr.': '1389044', 'Lactuca alpina (L.) Benth. & Hook.f.': '1393414', 'Lactuca macrophylla (Willd.) A.Gray': '1393416', 'Lactuca viminea (L.) J.Presl & C.Presl': '1393418', 'Lactuca perennis L.': '1397420', 'Lactuca floridana (L.) Gaertn.': '1409746', 'Lactuca biennis (Moench) Fernald': '1412412', 'Lactuca canadensis L.': '1412413', 'Lactuca virosa Habl.': '1432783', 'Lactuca alpina (L.) A.Gray': '1513142'}, 'Pelargonium': {\"Pelargonium capitatum (L.) L'Hér.\": '1355920', \"Pelargonium graveolens L'Hér.\": '1355932', \"Pelargonium odoratissimum (L.) L'Hér.\": '1355955', \"Pelargonium peltatum (L.) L'Hér.\": '1355959', \"Pelargonium quercifolium (L. f.) L'Hér.\": '1355961', \"Pelargonium zonale (L.) L'Hér.\": '1355978', \"Pelargonium alchemilloides (L.) L'Hér.\": '1373151', 'Pelargonium quinquelobatum Hochst. ex A. Rich.': '1373231', 'Pelargonium glechomoides A. Rich.': '1373259', 'Pelargonium x hybridum (L.) Aiton': '1394453', 'Pelargonium inquinans (L.) Aiton': '1394454', 'Pelargonium peltatum (L.) Aiton': '1394455', 'Pelargonium x asperum Ehrh. ex Willd.': '1408468', \"Pelargonium crispum (P.J. Bergius) L'Hér.\": '1419112', 'Pelargonium x hortorum L.H. Bailey': '1419115', 'Pelargonium spp.': '1421001', 'Pelargonium grandiflorum Willd.': '1422712', 'Pelargonium panduriforme Eckl. & Zeyh.': '1435709', \"Pelargonium zonale (L.) L'Hér. ex Aiton\": '1435714', 'Pelargonium echinatum Curtis': '1550658', 'Pelargonium × hortorum L.H. Bailey': '1550692', 'Pelargonium sidoides DC.': '1550785', 'Pelargonium tomentosum Jacq.': '1550799'}, 'Cirsium': {'Cirsium arvense (L.) Scop.': '1355936', 'Cirsium vulgare (Savi) Ten.': '1355937', 'Cirsium monspessulanum (L.) Hill': '1357506', 'Cirsium palustre (L.) Scop.': '1361759', 'Cirsium alsophilum (Pollini) Greuter': '1391167', 'Cirsium canum (L.) All.': '1391184', 'Cirsium dissectum (L.) Hill': '1391190', 'Cirsium eriophorum (L.) Scop.': '1391192', 'Cirsium erisithales (Jacq.) Scop.': '1391193', 'Cirsium ferox (L.) DC.': '1391197', 'Cirsium filipendulum Lange': '1391198', 'Cirsium glabrum DC.': '1391206', 'Cirsium heterophyllum (L.) Hill': '1391209', 'Cirsium morisianum Rchb.f.': '1391221', 'Cirsium oleraceum (L.) Scop.': '1391226', 'Cirsium rivulare (Jacq.) All.': '1391235', 'Cirsium tuberosum (L.) All.': '1391250', 'Cirsium acaulon (L.) Scop.': '1397351', 'Cirsium spinosissimum (L.) Scop.': '1397352', 'Cirsium discolor (Muhl. ex Willd.) Spreng.': '1411462', 'Cirsium foliosum (Hook.) DC.': '1411466', 'Cirsium muticum Michx.': '1411469', 'Cirsium undulatum (Nutt.) Spreng.': '1411472', 'Cirsium altissimum (L.) Hill': '1441349', 'Cirsium horridulum Michx.': '1441375', 'Cirsium texanum Buckley': '1441410', 'Cirsium palustre (L.) Coss. ex Scop.': '1503981'}, 'Phyllanthus': {'Phyllanthus tenellus Roxb.': '1356003', 'Phyllanthus reticulatus Poir.': '1358608', 'Phyllanthus fischeri Pax': '1375895', 'Phyllanthus suffrutescens Pax': '1375954', 'Phyllanthus acidus (L.) Skeels': '1375965', 'Phyllanthus amarus Schumach. & Thonn.': '1375966', 'Phyllanthus niruri L.': '1398333', 'Phyllanthus urinaria L.': '1401735', 'Phyllanthus emblica L.': '1408507', 'Phyllanthus niruroides Müll.Arg.': '1408508', 'Phyllanthus phillyreifolius Poir.': '1408509', 'Phyllanthus epiphyllanthus L.': '1409918', 'Phyllanthus mimosoides Sw.': '1409919'}, 'Hypericum': {'Hypericum perforatum L.': '1356022', 'Hypericum androsaemum L.': '1358689', 'Hypericum australe Ten.': '1358690', 'Hypericum canariense L.': '1358691', 'Hypericum empetrifolium Willd.': '1358695', 'Hypericum hircinum L.': '1358699', 'Hypericum hirsutum L.': '1358700', 'Hypericum humifusum L.': '1358701', 'Hypericum linariifolium Vahl': '1358703', 'Hypericum montanum L.': '1358704', 'Hypericum perfoliatum L.': '1358706', 'Hypericum tetrapterum Fr.': '1358710', 'Hypericum tomentosum L.': '1358711', 'Hypericum triquetrifolium Turra': '1362024', 'Hypericum annulatum Moris': '1379513', 'Hypericum balearicum L.': '1388905', 'Hypericum calycinum L.': '1393241', 'Hypericum coris L.': '1393242', 'Hypericum elodes L.': '1393245', 'Hypericum x inodorum Mill.': '1393248', 'Hypericum maculatum Crantz': '1393250', 'Hypericum nummularium L.': '1393253', 'Hypericum pulchrum L.': '1393254', 'Hypericum richeri Vill.': '1393257', 'Hypericum hyssopifolium Chaix': '1397407', 'Hypericum mutilum L.': '1397408', 'Hypericum olympicum L.': '1398130', 'Hypericum patulum Thunb.': '1398513', 'Hypericum x hidcoteense Hilling ex Geerinck': '1398515', 'Hypericum lanceolatum Lam.': '1408214', 'Hypericum kalmianum L.': '1412311', 'Hypericum prolificum L.': '1412313', 'Hypericum punctatum Lam.': '1412314', 'Hypericum frondosum Michx.': '1419197', 'Hypericum revolutum Vahl': '1422721', 'Hypericum hypericoides (L.) Crantz': '1433158', 'Hypericum tetrapetalum Lam.': '1433176'}, 'Tradescantia': {'Tradescantia fluminensis Vell.': '1356075', 'Tradescantia zebrina Heynh. ex Bosse': '1356076', 'Tradescantia pallida (Rose) D.R. Hunt': '1362927', 'Tradescantia cerinthoides Kunth': '1363117', 'Tradescantia spathacea Sw.': '1369960', 'Tradescantia x andersoniana F.Ludw. & Rohweder': '1396823', 'Tradescantia virginiana L.': '1396824', 'Tradescantia zebrina Bosse': '1398178', 'Tradescantia pallida (Rose) D.R.Hunt': '1408774', 'Tradescantia occidentalis (Britton) Smyth': '1414057', 'Tradescantia ohiensis Raf.': '1414058', 'Tradescantia subaspera Ker Gawl.': '1418475', 'Tradescantia zebrina hort. ex Bosse': '1422105', 'Tradescantia crassifolia Cav.': '1439145', 'Tradescantia × andersoniana W.Ludw. & Rohweder': '1497630', 'Tradescantia sillamontana Matuda': '1497667'}, 'Lamium': {'Lamium amplexicaule L.': '1356111', 'Lamium bifidum Cirillo': '1358748', 'Lamium flexuosum Ten.': '1358749', 'Lamium garganicum L.': '1358750', 'Lamium hybridum Vill.': '1358751', 'Lamium purpureum L.': '1358752', 'Lamium galeobdolon (L.) L.': '1361823', 'Lamium album L.': '1393423', 'Lamium maculatum (L.) L.': '1393425', 'Lamium orvala L.': '1399231', 'Lamium maculatum L.': '1412418'}, 'Lavandula': {'Lavandula dentata L.': '1356126', 'Lavandula canariensis Mill.': '1358755', 'Lavandula minutolii Bolle': '1358759', 'Lavandula multifida L.': '1358760', 'Lavandula stoechas L.': '1358766', 'Lavandula angustifolia Mill.': '1361824', 'Lavandula x intermedia Emeric ex Loisel.': '1393465', 'Lavandula latifolia Medik.': '1393466', 'Lavandula pinnata Moench': '1399804', 'Lavandula canariensis (L.) Mill.': '1560405', 'Lavandula spp.': '1711775'}, 'Melilotus': {'Melilotus albus Medik.': '1356257', 'Melilotus italicus (L.) Lam.': '1359359', 'Melilotus sulcatus Desf.': '1359364', 'Melilotus indicus (L.) All.': '1363749', 'Melilotus officinalis (L.) Pall.': '1363750', 'Melilotus altissimus Thuill.': '1393789', 'Melilotus officinalis (L.) Lam.': '1393792', 'Melilotus spicatus (Sm.) Breistr.': '1393796'}, 'Trifolium': {'Trifolium fragiferum L.': '1356278', 'Trifolium angustifolium L.': '1359483', 'Trifolium arvense L.': '1359485', 'Trifolium aureum Pollich': '1359486', 'Trifolium campestre Schreb.': '1359488', 'Trifolium cherleri L.': '1359489', 'Trifolium hirtum All.': '1359495', 'Trifolium hybridum L.': '1359497', 'Trifolium incarnatum L.': '1359498', 'Trifolium lappaceum L.': '1359502', 'Trifolium michelianum Savi': '1359505', 'Trifolium micranthum Viv.': '1359506', 'Trifolium montanum L.': '1359508', 'Trifolium ochroleucon Huds.': '1359510', 'Trifolium pannonicum Jacq.': '1359513', 'Trifolium patens Schreb.': '1359514', 'Trifolium pratense L.': '1359517', 'Trifolium purpureum Loisel.': '1359518', 'Trifolium resupinatum L.': '1359519', 'Trifolium scabrum L.': '1359521', 'Trifolium spumosum L.': '1359523', 'Trifolium squamosum L.': '1359524', 'Trifolium stellatum L.': '1359525', 'Trifolium striatum L.': '1359526', 'Trifolium subterraneum L.': '1359528', 'Trifolium tomentosum L.': '1359530', 'Trifolium rubens L.': '1361850', 'Trifolium alexandrinum L.': '1363735', 'Trifolium dubium Sibth.': '1363737', 'Trifolium glomeratum L.': '1363738', 'Trifolium nigrescens Viv.': '1363739', 'Trifolium repens L.': '1363740', 'Trifolium alpestre L.': '1396842', 'Trifolium alpinum L.': '1396843', 'Trifolium pallescens Schreb.': '1396858', 'Trifolium spadiceum L.': '1396867', 'Trifolium thalii Vill.': '1396869', 'Trifolium medium L.': '1397514', 'Trifolium badium Schreb.': '1397551'}, 'Nymphaea': {'Nymphaea nouchali Burm. f.': '1356309', 'Nymphaea alba L.': '1359669', 'Nymphaea lotus L.': '1362080', 'Nymphaea candida C.Presl': '1393980', 'Nymphaea nouchali Burm.f.': '1409296', 'Nymphaea ampla (Salisb.) DC.': '1409839', 'Nymphaea mexicana Zucc.': '1412831', 'Nymphaea odorata Aiton': '1412833', 'Nymphaea tetragona Georgi': '1412834', 'Nymphaea rubra Roxb. ex Andrews': '1608440'}, 'Dryopteris': {'Dryopteris aemula (Aiton) Kuntze': '1356379', 'Dryopteris affinis (Lowe) Fraser-Jenk.': '1356380', 'Dryopteris filix-mas (L.) Schott': '1356382', 'Dryopteris carthusiana (Vill.) H.P.Fuchs': '1391805', 'Dryopteris cristata (L.) A.Gray': '1391807', 'Dryopteris dilatata (Hoffm.) A.Gray': '1391809', 'Dryopteris expansa (C.Presl) Fraser-Jenk. & Jermy': '1391810', 'Dryopteris villarii (Bellardi) Woyn. ex Schinz & Thell.': '1391821', 'Dryopteris erythrosora (Eaton) Kuntze': '1398196', 'Dryopteris fragrans (L.) Schott': '1398700', 'Dryopteris wallichiana (Spreng.) Hyl.': '1401242', 'Dryopteris carthusiana (Vill.) H.P. Fuchs': '1411827', 'Dryopteris cristata (L.) A. Gray': '1411829', 'Dryopteris intermedia (Muhl. ex Willd.) A. Gray': '1411832', 'Dryopteris marginalis (L.) A. Gray': '1411833', 'Dryopteris cycadina (Franch. & Sav.) C. Chr.': '1418653', 'Dryopteris erythrosora (D.C. Eaton) Kuntze': '1418655', 'Dryopteris sieboldii (T. Moore) Kuntze': '1418659'}, 'Nephrolepis': {'Nephrolepis cordifolia (L.) C. Presl': '1356420', 'Nephrolepis exaltata (L.) Schott': '1356421', 'Nephrolepis cordifolia (L.) C.Presl': '1389294', 'Nephrolepis biserrata (Sw.) Schott': '1400478', 'Nephrolepis abrupta (Bory) Mett.': '1408401', 'Nephrolepis falcata (Cav.) C. Chr.': '1421628'}, 'Sedum': {'Sedum acre L.': '1358094', 'Sedum album L.': '1358095', 'Sedum amplexicaule DC.': '1358096', 'Sedum andegavense (DC.) Desv.': '1358097', 'Sedum brevifolium DC.': '1358099', 'Sedum caeruleum L.': '1358101', 'Sedum caespitosum (Cav.) DC.': '1358102', 'Sedum cepaea L.': '1358103', 'Sedum dasyphyllum L.': '1358105', 'Sedum forsterianum Sm.': '1358108', 'Sedum hirsutum All.': '1358112', 'Sedum litoreum Guss.': '1358119', 'Sedum multiceps Coss. & Durieu': '1358127', 'Sedum rubens L.': '1358132', 'Sedum sediforme (Jacq.) Pau': '1358133', 'Sedum villosum L.': '1362192', 'Sedum anglicum Huds.': '1362489', 'Sedum rupestre L.': '1362490', 'Sedum hispanicum L.': '1363613', 'Sedum pachyphyllum Rose': '1389307', 'Sedum dendroideum Moc. & Sessé ex DC.': '1389308', 'Sedum sarmentosum Bunge': '1396143', 'Sedum alpestre Vill.': '1396144', 'Sedum annuum L.': '1396145', 'Sedum kamtschaticum Fisch. & C.A.Mey.': '1396156', 'Sedum mexicanum Britton': '1396159', 'Sedum ochroleucum Chaix': '1396161', 'Sedum sexangulare L.': '1396165', 'Sedum atratum L.': '1397491', 'Sedum montanum Perrier & Songeon': '1397550', 'Sedum palmeri S.Watson': '1398128', 'Sedum divergens S. Watson': '1413751', 'Sedum lanceolatum Torr.': '1413752', 'Sedum oreganum Nutt.': '1413753', 'Sedum spathulifolium Hook.': '1413755', 'Sedum ternatum Michx.': '1413757', 'Sedum kamtschaticum Fisch.': '1418545', 'Sedum lineare Thunb.': '1418546', 'Sedum morganianum E.Walther': '1418547', 'Sedum palmeri S. Watson': '1421021', 'Sedum albomarginatum R.T. Clausen': '1438033', 'Sedum glaucophyllum R.T. Clausen': '1438041', 'Sedum laxum (Britton) A. Berger': '1438043', 'Sedum moranense Kunth': '1438045', 'Sedum niveum Davidson': '1438049', 'Sedum obtusatum A. Gray': '1438052', 'Sedum pulchellum Michx.': '1438056', 'Sedum adolphii Raym.-Hamet': '1529081', 'Sedum allantoides Rose': '1529084', 'Sedum burrito Moran': '1529107', 'Sedum clavatum R.T. Clausen': '1529124', 'Sedum compressum Rose': '1529128', 'Sedum cyaneum J. Rudolph': '1529144', 'Sedum decumbens R.T. Clausen': '1529148', 'Sedum furfuraceum Moran': '1529179', 'Sedum hernandezii J. Meyrán': '1529205', 'Sedum japonicum Siebold ex Miq.': '1529212', 'Sedum makinoi Maxim.': '1529242', 'Sedum nussbaumerianum Bitter': '1529265', 'Sedum praealtum A.DC.': '1529305', 'Sedum rubrotinctum R.T. Clausen': '1529328'}, 'Acalypha': {'Acalypha virginica L.': '1358519', 'Acalypha crenata Hochst. ex A. Rich.': '1375776', 'Acalypha hispida Burm. f.': '1375797', 'Acalypha wilkesiana Müll.Arg.': '1405685', 'Acalypha indica L.': '1406863', 'Acalypha hispida Burm.f.': '1408688', 'Acalypha integrifolia Willd.': '1408718', 'Acalypha aristata Kunth': '1410168', 'Acalypha macrostachya Jacq.': '1542499'}, 'Acacia': {'Acacia mellifera (Vahl) Benth.': '1359060', 'Acacia seyal Delile': '1359064', 'Acacia tortilis (Forssk.) Hayne': '1359065', 'Acacia etbaica Schweinf.': '1362398', 'Acacia dealbata Link': '1363764', 'Acacia longifolia (Andrews) Willd.': '1363769', 'Acacia mearnsii De Wild.': '1363770', 'Acacia pycnantha Benth.': '1363772', 'Acacia retinodes Schltdl.': '1363778', 'Acacia xanthophloea Benth.': '1367921', 'Acacia drepanolobium Harms ex Y. Sjöstedt': '1367938', 'Acacia hockii De Wild.': '1367949', 'Acacia angustissima (Mill.) Kuntze': '1367998', 'Acacia mangium Willd.': '1382099', 'Acacia melanoxylon R.Br.': '1389553', 'Acacia saligna (Labill.) H.L.Wendl.': '1389567', 'Acacia pravissima F.Muell.': '1400060', 'Acacia baileyana F.Muell.': '1400104', 'Acacia auriculiformis A.Cunn. ex Benth.': '1408227', 'Acacia heterophylla (Lam.) Willd.': '1408421', 'Acacia podalyriifolia A.Cunn. ex G.Don': '1408594', 'Acacia nilotica (L.) Delile': '1408953', 'Acacia tortuosa (L.) Willd.': '1409328', 'Acacia simplex (Sparman) Pedley': '1414924', 'Acacia spirorbis Labill.': '1415911', 'Acacia confusa Merr.': '1421386', 'Acacia koaia Hillebr.': '1421523', 'Acacia farnesiana Willd.': '1425899', 'Acacia berlandieri Benth.': '1442833', 'Acacia redolens Maslin': '1444049', 'Acacia rigidula Benth.': '1444156', 'Acacia auriculiformis Benth.': '1567995', 'Acacia brevispica Harms': '1568056', 'Acacia caven (Molina) Molina': '1568102', 'Acacia cognata Domin': '1568134', 'Acacia confluens Maiden & Blakeley': '1568144', 'Acacia podalyriifolia G.Don': '1568799', 'Acacia saligna (Labill.) Wendl.': '1568914', 'Acacia senegalensis (Houtt.) Roberty': '1718287'}, 'Lupinus': {'Lupinus cosentinii Guss.': '1359331', 'Lupinus micranthus Guss.': '1359332', 'Lupinus angustifolius L.': '1363699', 'Lupinus luteus L.': '1363700', 'Lupinus pilosus L.': '1363701', 'Lupinus albus L.': '1363703', 'Lupinus perennis L.': '1367431', 'Lupinus polyphyllus Lindl.': '1367432', 'Lupinus arboreus Sims': '1393654', 'Lupinus x regalis Bergmans': '1393656', 'Lupinus nootkatensis Donn ex Sims': '1398526', 'Lupinus argenteus Pursh': '1412595', 'Lupinus bicolor Lindl.': '1412596', 'Lupinus albifrons Benth.': '1418984', 'Lupinus chamissonis Eschsch.': '1434232', 'Lupinus diffusus Nutt.': '1434249', 'Lupinus formosus Greene': '1434258', 'Lupinus hirsutissimus Benth.': '1434267', 'Lupinus subcarnosus Hook.': '1434320', 'Lupinus texensis Hook.': '1434326', 'Lupinus nootkatensis Sims': '1580985'}, 'Papaver': {'Papaver atlanticum (Ball) Coss.': '1359815', 'Papaver rupifragum Boiss. & Reut.': '1359821', 'Papaver argemone L.': '1363126', 'Papaver hybridum L.': '1363127', 'Papaver rhoeas L.': '1363128', 'Papaver dubium L.': '1363129', 'Papaver somniferum L.': '1363130', 'Papaver alpinum L.': '1394399', 'Papaver croceum Ledeb.': '1394401', 'Papaver orientale L.': '1394404', 'Papaver pseudoorientale (Fedde) Medw.': '1394405', 'Papaver rhaeticum Leresche': '1394406', 'Papaver nudicaule L.': '1412946'}, 'Adonis': {'Adonis aestivalis L.': '1360147', 'Adonis annua L.': '1360148', 'Adonis flammea Jacq.': '1360150', 'Adonis microcarpa DC.': '1360152', 'Adonis pyrenaica DC.': '1400080', 'Adonis vernalis L.': '1400081'}, 'Anemone': {'Anemone coronaria L.': '1360153', 'Anemone palmata L.': '1360154', 'Anemone hortensis L.': '1363110', 'Anemone x hybrida Paxton': '1394378', 'Anemone alpina L.': '1394382', 'Anemone apennina L.': '1394394', 'Anemone baldensis L.': '1394396', 'Anemone halleri All.': '1394418', 'Anemone hepatica L.': '1394420', 'Anemone montana Hoppe': '1394457', 'Anemone nemorosa L.': '1394460', 'Anemone pulsatilla L.': '1394489', 'Anemone rubra Lam.': '1394498', 'Anemone sylvestris L.': '1394504', 'Anemone trifolia L.': '1394508', 'Anemone vernalis L.': '1394513', 'Anemone hupehensis (Lemoine) Lemoine': '1397268', 'Anemone vitifolia Buch.-Ham. ex DC.': '1397269', 'Anemone narcissiflora L.': '1397311', 'Anemone ranunculoides L.': '1397312', 'Anemone pratensis L.': '1397841', 'Anemone blanda Schott & Kotschy': '1398444', 'Anemone canadensis L.': '1412337', 'Anemone multifida Poir.': '1412368', 'Anemone virginiana L.': '1412410', 'Anemone patens L.': '1420288', 'Anemone pavoniana Boiss.': '1663341', 'Anemone tomentosa (Maxim.) C.Pei': '1663381'}, 'Daphne': {'Daphne gnidium L.': '1360588', 'Daphne laureola L.': '1360590', 'Daphne oleoides Schreb.': '1360591', 'Daphne alpina L.': '1391648', 'Daphne cneorum L.': '1391649', 'Daphne mezereum L.': '1391652', 'Daphne striata Tratt.': '1391654', 'Daphne sericea Vahl': '1399157', 'Daphne odora Thunb.': '1420792', 'Daphne tangutica Maxim.': '1420796'}, 'Chaerophyllum': {'Chaerophyllum temulum L.': '1360671', 'Chaerophyllum aureum L.': '1391110', 'Chaerophyllum hirsutum L.': '1391112', 'Chaerophyllum villarsii W.D.J.Koch': '1391113', 'Chaerophyllum bulbosum L.': '1397349', 'Chaerophyllum aromaticum L.': '1399141', 'Chaerophyllum tainturieri Hook.': '1441099'}, 'Phalaris': {'Phalaris coerulescens Desf.': '1361357', 'Phalaris aquatica L.': '1363489', 'Phalaris arundinacea L.': '1363490', 'Phalaris canariensis L.': '1363491', 'Phalaris minor Retz.': '1363492', 'Phalaris paradoxa L.': '1363493'}, 'Ophrys': {'Ophrys apifera Huds.': '1361656', 'Ophrys bombyliflora Link': '1361658', 'Ophrys fusca Link': '1361660', 'Ophrys lutea Cav.': '1361663', 'Ophrys scolopax Cav.': '1361666', 'Ophrys speculum Link': '1361668', 'Ophrys tenthredinifera Willd.': '1361672', 'Ophrys insectifera L.': '1362516', 'Ophrys druentica P.Delforge & Viglione': '1388911', 'Ophrys occidentalis (Scappaticci) Scappaticci & M.Demange': '1389633', 'Ophrys arachnitiformis Gren. & M.Philippe': '1394072', 'Ophrys aranifera Huds.': '1394073', 'Ophrys aveyronensis (J.J.Wood) P.Delforge': '1394077', 'Ophrys aymoninii (Breistr.) Buttler': '1394078', 'Ophrys bertolonii Moretti': '1394082', 'Ophrys catalaunica O.Danesch & E.Danesch': '1394088', 'Ophrys exaltata Ten.': '1394114', 'Ophrys fuciflora (F.W.Schmidt) Moench': '1394120', 'Ophrys incubacea Bianca': '1394128', 'Ophrys lupercalis Devillers & Devillers-Tersch.': '1394143', 'Ophrys morisii (Martelli) Soó': '1394153', 'Ophrys passionis Sennen': '1394164', 'Ophrys provincialis (Baumann & Künkele) Paulus': '1394169', 'Ophrys saratoi E.G.Camus': '1394183', 'Ophrys sulcata Devillers & Devillers-Tersch.': '1394189', 'Ophrys pseudoscolopax (Moggr.) Paulus & Gack': '1398125', 'Ophrys araneola sensu auct.plur.': '1398355', 'Ophrys virescens Philippe': '1398469', 'Ophrys lunulata Parl.': '1399667'}, 'Epipactis': {'Epipactis helleborine (L.) Crantz': '1362294', 'Epipactis atrorubens (Hoffm.) Besser': '1391953', 'Epipactis leptochila (Godfery) Godfery': '1391960', 'Epipactis microphylla (Ehrh.) Sw.': '1391961', 'Epipactis muelleri Godfery': '1391962', 'Epipactis palustris (L.) Crantz': '1391963', 'Epipactis phyllanthes G.E.Sm.': '1391964', 'Epipactis purpurata Sm.': '1391967', 'Epipactis gigantea Douglas ex Hook.': '1411925'}, 'Cenchrus': {'Cenchrus longispinus (Hack.) Fernald': '1362928', 'Cenchrus clandestinus (Hochst. ex Chiov.) Morrone': '1363016', 'Cenchrus purpureus (Schumach.) Morrone': '1363019', 'Cenchrus setaceus (Forssk.) Morrone': '1363021', 'Cenchrus ciliaris L.': '1363463', 'Cenchrus echinatus L.': '1363464', 'Cenchrus longisetus M.C.Johnst.': '1389966'}, 'Schefflera': {'Schefflera actinophylla (Endl.) Harms': '1362954', 'Schefflera actinophylla Harms': '1399783', 'Schefflera decaphylla (Seem.) Harms': '1405088', 'Schefflera actinophylla (F.Muell.) Harms': '1408657', 'Schefflera arboricola (Hayata) Merr.': '1408961', 'Schefflera spp.': '1417546', 'Schefflera heptaphylla (L.) Frodin': '1430280', 'Schefflera morototoni (Aubl.) Maguire': '1712365'}, 'Smilax': {'Smilax aspera L.': '1363336', 'Smilax anceps Willd.': '1387284', 'Smilax rotundifolia L.': '1398567', 'Smilax herbacea L.': '1413832', 'Smilax tamnoides L.': '1413835', 'Smilax china L.': '1430515', 'Smilax bona-nox L.': '1438352', 'Smilax glauca Walter': '1438354', 'Smilax laurifolia L.': '1438358', 'Smilax excelsa L.': '1689963'}, 'Crotalaria': {'Crotalaria juncea L.': '1363688', 'Crotalaria spectabilis Roth': '1366997', 'Crotalaria chrysochlora Baker f. ex Harms': '1367060', 'Crotalaria deflersii Schweinf.': '1367087', 'Crotalaria polysperma Kotschy': '1367267', 'Crotalaria uguenensis Taub.': '1367343', 'Crotalaria verrucosa L.': '1367369', 'Crotalaria retusa L.': '1402811', 'Crotalaria incana L.': '1405703', 'Crotalaria pallida Aiton': '1406426', 'Crotalaria brevidens Benth.': '1409521', 'Crotalaria pumila Ortega': '1409525', 'Crotalaria laburnifolia L.': '1427659'}, 'Barbarea': {'Barbarea verna (Mill.) Asch.': '1363871', 'Barbarea intermedia Boreau': '1363872', 'Barbarea rupicola Moris': '1400096', 'Barbarea vulgaris R.Br.': '1400100', 'Barbarea orthoceras Ledeb.': '1414275', 'Barbarea vulgaris W.T. Aiton': '1414276'}, 'Fragaria': {'Fragaria vesca L.': '1363991', 'Fragaria moschata Weston': '1392361', 'Fragaria viridis Weston': '1397387', 'Fragaria virginiana Duchesne': '1397613', 'Fragaria x ananassa Duchesne ex Rozier': '1408092', 'Fragaria chiloensis (L.) Mill.': '1408979', 'Fragaria virginiana Mill.': '1420364', 'Fragaria x ananassa (Duchesne ex Weston) Duchesne ex Rozier': '1420365', 'Fragaria × ananassa (Duchesne ex Weston) Duchesne ex Rozier': '1667445'}, 'Tagetes': {'Tagetes minuta L.': '1364158', 'Tagetes patula L.': '1364159', 'Tagetes erecta L.': '1374048', 'Tagetes tenuifolia Cav.': '1389492', 'Tagetes lucida Cav.': '1417900', 'Tagetes lemmonii A. Gray': '1438868', 'Tagetes lemmonii A.Gray': '1522375', 'Tagetes lunulata Ortega': '1522377'}, 'Prosopis': {'Prosopis alba Griseb.': '1366898', 'Prosopis juliflora (Sw.) DC.': '1366899', 'Prosopis farcta (Banks & Sol.) J.F.Macbr.': '1425433', 'Prosopis glandulosa Torr.': '1436922', 'Prosopis pubescens Benth.': '1436923', 'Prosopis pallida (Willd.) Kunth': '1584568'}, 'Mussaenda': {'Mussaenda frondosa L.': '1371680', 'Mussaenda erythrophylla Schumach. & Thonn.': '1371691', 'Mussaenda philippica A. Rich.': '1379556', 'Mussaenda arcuata Poir.': '1408386', 'Mussaenda pubescens Dryand.': '1409824', 'Mussaenda philippica A.Rich.': '1420496'}, 'Peperomia': {'Peperomia pellucida (L.) Kunth': '1376726', 'Peperomia magnoliifolia (Jacq.) A.Dietr.': '1402920', 'Peperomia obtusifolia (L.) A.Dietr.': '1402921', 'Peperomia quadrangularis (J.V.Thomps.) A.Dietr.': '1402924', 'Peperomia rotundifolia (L.) Kunth': '1402925', 'Peperomia serpens (Sw.) Loudon': '1402926', 'Peperomia argyreia (Miq.) E.Morren': '1409214', 'Peperomia caperata Yunck.': '1409215', 'Peperomia obtusifolia (L.) A. Dietr.': '1409216', 'Peperomia argyreia (Hook.f.) E.Morren': '1419923', 'Peperomia dolabriformis Kunth': '1419924', 'Peperomia albovittata C. DC.': '1643184', 'Peperomia clusiifolia (Jacq.) Hook.': '1643341', 'Peperomia columella Rauh & Hutchison': '1643349', 'Peperomia ferreyrae Yunck.': '1643491', 'Peperomia graveolens Rauh & Barthlott': '1643553', 'Peperomia maculosa (L.) Hook.': '1643690', 'Peperomia pecuniifolia Trel. & Standl.': '1643819', 'Peperomia polybotrya Kunth': '1643866', 'Peperomia prostrata B.S. Williams': '1643887', 'Peperomia tetragona Ruiz & Pav.': '1644145', 'Peperomia verticillata (L.) A.Dietr.': '1644223'}, 'Cereus': {'Cereus jamacaru DC.': '1389297', 'Cereus hexagonus (L.) Mill.': '1403967', 'Cereus repandus (L.) Mill.': '1408869', 'Cereus hildmannianus K.Schum.': '1418192', 'Cereus forbesii C.F.Först.': '1486475', 'Cereus uruguayanus R. Kiesling': '1486501'}, 'Nothofagus': {'Nothofagus obliqua (Mirb.) Oerst.': '1390617', 'Nothofagus antarctica (G.Forst.) Oerst.': '1398608', 'Nothofagus alpina (Poepp. & Endl.) Oerst.': '1419595', 'Nothofagus pumilio (Poepp. & Endl.) Krasser': '1419598', 'Nothofagus betuloides (Mirb.) Oerst.': '1608023', 'Nothofagus dombeyi (Mirb.) Oerst.': '1608027', 'Nothofagus nitida (Phil.) Krasser': '1608034'}, 'Hebe': {'Hebe andersonii (Lindl. & Paxton) Cockayne': '1392689', 'Hebe brachysiphon Summerh.': '1392690', 'Hebe ochracea Ashwin': '1392691', 'Hebe salicifolia (G.Forst.) Pennell': '1392695', 'Hebe franciscana (Eastw.) Souster': '1419942', 'Hebe andersonii (Lindl. & J. Paxton) Cockayne': '1646149'}, 'Angelica': {'Angelica heterocarpa J.Lloyd': '1394549', 'Angelica razulii Gouan': '1394580', 'Angelica sylvestris L.': '1394591', 'Angelica archangelica L.': '1397313', 'Angelica atropurpurea L.': '1399920', 'Angelica lucida L.': '1412445'}, 'Aralia': {'Aralia elata (Miq.) Seem.': '1398447', 'Aralia hispida Vent.': '1412992', 'Aralia nudicaulis L.': '1413002', 'Aralia racemosa L.': '1413013', 'Aralia californica S. Watson': '1435225', 'Aralia spinosa L.': '1435260'}, 'Guatteria': {'Guatteria anteridifera Scharf & Maas': '1400844', 'Guatteria amplifolia Triana & Planch.': '1404776', 'Guatteria citriodora Ducke': '1406756', 'Guatteria punctata (Aubl.) R.A.Howard': '1407077', 'Guatteria aeruginosa Standl.': '1455408', 'Guatteria dolichopoda Donn. Sm.': '1712003'}, 'Anthurium': {'Anthurium hookeri Kunth': '1402423', 'Anthurium jenmanii Engl.': '1402433', 'Anthurium scandens (Aubl.) Engl.': '1402464', 'Anthurium crystallinum Linden & André': '1407379', 'Anthurium andraeanum Linden ex André': '1409238', 'Anthurium scherzerianum Schott': '1409239', 'Anthurium clarinervium Matuda': '1464459', 'Anthurium faustomirandae Pérez-Farr. & Croat': '1464567', 'Anthurium salvinii Hemsl.': '1465016', 'Anthurium schlechtendalii Kunth': '1465026', 'Anthurium veitchii Mast.': '1465149', 'Anthurium warocqueanum T.Moore': '1465170'}, 'Alocasia': {'Alocasia cucullata (Lour.) G.Don': '1408037', 'Alocasia longiloba Miq.': '1408041', 'Alocasia macrorrhizos (L.) G.Don': '1408045', 'Alocasia cuprea K.Koch': '1420767', 'Alocasia micholitziana Sander': '1420781', 'Alocasia odora (Lindl.) K.Koch': '1420787', 'Alocasia sanderiana W.Bull': '1420795', 'Alocasia macrorrhizos (L.) G. Don': '1421107', 'Alocasia cucullata (Lour.) G. Don': '1442930', 'Alocasia baginda Kurniawan & P.C.Boyce': '1464023', 'Alocasia lauterbachiana (Engl.) A.Hay': '1464054', 'Alocasia reginula A.Hay': '1464075', 'Alocasia wentii Engl. & K.Krause': '1464086', 'Alocasia zebrina Schott ex Van Houtte': '1464088'}, 'Dendrobium': {'Dendrobium nobile Lindl.': '1409292', 'Dendrobium chrysotoxum Lindl.': '1409550', 'Dendrobium crumenatum Sw.': '1409551', 'Dendrobium moschatum (Buch.-Ham.) Sw.': '1409552', 'Dendrobium closterium Rchb.f.': '1417117', 'Dendrobium aphyllum (Roxb.) C.E.C.Fisch.': '1419713', 'Dendrobium spp.': '1419720', 'Dendrobium anosmum Lindl.': '1617292', 'Dendrobium kingianum Bidwill ex Lindl.': '1617904', 'Dendrobium munificum (Finet) Schltr.': '1618100', 'Dendrobium thyrsiflorum B.S.Williams': '1618570', 'Dendrobium victoriae-reginae Loher': '1618661'}, 'Calochortus': {'Calochortus macrocarpus Douglas': '1414397', 'Calochortus eurycarpus S. Watson': '1440412', 'Calochortus gunnisonii S. Watson': '1440416', 'Calochortus leichtlinii Hook. f.': '1440423', 'Calochortus luteus Douglas ex Lindl.': '1440425', 'Calochortus splendens Douglas ex Benth.': '1440440', 'Calochortus tolmiei Hook. & Arn.': '1440446'}, 'Nepenthes': {'Nepenthes vieillardii Hook. f.': '1416509', 'Nepenthes spp.': '1420931', 'Nepenthes mirabilis (Lour.) Druce': '1608001', 'Nepenthes × neglecta Macfarl.': '1608003', 'Nepenthes alata Blanco': '1711751', 'Nepenthes truncata Macfarl.': '1711753'}, 'Lithops': {'Lithops fulviceps N.E.Br.': '1418061', 'Lithops karasmontana N.E.Br.': '1418084', 'Lithops marmorata N.E.Br.': '1418102', 'Lithops pseudotruncatella N.E.Br.': '1418140', 'Lithops spp.': '1418191', 'Lithops aucampiae L. Bolus': '1449139', 'Lithops olivacea L. Bolus': '1449149'}}\n"
     ]
    }
   ],
   "source": [
    "from os import listdir\n",
    "\n",
    "genera_to_label = {}\n",
    "name_to_label = dict([(value, key) for key, value in data2.items()])\n",
    "\n",
    "for genera, species in data1.items():\n",
    "    if len(species)>5:      \n",
    "        tmp = {}\n",
    "        for name in species:\n",
    "            label = name_to_label[name]\n",
    "            path = join(PATH[\"PLANTNET-300K\"], \"images\", \"train\", label)\n",
    "            tmp[name] = label\n",
    "        genera_to_label[genera] = tmp.copy()\n",
    "        \n",
    "print(genera_to_label)\n",
    "        \n",
    "        "
   ]
  },
  {
   "cell_type": "code",
   "execution_count": 33,
   "metadata": {},
   "outputs": [
    {
     "data": {
      "text/plain": [
       "{'Daphne gnidium L.': '1360588',\n",
       " 'Daphne laureola L.': '1360590',\n",
       " 'Daphne oleoides Schreb.': '1360591',\n",
       " 'Daphne alpina L.': '1391648',\n",
       " 'Daphne cneorum L.': '1391649',\n",
       " 'Daphne mezereum L.': '1391652',\n",
       " 'Daphne striata Tratt.': '1391654',\n",
       " 'Daphne sericea Vahl': '1399157',\n",
       " 'Daphne odora Thunb.': '1420792',\n",
       " 'Daphne tangutica Maxim.': '1420796'}"
      ]
     },
     "execution_count": 33,
     "metadata": {},
     "output_type": "execute_result"
    }
   ],
   "source": [
    "genera_to_label['Daphne']"
   ]
  },
  {
   "cell_type": "code",
   "execution_count": 31,
   "metadata": {},
   "outputs": [
    {
     "data": {
      "text/plain": [
       "['Lactuca',\n",
       " 'Pelargonium',\n",
       " 'Cirsium',\n",
       " 'Phyllanthus',\n",
       " 'Hypericum',\n",
       " 'Tradescantia',\n",
       " 'Lamium',\n",
       " 'Lavandula',\n",
       " 'Melilotus',\n",
       " 'Trifolium',\n",
       " 'Nymphaea',\n",
       " 'Dryopteris',\n",
       " 'Nephrolepis',\n",
       " 'Sedum',\n",
       " 'Acalypha',\n",
       " 'Acacia',\n",
       " 'Lupinus',\n",
       " 'Papaver',\n",
       " 'Adonis',\n",
       " 'Anemone',\n",
       " 'Daphne',\n",
       " 'Chaerophyllum',\n",
       " 'Phalaris',\n",
       " 'Ophrys',\n",
       " 'Epipactis',\n",
       " 'Cenchrus',\n",
       " 'Schefflera',\n",
       " 'Smilax',\n",
       " 'Crotalaria',\n",
       " 'Barbarea',\n",
       " 'Fragaria',\n",
       " 'Tagetes',\n",
       " 'Prosopis',\n",
       " 'Mussaenda',\n",
       " 'Peperomia',\n",
       " 'Cereus',\n",
       " 'Nothofagus',\n",
       " 'Hebe',\n",
       " 'Angelica',\n",
       " 'Aralia',\n",
       " 'Guatteria',\n",
       " 'Anthurium',\n",
       " 'Alocasia',\n",
       " 'Dendrobium',\n",
       " 'Calochortus',\n",
       " 'Nepenthes',\n",
       " 'Lithops']"
      ]
     },
     "execution_count": 31,
     "metadata": {},
     "output_type": "execute_result"
    }
   ],
   "source": [
    "list(genera_to_label.keys())"
   ]
  },
  {
   "cell_type": "code",
   "execution_count": 17,
   "metadata": {},
   "outputs": [
    {
     "data": {
      "text/plain": [
       "'1394453'"
      ]
     },
     "execution_count": 17,
     "metadata": {},
     "output_type": "execute_result"
    }
   ],
   "source": [
    "name_to_label[\"Pelargonium x hybridum (L.) Aiton\"]"
   ]
  },
  {
   "cell_type": "code",
   "execution_count": null,
   "metadata": {},
   "outputs": [],
   "source": [
    "\"Pelargonium capitatum (L.) L'Hér.\", \"Pelargonium graveolens L'Hér.\", \"Pelargonium odoratissimum (L.) L'Hér.\", \"Pelargonium peltatum (L.) L'Hér.\", \"Pelargonium quercifolium (L. f.) L'Hér.\", \"Pelargonium zonale (L.) L'Hér.\", \"Pelargonium alchemilloides (L.) L'Hér.\", 'Pelargonium quinquelobatum Hochst. ex A. Rich.', 'Pelargonium glechomoides A. Rich.', 'Pelargonium x hybridum (L.) Aiton', 'Pelargonium inquinans (L.) Aiton', 'Pelargonium peltatum (L.) Aiton', 'Pelargonium x asperum Ehrh. ex Willd.', \"Pelargonium crispum (P.J. Bergius) L'Hér.\", 'Pelargonium x hortorum L.H. Bailey', 'Pelargonium spp.', 'Pelargonium grandiflorum Willd.', 'Pelargonium panduriforme Eckl. & Zeyh.', \"Pelargonium zonale (L.) L'Hér. ex Aiton\", 'Pelargonium echinatum Curtis', 'Pelargonium × hortorum L.H. Bailey', 'Pelargonium sidoides DC.', 'Pelargonium tomentosum Jacq.'"
   ]
  }
 ],
 "metadata": {
  "kernelspec": {
   "display_name": "Python 3.7.11 ('base')",
   "language": "python",
   "name": "python3"
  },
  "language_info": {
   "codemirror_mode": {
    "name": "ipython",
    "version": 3
   },
   "file_extension": ".py",
   "mimetype": "text/x-python",
   "name": "python",
   "nbconvert_exporter": "python",
   "pygments_lexer": "ipython3",
   "version": "3.7.11"
  },
  "orig_nbformat": 4,
  "vscode": {
   "interpreter": {
    "hash": "d4d1e4263499bec80672ea0156c357c1ee493ec2b1c70f0acce89fc37c4a6abe"
   }
  }
 },
 "nbformat": 4,
 "nbformat_minor": 2
}
